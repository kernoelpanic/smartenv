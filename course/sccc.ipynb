{
 "cells": [
  {
   "cell_type": "markdown",
   "metadata": {},
   "source": [
    "# https://github.com/kernoelpanic/smartenv"
   ]
  },
  {
   "cell_type": "markdown",
   "metadata": {},
   "source": [
    "# Smart Contract Crash Course"
   ]
  },
  {
   "cell_type": "markdown",
   "metadata": {},
   "source": [
    "This is an introduction to Smart Contracts based on Ethereum. Versions of this crash course have been part of:\n",
    "* The [Cryptocurrencies lecture](https://tiss.tuwien.ac.at/course/courseDetails.xhtml?dswid=1923&dsrid=980&courseNr=192065&semester=2018W) at TU Wien.\n",
    "* The lecture on [Advanced Topics in Internet Computing & Software Technologies](https://ufind.univie.ac.at/de/course.html?lv=052520&semester=2020W) at Uni Wien. "
   ]
  },
  {
   "cell_type": "markdown",
   "metadata": {},
   "source": [
    "## Informal introduction to Smart Contracts"
   ]
  },
  {
   "cell_type": "markdown",
   "metadata": {},
   "source": [
    "* Concept/idea of smart contracts dates back to the 90s \n",
    "* Original definition is attributed to [Nick Szabo 1994](https://web.archive.org/web/20160323035617/http://szabo.best.vwh.net/smart.contracts.html):\n",
    "> “A smart contract is a **computerized transaction\n",
    "protocol that executes the terms of a contract**. The\n",
    "general objectives are to satisfy common contractual\n",
    "conditions (such as payment terms, liens, confidentiality,\n",
    "and even enforcement), **minimize exceptions both\n",
    "malicious and accidental**, and **minimize the need for\n",
    "trusted intermediaries**. Related economic goals include\n",
    "lowering fraud loss, arbitrations and enforcement costs,\n",
    "and other transaction costs.”"
   ]
  },
  {
   "cell_type": "markdown",
   "metadata": {},
   "source": [
    "### Let's envision such a platform, what are the goals and challenges?"
   ]
  },
  {
   "cell_type": "markdown",
   "metadata": {},
   "source": [
    "* **High Level Goals:**\n",
    "    + Decentralized smart contract platform\n",
    "    + Verify the correct execution of each others code\n",
    "        - same code was executed\n",
    "        - the result/output is correct i.e., same inputs leads to same output"
   ]
  },
  {
   "cell_type": "markdown",
   "metadata": {},
   "source": [
    "* **Basic Requirements:**\n",
    "    + Set of nodes also called participants\n",
    "    + Network connection (path to every node)\n",
    "    + Code (boradcast and store on every node)\n",
    "    + Input data (send to every node)"
   ]
  },
  {
   "cell_type": "markdown",
   "metadata": {},
   "source": [
    "* **What can possibly go wrong? A non exhausitve list of ideas:**\n",
    "    + Remote code execution vulnerability per design\n",
    "        - Software security aspects\n",
    "        - Sandbox/VM required\n",
    "        - In Ethereuem: \n",
    "            - EVM (Ethereuem Virtual Machine)\n",
    "            - no disk I/O\n",
    "            - no network connection\n",
    "            - only update to state variables\n",
    "    + Halting problem\n",
    "        - Need to limit the number of execution steps\n",
    "        - In Ethereum:\n",
    "            - Pay *Gas* for every execution step\n",
    "    + Correctness of the deployed code \n",
    "        - Software security aspects ...\n",
    "        - In Ethereum:\n",
    "            - Fail => potentialy lose funds \n",
    "    + Network attacks (MitM, eclipse attacks, DDoS, BGP attacks, ...)\n",
    "        - Network security aspects, cryptography aspects, ...\n",
    "        - Ensure integrity and authenticity of sent transactions\n",
    "        - In Ethereum:\n",
    "            - Transactions contain cryptographic signature of sender\n",
    "    + Need to agree on total order of executions => consensus required\n",
    "        - Distributed systems aspects, cryptography aspects, economic aspects, ...\n",
    "        - In Ethereum:\n",
    "            - Currently Nakamoto Consensus \n",
    "    + Privacy attacks\n",
    "        - Prevent that every purchase can be traced to the involved parties.\n",
    "        - Privacy enhancing technology aspects, regulator and legal aspects, ...\n",
    "        - Mixing, Zero-knowledge proofs, ..."
   ]
  },
  {
   "cell_type": "markdown",
   "metadata": {},
   "source": [
    "## Ethereum"
   ]
  },
  {
   "cell_type": "markdown",
   "metadata": {},
   "source": [
    "Ethereum is a smart contract platform, there are also others (e.g., [Cardano](https://www.cardano.org/en/home/),[hyperleder](https://www.hyperledger.org/),[rootstock](https://www.rootstock.com/),[quorum](https://github.com/jpmorganchase/quorum), ...) but Ethereum is currently the most common. Therefore the tutorial as well as the exercises will focus on Ethereum style smart contracts. \n",
    "\n",
    "**Note:** A lot will (or is supposed to) change in future ethereum versions i.e., [ETH2.0](https://docs.ethhub.io/ethereum-roadmap/ethereum-2.0/eth-2.0-phases/). We focus currently on what is running at the moment i.e., ETH1.x\n",
    "\n"
   ]
  },
  {
   "cell_type": "markdown",
   "metadata": {},
   "source": [
    "### Hard Facts"
   ]
  },
  {
   "cell_type": "markdown",
   "metadata": {},
   "source": [
    "* Ethereum is a Cryptocurrency and smart contract platform proposed 2013 by Vitalik Buterin and Gavin Wood\n",
    "* Currency symbol: ETH\n",
    "* Currency name: **ether**\n",
    "    + smallest unit: **wei**\n",
    "    + 1 ether = 10^18 wei\n",
    "    + Beware: All currency units are per default in wei!\n",
    "* Technically Ethereum EVM is not Turing Complete because of Gas limits *but it doesn’t matter anyway* [1](https://media.consensys.net/ethereum-isnt-turing-complete-and-it-doesn-t-matter-anyway-625061294d3c) [2](https://www.youtube.com/watch?v=cGFOKTm_8zk)\n",
    "* Solidity high-level language, syntax comparable to JavaScript\n",
    "    + compiles to EVM byte code \n",
    "    + executed in EVM (Ethereum Virtual Machine)"
   ]
  },
  {
   "cell_type": "markdown",
   "metadata": {},
   "source": [
    "### Overview"
   ]
  },
  {
   "cell_type": "markdown",
   "metadata": {},
   "source": [
    "Etheruem in [one picture](https://github.com/kernoelpanic/BlockchainIllustrations/tree/master/Ethereum) (slightly outdated but still quite close):"
   ]
  },
  {
   "cell_type": "markdown",
   "metadata": {},
   "source": [
    "<img src=\"https://raw.githubusercontent.com/kernoelpanic/BlockchainIllustrations/master/Ethereum/EthBlockchain5_bg.png\" width=1024 height=768>"
   ]
  },
  {
   "cell_type": "markdown",
   "metadata": {},
   "source": [
    "### Account model\n",
    "In contrast to other Cryptocurrencies like Bitcoin (UTXO), Ethereum has the concept of **accounts** i.e., state which holds the current balance of all addresses. \n",
    "\n",
    "There are two types of accounts:\n",
    "* **Externally controlled** accounts (aka. normal accounts)\n",
    "    + Has an associated private/public key pair, like in Bitcoin\n",
    "        - Address consists of the last `20` bytes of public key\n",
    "        - `${Keccak­256( pk ) ):96:255}`\n",
    "    + Controlled by their private keys with the respective wallet/client \n",
    "* **Contract accounts**\n",
    "    + Has associated code, which is immutable after initialization (`codeHash`)\n",
    "    + Has associated state (`storageRoot`)\n",
    "    + Has **no** associated private/public key pair\n",
    "    + Entirely controlled by its code \n",
    "    + Address is deterministically generated based on\n",
    "        - address of sender and how many transactions/contract creations made so far i.e., nonce\n",
    "        - or deployment code of contract (create2 opcode)\n",
    "    \n",
    "Moreover, each account (external and contract) has:\n",
    "* `address`: 20 byte hex string, also immutable\n",
    "* `balance`: Scalar value equal to the number of Wei owned by this account\n",
    "* `nonce`: Scalar value equal to the number of transactions sent from this external account or, number of contract-creations made by this contract. This value is for replay protection."
   ]
  },
  {
   "cell_type": "markdown",
   "metadata": {},
   "source": [
    "### Terminology and important references "
   ]
  },
  {
   "cell_type": "markdown",
   "metadata": {},
   "source": [
    "#### Ethereum(s)\n",
    "There are several Ethereum(s) (due to community disagreement about the DAO Hack), but those are (still) technically more or less the same, dispite their blockchains differ since the DAO Hack : \n",
    "* [Ethereum](https://www.ethereum.org/)\n",
    "    - we will refer to this Ethereum for the rest of the lecture\n",
    "    - [wiki](https://eth.wiki/en/home)\n",
    "    - [ethhub](https://docs.ethhub.io/)\n",
    "    - [yellow paper](https://ethereum.github.io/yellowpaper/paper.pdf)\n",
    "    - [yellow paper github](https://github.com/ethereum/yellowpaper) (really the current version)\n",
    "    - ~~[white paper](https://eth.wiki/en/white-Paper) (more decent introduction)~~\n",
    "* [Ethereum Classic](https://ethereumclassic.github.io/)\n",
    "\n",
    "#### Versions / Roadmap\n",
    "The major versions of the Ethereum specification have dedicated names like: *Frontier*, *Homestead*, *Metropolis*, *Byzantium*, *Constantinople*, *Petersburg*, *Istanbul*, *Muir Glacier*, *Berlin*, *ETH 2.0*, ... \n",
    "\n",
    "#### Clients\n",
    "There are also several Ethereum [clients](https://ethereum.org/en/developers/docs/nodes-and-clients/#clients) e.g.,:\n",
    "* [geth](https://github.com/ethereum/go-ethereum)\n",
    "    - [wiki](https://geth.ethereum.org/docs/getting-started)\n",
    "    - written in go\n",
    "    - we will use this client in the project/exercise\n",
    "* ~~[parity](https://github.com/paritytech/parity-ethereum)~~ [openethereum](https://github.com/openethereum/openethereum)\n",
    "    - written in rust\n",
    "* ~~[cpp-ethereum](https://github.com/ethereum/aleth/wiki)~~\n",
    "    - written in cpp\n",
    "* ~~[pyethapp](https://github.com/ethereum/pyethapp)~~\n",
    "    - written in python\n",
    "    - mostly for dev. purposes\n",
    "\n",
    "#### Mainnet and Testnets\n",
    "There are several Ethereum [networks](https://ethereum.org/en/developers/docs/networks/) / blockchains.\n",
    "\n",
    "* Mainnet\n",
    "    - web blockchain explorers:\n",
    "        - [Etherscan](https://etherscan.io/)\n",
    "        - [Etherchain](https://www.etherchain.org/)\n",
    "* Public Testnets e.g.,:\n",
    "    - *Ropsten* \n",
    "        - PoW, should be compatiple with all clients that also work on main chain\n",
    "        - [Etherscan Ropsten explorer](https://ropsten.etherscan.io/)\n",
    "    - *Morden*\n",
    "        - Old public PoW testnet, now Ethereum classic testnet\n",
    "    - *Rinkeby*\n",
    "        - Public PoA geth compatible testnet\n",
    "    - *Kovan*\n",
    "        - Public PoA parity compatible testnet \n",
    "    - *Görli*\n",
    "        - Cross-client PoA\n",
    "    \n",
    "* Private or development testnets. \n",
    "    - Development testnet provided by [ganache-cli](https://github.com/trufflesuite/ganache-cli/tree/master)\n",
    "    - Proof-of-Authority (PoA) network provided by `geth` through *clique*.\n",
    "    - ...\n",
    "\n",
    "For the challenges we will use a private `geth` PoA network to which you will connect your nodes. "
   ]
  },
  {
   "cell_type": "markdown",
   "metadata": {},
   "source": [
    "## Connect and interface with `geth`or `ganache` using web3py"
   ]
  },
  {
   "cell_type": "markdown",
   "metadata": {},
   "source": [
    "The most common client lib to interface with ethereum clients (`geth`,`ganache`,...) is **web3**.\n",
    "* [web3.js](https://github.com/ethereum/web3.js/)\n",
    "    - node.js version\n",
    "    - [API](https://web3js.readthedocs.io/)\n",
    "* [web3py](https://github.com/ethereum/web3.py)\n",
    "    - python version\n",
    "    - as I prefer python, we will use this one ;)\n",
    "    - [API](https://web3py.readthedocs.io/)\n",
    "\n",
    "Most commands issued via `web3py` are the same when connected to `ganache-cli`, or a \"real\" `geth` or `openethereum` node. BUT there might also be subtle differences between command when attached to `geth`, when working via `web3.py` or when working with `web3.js` or with other clients like `openethereum`. \n",
    "\n",
    "* [ganache-cli](https://github.com/trufflesuite/ganache-cli/tree/master)\n",
    "    - [API](https://github.com/trufflesuite/ganache-cli#implemented-methods)\n",
    "    \n",
    "* [geth console](https://geth.ethereum.org/docs/interface/javascript-console) \n",
    "    - has a link to the supported API via the geth console, which should be the \"full\" `web3.js` API.\n",
    "    - [geth cli options](https://geth.ethereum.org/docs/interface/command-line-options) only needed when running geth from the command line\n",
    "\n",
    "### Connect to  to `ganache-cli` development testnet via RPC / HTTP\n",
    "Import the web3 libarary and connect to a running `geth`,`openethereum` or `ganache-cli` node via `HTTPProvider`\n"
   ]
  },
  {
   "cell_type": "code",
   "execution_count": 1,
   "metadata": {},
   "outputs": [],
   "source": [
    "import web3\n",
    "\n",
    "w3_ganache = web3.Web3(web3.Web3.HTTPProvider(\"http://172.18.0.2:8545\"))\n",
    "# check if connection was successful\n",
    "assert w3_ganache.isConnected()"
   ]
  },
  {
   "cell_type": "markdown",
   "metadata": {},
   "source": [
    "If connected to `geth`,`openethereuem` or as in our case to `ganache` you can execute serveral commands with the client to interact with the blockchain the client is sychronizing to. "
   ]
  },
  {
   "cell_type": "markdown",
   "metadata": {},
   "source": [
    "First it is always good the check to which node and blockchain the client is connected. In our case `ganache` starts a development chain with a random ID. The network ID provides information on which network the connected node resides.\n",
    "The Ethereuem main network has id `1`.\n",
    "Public test networks or private custom test networks should have different network IDs.\n",
    "For a list of network IDs see this list:\n",
    "* https://ethereum.stackexchange.com/questions/17051/how-to-select-a-network-id-or-is-there-a-list-of-network-ids\n",
    "\n",
    "**Note:** Ethereuem and Ethereuem Classice have the same network ID! To avoid replay attacks of transactions the `CHAIN_ID` was introduced and is used in transactions (encoded into the signature creation, see below). \n",
    "* https://github.com/ethereum/EIPs/blob/master/EIPS/eip-155.md"
   ]
  },
  {
   "cell_type": "code",
   "execution_count": 2,
   "metadata": {},
   "outputs": [
    {
     "data": {
      "text/plain": [
       "'EthereumJS TestRPC/v2.13.2/ethereum-js'"
      ]
     },
     "execution_count": 2,
     "metadata": {},
     "output_type": "execute_result"
    }
   ],
   "source": [
    "# display the client version of the node we are connected to\n",
    "w3_ganache.clientVersion"
   ]
  },
  {
   "cell_type": "code",
   "execution_count": 3,
   "metadata": {},
   "outputs": [
    {
     "data": {
      "text/plain": [
       "'1625154330440'"
      ]
     },
     "execution_count": 3,
     "metadata": {},
     "output_type": "execute_result"
    }
   ],
   "source": [
    "# display network ID of client you are connected to\n",
    "# In case of ganache-cli this is a random ID\n",
    "w3_ganache.net.version"
   ]
  },
  {
   "cell_type": "markdown",
   "metadata": {},
   "source": [
    "Check the web3 API version:"
   ]
  },
  {
   "cell_type": "code",
   "execution_count": 4,
   "metadata": {},
   "outputs": [
    {
     "data": {
      "text/plain": [
       "'5.20.0'"
      ]
     },
     "execution_count": 4,
     "metadata": {},
     "output_type": "execute_result"
    }
   ],
   "source": [
    "w3_ganache.api #web3 version used"
   ]
  },
  {
   "cell_type": "markdown",
   "metadata": {},
   "source": [
    "### Connect to  to `geth` testnet via RPC / HTTP"
   ]
  },
  {
   "cell_type": "markdown",
   "metadata": {},
   "source": [
    "Note that in our case `geth` is running in a private PoA chain setup.\n",
    "Therefore, some configuration parameters are different. "
   ]
  },
  {
   "cell_type": "markdown",
   "metadata": {},
   "source": [
    "https://web3py.readthedocs.io/en/stable/middleware.html#geth-style-proof-of-authority"
   ]
  },
  {
   "cell_type": "markdown",
   "metadata": {},
   "source": [
    "For the challenge environment configuration the docker container for the geth client `Bob` is located at `172.18.0.8`."
   ]
  },
  {
   "cell_type": "code",
   "execution_count": 5,
   "metadata": {},
   "outputs": [],
   "source": [
    "import web3\n",
    "from web3.middleware import geth_poa_middleware\n",
    "\n",
    "w3_geth = web3.Web3(web3.Web3.HTTPProvider(\"http://172.18.0.8:8545\"))\n",
    "# check if connection was successful\n",
    "assert w3_geth.isConnected()\n",
    "\n",
    "w3_geth.middleware_onion.inject(geth_poa_middleware, layer=0)"
   ]
  },
  {
   "cell_type": "code",
   "execution_count": 6,
   "metadata": {},
   "outputs": [
    {
     "data": {
      "text/plain": [
       "'Geth/bob/v1.10.3-stable-991384a7/linux-amd64/go1.15.4'"
      ]
     },
     "execution_count": 6,
     "metadata": {},
     "output_type": "execute_result"
    }
   ],
   "source": [
    "# display the client version of the node we are connected to\n",
    "w3_geth.clientVersion"
   ]
  },
  {
   "cell_type": "code",
   "execution_count": 7,
   "metadata": {},
   "outputs": [
    {
     "data": {
      "text/plain": [
       "'25519'"
      ]
     },
     "execution_count": 7,
     "metadata": {},
     "output_type": "execute_result"
    }
   ],
   "source": [
    "# display network ID of client you are connected to\n",
    "w3_geth.net.version"
   ]
  },
  {
   "cell_type": "code",
   "execution_count": 8,
   "metadata": {},
   "outputs": [
    {
     "data": {
      "text/plain": [
       "'5.20.0'"
      ]
     },
     "execution_count": 8,
     "metadata": {},
     "output_type": "execute_result"
    }
   ],
   "source": [
    "w3_geth.api #web3 version used"
   ]
  },
  {
   "cell_type": "markdown",
   "metadata": {},
   "source": [
    "When running `geth` you can also attach to it and use the JavaScript console (Read, Evaluate & Print Loop = REPL). \n",
    "Some stuff works in the geth console that does not work in `web3*`.\n",
    "If for example `geth` is running on localhost start the binary again to attach to the running instance:\n",
    "```\n",
    "geth attach \"http://localhost:8545\"\n",
    "```"
   ]
  },
  {
   "cell_type": "markdown",
   "metadata": {},
   "source": [
    "The script [geth_attach.sh](../util/scripts/geth_attach.sh) helps you when attaching to a local geth instance which is either running in docker or natively. "
   ]
  },
  {
   "cell_type": "markdown",
   "metadata": {},
   "source": [
    "### Node information"
   ]
  },
  {
   "cell_type": "markdown",
   "metadata": {},
   "source": [
    "From our `geth` node we can also retrieve some more node information:"
   ]
  },
  {
   "cell_type": "code",
   "execution_count": 9,
   "metadata": {},
   "outputs": [
    {
     "data": {
      "text/plain": [
       "AttributeDict({'id': 'a6451aabd35904b2068f2a014758448a3c985579be5a4acaa4560ecead81b3d0',\n",
       " 'name': 'Geth/bob/v1.10.3-stable-991384a7/linux-amd64/go1.15.4',\n",
       " 'enode': 'enode://792d5bb890a62cfdf8ce7d0cb8bd0f1e8a26865e34db9ff7aa0f61ff2587988f6ab47a0ca0ad22054fd475729062a86be7c096377efaf2f4627f6371cd8c34e9@127.0.0.1:30303',\n",
       " 'enr': 'enr:-J24QNgcR92GA04h1nxvKDKIE8g9xyJYEzLEYsjFyHwU8LeRFKVKS3XUwBa5fTvT0sfkkOLkMyBSUQdXr1R1KZ-PHaoEg2V0aMfGhN-cwFGAgmlkgnY0gmlwhH8AAAGJc2VjcDI1NmsxoQN5LVu4kKYs_fjOfQy4vQ8eiiaGXjTbn_eqD2H_JYeYj4RzbmFwwIN0Y3CCdl-DdWRwgnZf',\n",
       " 'ip': '127.0.0.1',\n",
       " 'ports': AttributeDict({'discovery': 30303, 'listener': 30303}),\n",
       " 'listenAddr': '[::]:30303',\n",
       " 'protocols': AttributeDict({'eth': AttributeDict({'network': 25519,\n",
       "   'difficulty': 19749,\n",
       "   'genesis': '0xa5f0a078d24ba19a4f4f01b77aa1d13d965b95dfbdca6ba2fa79e711d481272e',\n",
       "   'config': AttributeDict({'chainId': 25519,\n",
       "    'homesteadBlock': 0,\n",
       "    'eip150Block': 0,\n",
       "    'eip150Hash': '0x0000000000000000000000000000000000000000000000000000000000000000',\n",
       "    'eip155Block': 0,\n",
       "    'eip158Block': 0,\n",
       "    'byzantiumBlock': 0,\n",
       "    'constantinopleBlock': 0,\n",
       "    'petersburgBlock': 0,\n",
       "    'istanbulBlock': 0,\n",
       "    'berlinBlock': 0,\n",
       "    'clique': AttributeDict({'period': 16, 'epoch': 30000})}),\n",
       "   'head': '0x69379742d4ab14f167e08ca60118461453640aad4a5a5613b88f9984b6400318'}),\n",
       "  'snap': AttributeDict({})})})"
      ]
     },
     "execution_count": 9,
     "metadata": {},
     "output_type": "execute_result"
    }
   ],
   "source": [
    "w3_geth.geth.admin.nodeInfo()"
   ]
  },
  {
   "cell_type": "markdown",
   "metadata": {},
   "source": [
    "### Network information"
   ]
  },
  {
   "cell_type": "markdown",
   "metadata": {},
   "source": [
    "We now check if the node is connected to other peers e.g., other `geth` clients.\n",
    "\n",
    "For our tutorial `ganache` is not connected to any peer since we have our own local development blockchain. Our web3.py connection is not a peer! The web3.py connection is just our interface to our client, therefore only local.\n",
    "\n",
    "For the exercise your `geth` node will connect to our server in the private PoA testnet. Then you should see at least one peer i.e., our server. For a connection to be successful there are two requirements:\n",
    "* Both peers need to have the same **network ID** \n",
    "* Both peers need to have the same **genesis.json** / genesis block"
   ]
  },
  {
   "cell_type": "code",
   "execution_count": 10,
   "metadata": {},
   "outputs": [
    {
     "data": {
      "text/plain": [
       "0"
      ]
     },
     "execution_count": 10,
     "metadata": {},
     "output_type": "execute_result"
    }
   ],
   "source": [
    "# number of connected peers to our peer\n",
    "w3_ganache.net.peerCount"
   ]
  },
  {
   "cell_type": "code",
   "execution_count": 11,
   "metadata": {},
   "outputs": [
    {
     "data": {
      "text/plain": [
       "1"
      ]
     },
     "execution_count": 11,
     "metadata": {},
     "output_type": "execute_result"
    }
   ],
   "source": [
    "w3_geth.net.peerCount"
   ]
  },
  {
   "cell_type": "markdown",
   "metadata": {},
   "source": [
    "List connected peers, and observe the endoe of the peer we are connected to. It should be the same as in the header of the Makefile [Makefile](../Makefile) :"
   ]
  },
  {
   "cell_type": "code",
   "execution_count": 12,
   "metadata": {},
   "outputs": [
    {
     "data": {
      "text/plain": [
       "[AttributeDict({'enode': 'enode://9d3297cebb326554af6e6d3146c19856b42a4e97f5a361bd51d8cdf66881ddc65ca54ba4082a2bcba236f1a18082ad3315fb2f5065c617dc7bead1d0c07b6f61@131.130.126.71:30303',\n",
       "  'id': '11ee2e712a33a71f0c3cf7ee7cca0520c3b18584cda5ecd83ba8376a7248de64',\n",
       "  'name': 'Geth/alice/v1.10.3-stable-991384a7/linux-amd64/go1.15.4',\n",
       "  'caps': ['eth/65', 'eth/66', 'snap/1'],\n",
       "  'network': AttributeDict({'localAddress': '172.18.0.8:46468',\n",
       "   'remoteAddress': '131.130.126.71:30303',\n",
       "   'inbound': False,\n",
       "   'trusted': False,\n",
       "   'static': False}),\n",
       "  'protocols': AttributeDict({'eth': AttributeDict({'version': 66,\n",
       "    'difficulty': 19761,\n",
       "    'head': '0xe84cbd2f8a907a364efc3157cfe7a6d8a98b59b3a1042d65616a6bf3807bcfa4'}),\n",
       "   'snap': AttributeDict({'version': 1})})})]"
      ]
     },
     "execution_count": 12,
     "metadata": {},
     "output_type": "execute_result"
    }
   ],
   "source": [
    "w3_geth.geth.admin.peers()"
   ]
  },
  {
   "cell_type": "markdown",
   "metadata": {},
   "source": [
    "Get the enode of the node we are connected to:"
   ]
  },
  {
   "cell_type": "code",
   "execution_count": 13,
   "metadata": {},
   "outputs": [
    {
     "data": {
      "text/plain": [
       "'enode://792d5bb890a62cfdf8ce7d0cb8bd0f1e8a26865e34db9ff7aa0f61ff2587988f6ab47a0ca0ad22054fd475729062a86be7c096377efaf2f4627f6371cd8c34e9@127.0.0.1:30303'"
      ]
     },
     "execution_count": 13,
     "metadata": {},
     "output_type": "execute_result"
    }
   ],
   "source": [
    "enode = w3_geth.geth.admin.nodeInfo()['enode']\n",
    "enode"
   ]
  },
  {
   "cell_type": "markdown",
   "metadata": {},
   "source": [
    "Check if the node itself is listenging for connections:"
   ]
  },
  {
   "cell_type": "code",
   "execution_count": 14,
   "metadata": {},
   "outputs": [
    {
     "data": {
      "text/plain": [
       "True"
      ]
     },
     "execution_count": 14,
     "metadata": {},
     "output_type": "execute_result"
    }
   ],
   "source": [
    "w3_geth.net.listening"
   ]
  },
  {
   "cell_type": "markdown",
   "metadata": {},
   "source": [
    "### Syncing/blockchain information"
   ]
  },
  {
   "cell_type": "markdown",
   "metadata": {},
   "source": [
    "For the exercise it will also be important to chech if your node is synchronized with the head of the blockchain i.e., our PoA node. \n",
    "If the node is started for the first time he will after some time start syncing. \n",
    "If syncing is *False* then you should see a `blockNumber` > 0"
   ]
  },
  {
   "cell_type": "code",
   "execution_count": 15,
   "metadata": {},
   "outputs": [
    {
     "data": {
      "text/plain": [
       "False"
      ]
     },
     "execution_count": 15,
     "metadata": {},
     "output_type": "execute_result"
    }
   ],
   "source": [
    "# check if node is \"up-to-date\" with blockchain, \n",
    "# i.e., not syncing anymore\n",
    "w3_ganache.eth.syncing"
   ]
  },
  {
   "cell_type": "code",
   "execution_count": 18,
   "metadata": {},
   "outputs": [
    {
     "data": {
      "text/plain": [
       "False"
      ]
     },
     "execution_count": 18,
     "metadata": {},
     "output_type": "execute_result"
    }
   ],
   "source": [
    "w3_geth.eth.syncing"
   ]
  },
  {
   "cell_type": "code",
   "execution_count": 19,
   "metadata": {},
   "outputs": [
    {
     "data": {
      "text/plain": [
       "0"
      ]
     },
     "execution_count": 19,
     "metadata": {},
     "output_type": "execute_result"
    }
   ],
   "source": [
    "# return current blockchain head of node\n",
    "# Since ganache \"simulates\" blokchain,\n",
    "# blocks are mined on demand.\n",
    "# Therefore, no block has been mined yet\n",
    "w3_ganache.eth.blockNumber"
   ]
  },
  {
   "cell_type": "code",
   "execution_count": 21,
   "metadata": {},
   "outputs": [
    {
     "data": {
      "text/plain": [
       "9890"
      ]
     },
     "execution_count": 21,
     "metadata": {},
     "output_type": "execute_result"
    }
   ],
   "source": [
    "# Since our testnet is constantly creating blocks we should see a number > 0 \n",
    "w3_geth.eth.blockNumber"
   ]
  },
  {
   "cell_type": "markdown",
   "metadata": {},
   "source": [
    "# Basic interaction"
   ]
  },
  {
   "cell_type": "markdown",
   "metadata": {},
   "source": [
    "For all further interaction please continue with the respective clients used: \n",
    "* [geth](./sccc-geth.ipynb)\n",
    "* [ganache-cli](./sccc-ganache-cli.ipynb)"
   ]
  },
  {
   "cell_type": "code",
   "execution_count": null,
   "metadata": {},
   "outputs": [],
   "source": []
  }
 ],
 "metadata": {
  "kernelspec": {
   "display_name": "Python 3",
   "language": "python",
   "name": "python3"
  },
  "language_info": {
   "codemirror_mode": {
    "name": "ipython",
    "version": 3
   },
   "file_extension": ".py",
   "mimetype": "text/x-python",
   "name": "python",
   "nbconvert_exporter": "python",
   "pygments_lexer": "ipython3",
   "version": "3.8.5"
  }
 },
 "nbformat": 4,
 "nbformat_minor": 2
}
