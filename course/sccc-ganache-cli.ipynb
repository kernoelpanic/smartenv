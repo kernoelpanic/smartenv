{
 "cells": [
  {
   "cell_type": "markdown",
   "metadata": {
    "slideshow": {
     "slide_type": "slide"
    }
   },
   "source": [
    "# https://github.com/kernoelpanic/smartenv"
   ]
  },
  {
   "cell_type": "markdown",
   "metadata": {
    "slideshow": {
     "slide_type": "slide"
    }
   },
   "source": [
    "# Smart Contract Crash Course - Basic interaction with `ganache-cli`"
   ]
  },
  {
   "cell_type": "markdown",
   "metadata": {
    "slideshow": {
     "slide_type": "subslide"
    }
   },
   "source": [
    "The most common client lib to interface with ethereum clients (`geth`,`ganache`,...) is **web3**.\n",
    "* [web3.js](https://github.com/ethereum/web3.js/)\n",
    "    - node.js version\n",
    "    - [API](https://web3js.readthedocs.io/)\n",
    "* [web3py](https://github.com/ethereum/web3.py)\n",
    "    - python version\n",
    "    - as I prefer python, we will use this one ;)\n",
    "    - [API](https://web3py.readthedocs.io/)\n",
    "\n",
    "For the tutorial we will only interact with `ganache` which uses his own local development testnet blockchain. \n",
    "* ~~[ganache-cli](https://github.com/trufflesuite/ganache-cli/tree/master)~~ Depricated by `ganache`\n",
    "    - [API](https://github.com/trufflesuite/ganache-cli#implemented-methods)\n",
    "* ~~[ganache](https://github.com/trufflesuite/ganache/tree/master)~~ Depricated by ... \n",
    "    - [ganache cli options](https://trufflesuite.com/docs/ganache/reference/cli-options/)\n",
    "* \n",
    "\n",
    "## Connect via RPC / HTTP\n",
    "Import the web3 libarary and connect to a running `ganache-cli` node via `HTTPProvider`\n",
    "For the tutorial configuration the docker container of ganache is located at `172.18.0.2`."
   ]
  },
  {
   "cell_type": "code",
   "execution_count": 1,
   "metadata": {
    "slideshow": {
     "slide_type": "slide"
    }
   },
   "outputs": [],
   "source": [
    "import web3\n",
    "\n",
    "w3_ganache = web3.Web3(web3.Web3.HTTPProvider(\"http://172.18.0.2:8545\"))\n",
    "# check if connection was successful\n",
    "assert w3_ganache.is_connected()"
   ]
  },
  {
   "cell_type": "code",
   "execution_count": 2,
   "metadata": {
    "slideshow": {
     "slide_type": "subslide"
    }
   },
   "outputs": [
    {
     "data": {
      "text/plain": [
       "'Ganache/v7.9.1/EthereumJS TestRPC/v7.9.1/ethereum-js'"
      ]
     },
     "execution_count": 2,
     "metadata": {},
     "output_type": "execute_result"
    }
   ],
   "source": [
    "# Client version, should be TestRPC\n",
    "w3_ganache.client_version"
   ]
  },
  {
   "cell_type": "code",
   "execution_count": 3,
   "metadata": {
    "slideshow": {
     "slide_type": "subslide"
    }
   },
   "outputs": [
    {
     "data": {
      "text/plain": [
       "'1702994583962'"
      ]
     },
     "execution_count": 3,
     "metadata": {},
     "output_type": "execute_result"
    }
   ],
   "source": [
    "# display network ID of client you are connected to, should be a random int\n",
    "w3_ganache.net.version"
   ]
  },
  {
   "cell_type": "code",
   "execution_count": 4,
   "metadata": {
    "slideshow": {
     "slide_type": "subslide"
    }
   },
   "outputs": [
    {
     "data": {
      "text/plain": [
       "0"
      ]
     },
     "execution_count": 4,
     "metadata": {},
     "output_type": "execute_result"
    }
   ],
   "source": [
    "# number of connected peers to our peer should be 0\n",
    "w3_ganache.net.peer_count"
   ]
  },
  {
   "cell_type": "code",
   "execution_count": 5,
   "metadata": {
    "slideshow": {
     "slide_type": "skip"
    }
   },
   "outputs": [],
   "source": [
    "w3 = w3_ganache"
   ]
  },
  {
   "cell_type": "markdown",
   "metadata": {
    "slideshow": {
     "slide_type": "slide"
    }
   },
   "source": [
    "## Blocks"
   ]
  },
  {
   "cell_type": "code",
   "execution_count": 6,
   "metadata": {},
   "outputs": [
    {
     "data": {
      "text/plain": [
       "0"
      ]
     },
     "execution_count": 6,
     "metadata": {},
     "output_type": "execute_result"
    }
   ],
   "source": [
    "# return current blockchain head of node\n",
    "# Since ganache \"simulates\" blokchain,\n",
    "# blocks are mined on demand.\n",
    "# Therefore, no block has been mined yet\n",
    "w3.eth.block_number"
   ]
  },
  {
   "cell_type": "code",
   "execution_count": 7,
   "metadata": {},
   "outputs": [
    {
     "data": {
      "text/plain": [
       "AttributeDict({'hash': HexBytes('0x53cf150ed9f9024a6a48922701e0c10ff9584a07a5660f20daa213fc632dd258'),\n",
       " 'parentHash': HexBytes('0x0000000000000000000000000000000000000000000000000000000000000000'),\n",
       " 'sha3Uncles': HexBytes('0x1dcc4de8dec75d7aab85b567b6ccd41ad312451b948a7413f0a142fd40d49347'),\n",
       " 'miner': '0xebD9A7D2598068499d5885ACf21D3a46248497e0',\n",
       " 'stateRoot': HexBytes('0x7677c2bb58390991da5fbb3f583b4b78f34511d3f2f2b52c3214386a56abb843'),\n",
       " 'transactionsRoot': HexBytes('0x56e81f171bcc55a6ff8345e692c0f86e5b48e01b996cadc001622fb5e363b421'),\n",
       " 'receiptsRoot': HexBytes('0x56e81f171bcc55a6ff8345e692c0f86e5b48e01b996cadc001622fb5e363b421'),\n",
       " 'logsBloom': HexBytes('0x00000000000000000000000000000000000000000000000000000000000000000000000000000000000000000000000000000000000000000000000000000000000000000000000000000000000000000000000000000000000000000000000000000000000000000000000000000000000000000000000000000000000000000000000000000000000000000000000000000000000000000000000000000000000000000000000000000000000000000000000000000000000000000000000000000000000000000000000000000000000000000000000000000000000000000000000000000000000000000000000000000000000000000000000000000000'),\n",
       " 'difficulty': 0,\n",
       " 'number': 0,\n",
       " 'gasLimit': 80000000,\n",
       " 'gasUsed': 0,\n",
       " 'timestamp': 1702994584,\n",
       " 'extraData': HexBytes('0x'),\n",
       " 'mixHash': HexBytes('0x75903135a34869d3dd05a8db4dc4cbe747f795781d0a131feea3f809837084b8'),\n",
       " 'nonce': HexBytes('0x0000000000000000'),\n",
       " 'totalDifficulty': 0,\n",
       " 'baseFeePerGas': 1000000000,\n",
       " 'withdrawalsRoot': HexBytes('0x56e81f171bcc55a6ff8345e692c0f86e5b48e01b996cadc001622fb5e363b421'),\n",
       " 'size': 548,\n",
       " 'transactions': [],\n",
       " 'uncles': [],\n",
       " 'withdrawals': []})"
      ]
     },
     "execution_count": 7,
     "metadata": {},
     "output_type": "execute_result"
    }
   ],
   "source": [
    "# block 0 ist the genesis block\n",
    "genesis_block = w3.eth.get_block(0)\n",
    "genesis_block"
   ]
  },
  {
   "cell_type": "markdown",
   "metadata": {},
   "source": [
    "As you see, the genesis block is special as it is the only block with no parent hash:"
   ]
  },
  {
   "cell_type": "code",
   "execution_count": 8,
   "metadata": {},
   "outputs": [
    {
     "data": {
      "text/plain": [
       "0"
      ]
     },
     "execution_count": 8,
     "metadata": {},
     "output_type": "execute_result"
    }
   ],
   "source": [
    "genesis_block['number']"
   ]
  },
  {
   "cell_type": "code",
   "execution_count": 9,
   "metadata": {},
   "outputs": [
    {
     "data": {
      "text/plain": [
       "HexBytes('0x0000000000000000000000000000000000000000000000000000000000000000')"
      ]
     },
     "execution_count": 9,
     "metadata": {},
     "output_type": "execute_result"
    }
   ],
   "source": [
    "genesis_block['parentHash']"
   ]
  },
  {
   "cell_type": "code",
   "execution_count": 10,
   "metadata": {},
   "outputs": [
    {
     "data": {
      "text/plain": [
       "{'id': 6, 'jsonrpc': '2.0', 'result': '0x0'}"
      ]
     },
     "execution_count": 10,
     "metadata": {},
     "output_type": "execute_result"
    }
   ],
   "source": [
    "# instruct our test blockchain to mine a block\n",
    "w3.provider.make_request('evm_mine',params='')"
   ]
  },
  {
   "cell_type": "raw",
   "metadata": {},
   "source": [
    "# for older web3py versions the command was:\n",
    "w3.providers[0].make_request('evm_mine',params='')"
   ]
  },
  {
   "cell_type": "code",
   "execution_count": 11,
   "metadata": {},
   "outputs": [
    {
     "data": {
      "text/plain": [
       "1"
      ]
     },
     "execution_count": 11,
     "metadata": {},
     "output_type": "execute_result"
    }
   ],
   "source": [
    "w3.eth.block_number"
   ]
  },
  {
   "cell_type": "code",
   "execution_count": 12,
   "metadata": {},
   "outputs": [
    {
     "data": {
      "text/plain": [
       "AttributeDict({'hash': HexBytes('0xf05130a8e322198de8aeade0a6735c77b716801807416c193e7676d5ec39f9f4'),\n",
       " 'parentHash': HexBytes('0x53cf150ed9f9024a6a48922701e0c10ff9584a07a5660f20daa213fc632dd258'),\n",
       " 'sha3Uncles': HexBytes('0x1dcc4de8dec75d7aab85b567b6ccd41ad312451b948a7413f0a142fd40d49347'),\n",
       " 'miner': '0xebD9A7D2598068499d5885ACf21D3a46248497e0',\n",
       " 'stateRoot': HexBytes('0x7677c2bb58390991da5fbb3f583b4b78f34511d3f2f2b52c3214386a56abb843'),\n",
       " 'transactionsRoot': HexBytes('0x56e81f171bcc55a6ff8345e692c0f86e5b48e01b996cadc001622fb5e363b421'),\n",
       " 'receiptsRoot': HexBytes('0x56e81f171bcc55a6ff8345e692c0f86e5b48e01b996cadc001622fb5e363b421'),\n",
       " 'logsBloom': HexBytes('0x00000000000000000000000000000000000000000000000000000000000000000000000000000000000000000000000000000000000000000000000000000000000000000000000000000000000000000000000000000000000000000000000000000000000000000000000000000000000000000000000000000000000000000000000000000000000000000000000000000000000000000000000000000000000000000000000000000000000000000000000000000000000000000000000000000000000000000000000000000000000000000000000000000000000000000000000000000000000000000000000000000000000000000000000000000000'),\n",
       " 'difficulty': 0,\n",
       " 'number': 1,\n",
       " 'gasLimit': 80000000,\n",
       " 'gasUsed': 0,\n",
       " 'timestamp': 1702994716,\n",
       " 'extraData': HexBytes('0x'),\n",
       " 'mixHash': HexBytes('0xa411928c2512656799ea8c0bc957c4a235ff568df16ef9ef900795d5768b5656'),\n",
       " 'nonce': HexBytes('0x0000000000000000'),\n",
       " 'totalDifficulty': 0,\n",
       " 'baseFeePerGas': 875000000,\n",
       " 'withdrawalsRoot': HexBytes('0x56e81f171bcc55a6ff8345e692c0f86e5b48e01b996cadc001622fb5e363b421'),\n",
       " 'size': 548,\n",
       " 'transactions': [],\n",
       " 'uncles': [],\n",
       " 'withdrawals': []})"
      ]
     },
     "execution_count": 12,
     "metadata": {},
     "output_type": "execute_result"
    }
   ],
   "source": [
    "first_block = w3.eth.get_block(1)\n",
    "first_block"
   ]
  },
  {
   "cell_type": "code",
   "execution_count": 13,
   "metadata": {},
   "outputs": [
    {
     "data": {
      "text/plain": [
       "1"
      ]
     },
     "execution_count": 13,
     "metadata": {},
     "output_type": "execute_result"
    }
   ],
   "source": [
    "first_block['number']"
   ]
  },
  {
   "cell_type": "code",
   "execution_count": 14,
   "metadata": {},
   "outputs": [
    {
     "data": {
      "text/plain": [
       "HexBytes('0x53cf150ed9f9024a6a48922701e0c10ff9584a07a5660f20daa213fc632dd258')"
      ]
     },
     "execution_count": 14,
     "metadata": {},
     "output_type": "execute_result"
    }
   ],
   "source": [
    "first_block['parentHash']"
   ]
  },
  {
   "cell_type": "code",
   "execution_count": 15,
   "metadata": {
    "scrolled": true
   },
   "outputs": [
    {
     "data": {
      "text/plain": [
       "True"
      ]
     },
     "execution_count": 15,
     "metadata": {},
     "output_type": "execute_result"
    }
   ],
   "source": [
    "# our node is configured to mine blocks \n",
    "w3.eth.mining"
   ]
  },
  {
   "cell_type": "code",
   "execution_count": 16,
   "metadata": {},
   "outputs": [
    {
     "data": {
      "text/plain": [
       "0"
      ]
     },
     "execution_count": 16,
     "metadata": {},
     "output_type": "execute_result"
    }
   ],
   "source": [
    "# but since it is a fake chain we have no hashrate\n",
    "w3.eth.hashrate"
   ]
  },
  {
   "cell_type": "markdown",
   "metadata": {},
   "source": [
    "## Externally Owned Accounts"
   ]
  },
  {
   "cell_type": "markdown",
   "metadata": {},
   "source": [
    "Accounts are your **external accounts** consisting of public and private keys. \n",
    "The ethereum address are the last 40 hex characters (20 bytes) of the hash (Keccak-256) of the public key prefixed with `0x`\n",
    "\n",
    "`ganache` generates a list of accounts on startup. \n",
    "For the challenges you will recieve your personal account keypair which you have to copy in your `geth` datadir folder to import it. "
   ]
  },
  {
   "cell_type": "code",
   "execution_count": 17,
   "metadata": {},
   "outputs": [
    {
     "data": {
      "text/plain": [
       "['0x90F8bf6A479f320ead074411a4B0e7944Ea8c9C1',\n",
       " '0xFFcf8FDEE72ac11b5c542428B35EEF5769C409f0',\n",
       " '0x22d491Bde2303f2f43325b2108D26f1eAbA1e32b',\n",
       " '0xE11BA2b4D45Eaed5996Cd0823791E0C93114882d',\n",
       " '0xd03ea8624C8C5987235048901fB614fDcA89b117',\n",
       " '0x95cED938F7991cd0dFcb48F0a06a40FA1aF46EBC',\n",
       " '0x3E5e9111Ae8eB78Fe1CC3bb8915d5D461F3Ef9A9',\n",
       " '0x28a8746e75304c0780E011BEd21C72cD78cd535E',\n",
       " '0xACa94ef8bD5ffEE41947b4585a84BdA5a3d3DA6E',\n",
       " '0x1dF62f291b2E969fB0849d99D9Ce41e2F137006e']"
      ]
     },
     "execution_count": 17,
     "metadata": {},
     "output_type": "execute_result"
    }
   ],
   "source": [
    "w3.eth.accounts"
   ]
  },
  {
   "cell_type": "code",
   "execution_count": 18,
   "metadata": {},
   "outputs": [
    {
     "data": {
      "text/plain": [
       "10"
      ]
     },
     "execution_count": 18,
     "metadata": {},
     "output_type": "execute_result"
    }
   ],
   "source": [
    "len(w3.eth.accounts)"
   ]
  },
  {
   "cell_type": "code",
   "execution_count": 19,
   "metadata": {},
   "outputs": [
    {
     "name": "stdout",
     "output_type": "stream",
     "text": [
      "address length with 0x at the beginning =  42\n"
     ]
    },
    {
     "data": {
      "text/plain": [
       "'0x90F8bf6A479f320ead074411a4B0e7944Ea8c9C1'"
      ]
     },
     "execution_count": 19,
     "metadata": {},
     "output_type": "execute_result"
    }
   ],
   "source": [
    "print(\"address length with 0x at the beginning = \",len(w3.eth.accounts[0]))\n",
    "w3.eth.accounts[0]"
   ]
  },
  {
   "cell_type": "markdown",
   "metadata": {},
   "source": [
    "**Note:** Ethereum uses Keccak-256 but often refers to it as SHA3, but the output of SHA3 as specified by NIST is different!"
   ]
  },
  {
   "cell_type": "code",
   "execution_count": 20,
   "metadata": {},
   "outputs": [
    {
     "data": {
      "text/plain": [
       "'a7ffc6f8bf1ed76651c14756a061d662f580ff4de43b49fa82d80a4b80f8434a'"
      ]
     },
     "execution_count": 20,
     "metadata": {},
     "output_type": "execute_result"
    }
   ],
   "source": [
    "from sha3 import sha3_256\n",
    "sha3_256(b'').hexdigest()"
   ]
  },
  {
   "cell_type": "code",
   "execution_count": 21,
   "metadata": {},
   "outputs": [
    {
     "data": {
      "text/plain": [
       "'c5d2460186f7233c927e7db2dcc703c0e500b653ca82273b7bfad8045d85a470'"
      ]
     },
     "execution_count": 21,
     "metadata": {},
     "output_type": "execute_result"
    }
   ],
   "source": [
    "from sha3 import keccak_256\n",
    "keccak_256(b'').hexdigest()"
   ]
  },
  {
   "cell_type": "code",
   "execution_count": 22,
   "metadata": {},
   "outputs": [
    {
     "data": {
      "text/plain": [
       "'c5d2460186f7233c927e7db2dcc703c0e500b653ca82273b7bfad8045d85a470'"
      ]
     },
     "execution_count": 22,
     "metadata": {},
     "output_type": "execute_result"
    }
   ],
   "source": [
    "w3.keccak(text=\"\").hex()[2:] # since version 6 sha3 has been renamed to keccak!"
   ]
  },
  {
   "cell_type": "code",
   "execution_count": 23,
   "metadata": {},
   "outputs": [],
   "source": [
    "assert keccak_256(b'').hexdigest() == w3.keccak(text=\"\").hex()[2:]"
   ]
  },
  {
   "cell_type": "markdown",
   "metadata": {},
   "source": [
    "The default address (also used to receive rewards from mining blocks) is usually the first in the list of accounts and usually also accessible via `w3.eth.coinbase` but this changed ..."
   ]
  },
  {
   "cell_type": "code",
   "execution_count": 24,
   "metadata": {},
   "outputs": [
    {
     "data": {
      "text/plain": [
       "'0xebD9A7D2598068499d5885ACf21D3a46248497e0'"
      ]
     },
     "execution_count": 24,
     "metadata": {},
     "output_type": "execute_result"
    }
   ],
   "source": [
    "w3.eth.coinbase"
   ]
  },
  {
   "cell_type": "code",
   "execution_count": 25,
   "metadata": {},
   "outputs": [],
   "source": [
    "# w3.eth.coinbase = w3.eth.accounts[0]"
   ]
  },
  {
   "cell_type": "markdown",
   "metadata": {},
   "source": [
    "It is good practise to specifically assing a `default_account` some functions might cause problems if this is not explicitly assigned."
   ]
  },
  {
   "cell_type": "code",
   "execution_count": 26,
   "metadata": {},
   "outputs": [
    {
     "data": {
      "text/plain": [
       "'0x90F8bf6A479f320ead074411a4B0e7944Ea8c9C1'"
      ]
     },
     "execution_count": 26,
     "metadata": {},
     "output_type": "execute_result"
    }
   ],
   "source": [
    "w3.eth.default_account = w3.eth.accounts[0]\n",
    "w3.eth.default_account "
   ]
  },
  {
   "cell_type": "markdown",
   "metadata": {},
   "source": [
    "There is also a helper method to check if a string is an ethereum address."
   ]
  },
  {
   "cell_type": "code",
   "execution_count": 27,
   "metadata": {},
   "outputs": [
    {
     "data": {
      "text/plain": [
       "True"
      ]
     },
     "execution_count": 27,
     "metadata": {},
     "output_type": "execute_result"
    }
   ],
   "source": [
    "w3.is_address(w3.eth.accounts[0])"
   ]
  },
  {
   "cell_type": "code",
   "execution_count": 28,
   "metadata": {},
   "outputs": [
    {
     "name": "stdout",
     "output_type": "stream",
     "text": [
      "address\t\t\t: 0xd3cda913deb6f67967b99d67acdfa1712c293601\n",
      "length\t\t\t: 42\n",
      "w3.is_address()\t\t: True\n",
      "\n",
      "\n",
      "Wrong address:\n",
      "address\t\t\t: 0xd3cda913deb6f67967b99d67acdfa1712c29360\n",
      "length\t\t\t: 41\n",
      "w3.is_address()\t\t: False\n"
     ]
    }
   ],
   "source": [
    "test_addr = '0xd3cda913deb6f67967b99d67acdfa1712c293601'\n",
    "print(\"address\\t\\t\\t: {}\\nlength\\t\\t\\t: {}\\nw3.is_address()\\t\\t: {}\".format(test_addr,\n",
    "                                              len(test_addr),\n",
    "                                              w3.is_address(test_addr)))\n",
    "print()\n",
    "print(\"\\nWrong address:\")\n",
    "print(\"address\\t\\t\\t: {}\\nlength\\t\\t\\t: {}\\nw3.is_address()\\t\\t: {}\".format(test_addr[:-1],\n",
    "                                              len(test_addr[:-1]),\n",
    "                                              w3.is_address(test_addr[:-1])))"
   ]
  },
  {
   "cell_type": "markdown",
   "metadata": {},
   "source": [
    "**Note:** The capital letters of an address encode an optional checksum\n",
    "https://github.com/ethereum/EIPs/blob/master/EIPS/eip-55.md"
   ]
  },
  {
   "cell_type": "code",
   "execution_count": 29,
   "metadata": {},
   "outputs": [
    {
     "name": "stdout",
     "output_type": "stream",
     "text": [
      "address\t\t\t: 0xd3cda913deb6f67967b99d67acdfa1712c293601\n",
      "length\t\t\t: 42\n",
      "w3.is_address()\t\t: True\n",
      "w3.is_checksum_address(): False\n"
     ]
    }
   ],
   "source": [
    "print(\"address\\t\\t\\t: {}\\nlength\\t\\t\\t: {}\\nw3.is_address()\\t\\t: {}\\nw3.is_checksum_address(): {}\".format(test_addr,\n",
    "                                              len(test_addr),\n",
    "                                              w3.is_address(test_addr),\n",
    "                                              w3.is_checksum_address(test_addr)))"
   ]
  },
  {
   "cell_type": "code",
   "execution_count": 30,
   "metadata": {},
   "outputs": [
    {
     "data": {
      "text/plain": [
       "'0xd3CdA913deB6f67967B99D67aCDFa1712C293601'"
      ]
     },
     "execution_count": 30,
     "metadata": {},
     "output_type": "execute_result"
    }
   ],
   "source": [
    "test_addr = w3.to_checksum_address(test_addr); test_addr # convert addr to checkusm addr"
   ]
  },
  {
   "cell_type": "code",
   "execution_count": 31,
   "metadata": {},
   "outputs": [
    {
     "name": "stdout",
     "output_type": "stream",
     "text": [
      "address\t\t\t: 0xd3CdA913deB6f67967B99D67aCDFa1712C293601\n",
      "length\t\t\t: 42\n",
      "w3.is_address()\t\t: True\n",
      "w3.is_checksum_address(): True\n"
     ]
    }
   ],
   "source": [
    "print(\"address\\t\\t\\t: {}\\nlength\\t\\t\\t: {}\\nw3.is_address()\\t\\t: {}\\nw3.is_checksum_address(): {}\".format(test_addr,\n",
    "                                              len(test_addr),\n",
    "                                              w3.is_address(test_addr),\n",
    "                                              w3.is_checksum_address(test_addr)))"
   ]
  },
  {
   "cell_type": "markdown",
   "metadata": {},
   "source": [
    "### Example: Create externally owned account "
   ]
  },
  {
   "cell_type": "markdown",
   "metadata": {},
   "source": [
    "To see what an externally controlled account actually is, lets create one. \n",
    "First useing `geth` then with `web3.py`."
   ]
  },
  {
   "cell_type": "code",
   "execution_count": 32,
   "metadata": {},
   "outputs": [
    {
     "name": "stdout",
     "output_type": "stream",
     "text": [
      "/smartenv/course\n"
     ]
    }
   ],
   "source": [
    "!pwd "
   ]
  },
  {
   "cell_type": "code",
   "execution_count": 33,
   "metadata": {},
   "outputs": [],
   "source": [
    "TEST_PATH = \"/smartenv/gitignore/testaccount/\""
   ]
  },
  {
   "cell_type": "code",
   "execution_count": 34,
   "metadata": {},
   "outputs": [
    {
     "name": "stdout",
     "output_type": "stream",
     "text": [
      "/smartenv/gitignore/testaccount/\n"
     ]
    }
   ],
   "source": [
    "!echo {TEST_PATH} # or !echo $TEST_PATH"
   ]
  },
  {
   "cell_type": "code",
   "execution_count": 35,
   "metadata": {},
   "outputs": [],
   "source": [
    "!mkdir -p {TEST_PATH}"
   ]
  },
  {
   "cell_type": "code",
   "execution_count": 36,
   "metadata": {},
   "outputs": [],
   "source": [
    "!echo \"password\" > {TEST_PATH}pwd.txt"
   ]
  },
  {
   "cell_type": "code",
   "execution_count": 37,
   "metadata": {},
   "outputs": [
    {
     "name": "stdout",
     "output_type": "stream",
     "text": [
      "\u001b[32mINFO \u001b[0m[12-19|14:05:18.408] Maximum peer count                       \u001b[32mETH\u001b[0m=0 \u001b[32mLES\u001b[0m=0 \u001b[32mtotal\u001b[0m=0\n",
      "\u001b[32mINFO \u001b[0m[12-19|14:05:18.412] Smartcard socket not found, disabling    \u001b[32merr\u001b[0m=\"stat /run/pcscd/pcscd.comm: no such file or directory\"\n",
      "\n",
      "Your new key was generated\n",
      "\n",
      "Public address of the key:   0x06B437ADF253E2204739f6e93549D8D04c255a32\n",
      "Path of the secret key file: /smartenv/gitignore/testaccount/keystore/UTC--2023-12-19T14-05-18.413965053Z--06b437adf253e2204739f6e93549d8d04c255a32\n",
      "\n",
      "- You can share your public address with anyone. Others need it to interact with you.\n",
      "- You must NEVER share the secret key with anyone! The key controls access to your funds!\n",
      "- You must BACKUP your key file! Without the key, it's impossible to access account funds!\n",
      "- You must REMEMBER your password! Without the password, it's impossible to decrypt the key!\n",
      "\n"
     ]
    }
   ],
   "source": [
    "!geth --maxpeers 0 --datadir={TEST_PATH} --password={TEST_PATH}/pwd.txt account new"
   ]
  },
  {
   "cell_type": "code",
   "execution_count": 38,
   "metadata": {},
   "outputs": [
    {
     "data": {
      "text/plain": [
       "'UTC--2023-12-12T10-31-04.271291333Z--ebd9a7d2598068499d5885acf21d3a46248497e0'"
      ]
     },
     "execution_count": 38,
     "metadata": {},
     "output_type": "execute_result"
    }
   ],
   "source": [
    "keystore_file = !ls {TEST_PATH}/keystore\n",
    "keystore_file[0]"
   ]
  },
  {
   "cell_type": "code",
   "execution_count": 39,
   "metadata": {},
   "outputs": [
    {
     "data": {
      "text/plain": [
       "{'address': 'ebd9a7d2598068499d5885acf21d3a46248497e0',\n",
       " 'crypto': {'cipher': 'aes-128-ctr',\n",
       "  'ciphertext': 'cc7dcd7bf46885e1f98f8a3b4c7a8a0ea9320a96a079397a2ef3cf6c363ff546',\n",
       "  'cipherparams': {'iv': '82b49f0542add4583e6a07d53e43e3c7'},\n",
       "  'kdf': 'scrypt',\n",
       "  'kdfparams': {'dklen': 32,\n",
       "   'n': 262144,\n",
       "   'p': 1,\n",
       "   'r': 8,\n",
       "   'salt': '1f94c220b439994efbfef9a02eed44fe5d4ad89aba3b1a0eabe31e8174a9eabc'},\n",
       "  'mac': '0e3261a403277395b0d0c4466d53220dc6cbc2b3e0f5f83b5d710e77321dc44c'},\n",
       " 'id': 'dba0353b-3367-4999-ad70-48a64a4e5a5c',\n",
       " 'version': 3}"
      ]
     },
     "execution_count": 39,
     "metadata": {},
     "output_type": "execute_result"
    }
   ],
   "source": [
    "with open(TEST_PATH + 'keystore/' + keystore_file[0]) as keyfile:\n",
    "    keyfile_json = keyfile.read()\n",
    "import json\n",
    "json.loads(keyfile_json)"
   ]
  },
  {
   "cell_type": "code",
   "execution_count": 40,
   "metadata": {},
   "outputs": [],
   "source": [
    "private_key = w3.eth.account.decrypt(keyfile_json,\"password\")"
   ]
  },
  {
   "cell_type": "code",
   "execution_count": 41,
   "metadata": {},
   "outputs": [
    {
     "data": {
      "text/plain": [
       "'0x63a4765d0899975947331c24da9d0991626edf15c2f3f3ffafc7d57936ea5f0a'"
      ]
     },
     "execution_count": 41,
     "metadata": {},
     "output_type": "execute_result"
    }
   ],
   "source": [
    "private_key.hex()"
   ]
  },
  {
   "cell_type": "code",
   "execution_count": 42,
   "metadata": {},
   "outputs": [],
   "source": [
    "#account = w3.eth.account.privateKeyToAccount(private_key) # depricated\n",
    "account = w3.eth.account.from_key(private_key)"
   ]
  },
  {
   "cell_type": "code",
   "execution_count": 43,
   "metadata": {},
   "outputs": [
    {
     "data": {
      "text/plain": [
       "'0xebD9A7D2598068499d5885ACf21D3a46248497e0'"
      ]
     },
     "execution_count": 43,
     "metadata": {},
     "output_type": "execute_result"
    }
   ],
   "source": [
    "account.address # this is the same as in the geth output above and the json file"
   ]
  },
  {
   "cell_type": "code",
   "execution_count": 44,
   "metadata": {},
   "outputs": [
    {
     "data": {
      "text/plain": [
       "'0x63a4765d0899975947331c24da9d0991626edf15c2f3f3ffafc7d57936ea5f0a'"
      ]
     },
     "execution_count": 44,
     "metadata": {},
     "output_type": "execute_result"
    }
   ],
   "source": [
    "#account.private_key.hex()\n",
    "account.key.hex() # get the private key"
   ]
  },
  {
   "cell_type": "code",
   "execution_count": 45,
   "metadata": {},
   "outputs": [
    {
     "data": {
      "text/plain": [
       "{'address': 'ebD9A7D2598068499d5885ACf21D3a46248497e0',\n",
       " 'crypto': {'cipher': 'aes-128-ctr',\n",
       "  'cipherparams': {'iv': 'ff51a92f4baa5eaa1d1631741ac40e2d'},\n",
       "  'ciphertext': 'c0e79bed943e619a9d349cb89411a71365b3cf2bbd7af955ba49e95161268951',\n",
       "  'kdf': 'scrypt',\n",
       "  'kdfparams': {'dklen': 32,\n",
       "   'n': 262144,\n",
       "   'r': 8,\n",
       "   'p': 1,\n",
       "   'salt': '688c4b941565ca8c7b777ff1af33e546'},\n",
       "  'mac': '3bb2439f035d0a62ed1c7983c9792ff9a3e4feadc296fb79c07d79b89d8a09bd'},\n",
       " 'id': '2a3e0d7d-fb8e-4505-9e9d-59d92b5297be',\n",
       " 'version': 3}"
      ]
     },
     "execution_count": 45,
     "metadata": {},
     "output_type": "execute_result"
    }
   ],
   "source": [
    "account.encrypt(\"password\") # create a keyfile again, this time salt is different"
   ]
  },
  {
   "cell_type": "markdown",
   "metadata": {},
   "source": [
    "Lets create an account (new private/public key pair) directly with web3.py:"
   ]
  },
  {
   "cell_type": "code",
   "execution_count": 46,
   "metadata": {},
   "outputs": [],
   "source": [
    "account = w3.eth.account.create(\"random string to increase entropy\")"
   ]
  },
  {
   "cell_type": "code",
   "execution_count": 47,
   "metadata": {},
   "outputs": [
    {
     "data": {
      "text/plain": [
       "'0xa1628FBcC8d92118fcB3d0661Ae7aB8Ba27B95a4'"
      ]
     },
     "execution_count": 47,
     "metadata": {},
     "output_type": "execute_result"
    }
   ],
   "source": [
    "account.address"
   ]
  },
  {
   "cell_type": "code",
   "execution_count": 48,
   "metadata": {},
   "outputs": [
    {
     "data": {
      "text/plain": [
       "'0x6e6c22bccf50b6b43e816d549e1e53c4eaadbba675200c5f058c1ae02701762a'"
      ]
     },
     "execution_count": 48,
     "metadata": {},
     "output_type": "execute_result"
    }
   ],
   "source": [
    "account.key.hex()"
   ]
  },
  {
   "cell_type": "code",
   "execution_count": 49,
   "metadata": {},
   "outputs": [
    {
     "data": {
      "text/plain": [
       "{'address': 'a1628FBcC8d92118fcB3d0661Ae7aB8Ba27B95a4',\n",
       " 'crypto': {'cipher': 'aes-128-ctr',\n",
       "  'cipherparams': {'iv': '8e02f40e88a76c93e3ef560e46934e2a'},\n",
       "  'ciphertext': 'daf71c74527577447dad388cf33555d275317cde86e0538fdb311e879e177598',\n",
       "  'kdf': 'scrypt',\n",
       "  'kdfparams': {'dklen': 32,\n",
       "   'n': 262144,\n",
       "   'r': 8,\n",
       "   'p': 1,\n",
       "   'salt': '5e42f84cfa13ede2a773df0baf89c4ec'},\n",
       "  'mac': 'be80b898a5dc13f96a334563bb1660ce8b5ee46de82f088633b8fe915bcd2376'},\n",
       " 'id': 'acdd51b8-7f41-4baa-b3f3-ec2461896ea2',\n",
       " 'version': 3}"
      ]
     },
     "execution_count": 49,
     "metadata": {},
     "output_type": "execute_result"
    }
   ],
   "source": [
    "account.encrypt(\"password\")"
   ]
  },
  {
   "cell_type": "code",
   "execution_count": 50,
   "metadata": {},
   "outputs": [],
   "source": [
    "# generate a static account for the miner for testing purposes\n",
    "mineraccount = w3.eth.account.from_key(bytes.fromhex('63a4765d0899975947331c24da9d0991626edf15c2f3f3ffafc7d57936ea5f0a'))"
   ]
  },
  {
   "cell_type": "code",
   "execution_count": 51,
   "metadata": {},
   "outputs": [
    {
     "data": {
      "text/plain": [
       "'0xebD9A7D2598068499d5885ACf21D3a46248497e0'"
      ]
     },
     "execution_count": 51,
     "metadata": {},
     "output_type": "execute_result"
    }
   ],
   "source": [
    "mineraccount.address"
   ]
  },
  {
   "cell_type": "markdown",
   "metadata": {},
   "source": [
    "## Balance\n",
    "To query the balance of an account or contract the function `eth.getBalance()` can be used with the respective address.\n",
    "\n",
    "**Note:** Per default all balances are in *Wei* i.e., the smallest unit of value in Ethereum. \n",
    "$$\n",
    "    1 \\textrm{ ether} = 10^{18} \\textrm{ wei} \n",
    "$$"
   ]
  },
  {
   "cell_type": "code",
   "execution_count": 52,
   "metadata": {},
   "outputs": [
    {
     "data": {
      "text/plain": [
       "1000000000000000000000"
      ]
     },
     "execution_count": 52,
     "metadata": {},
     "output_type": "execute_result"
    }
   ],
   "source": [
    "balance = w3.eth.get_balance(w3.eth.accounts[0])\n",
    "balance # in wei"
   ]
  },
  {
   "cell_type": "code",
   "execution_count": 53,
   "metadata": {},
   "outputs": [
    {
     "data": {
      "text/plain": [
       "1000.0000000000001"
      ]
     },
     "execution_count": 53,
     "metadata": {},
     "output_type": "execute_result"
    }
   ],
   "source": [
    "balance * 10**-18 # in ether"
   ]
  },
  {
   "cell_type": "code",
   "execution_count": 54,
   "metadata": {},
   "outputs": [
    {
     "data": {
      "text/plain": [
       "Decimal('1000')"
      ]
     },
     "execution_count": 54,
     "metadata": {},
     "output_type": "execute_result"
    }
   ],
   "source": [
    "# Directly output the balance in ether from wei\n",
    "w3.from_wei(balance,'ether')"
   ]
  },
  {
   "cell_type": "code",
   "execution_count": 55,
   "metadata": {},
   "outputs": [
    {
     "data": {
      "text/plain": [
       "100000000000000000000"
      ]
     },
     "execution_count": 55,
     "metadata": {},
     "output_type": "execute_result"
    }
   ],
   "source": [
    "# Directly output the balance in wei from ether\n",
    "w3.to_wei(100,'ether')"
   ]
  },
  {
   "cell_type": "code",
   "execution_count": 56,
   "metadata": {},
   "outputs": [],
   "source": [
    "def get_balance(address,unit=\"ether\"):\n",
    "    if unit.lower() == \"ether\":        \n",
    "        return w3.from_wei(w3.eth.get_balance(address),'ether')\n",
    "    elif unit.lower() == \"wei\":\n",
    "        return w3.eth.get_balance(address)\n",
    "    elif unit.lower() == \"gwei\":\n",
    "        return w3.eth.get_balance(address) / 10**9\n",
    "    else:\n",
    "        assert False,\"Invalid unit given\""
   ]
  },
  {
   "cell_type": "code",
   "execution_count": 57,
   "metadata": {},
   "outputs": [
    {
     "data": {
      "text/plain": [
       "Decimal('1000')"
      ]
     },
     "execution_count": 57,
     "metadata": {},
     "output_type": "execute_result"
    }
   ],
   "source": [
    "get_balance(w3.eth.accounts[0],\"ether\") "
   ]
  },
  {
   "cell_type": "code",
   "execution_count": 58,
   "metadata": {},
   "outputs": [
    {
     "data": {
      "text/plain": [
       "1000000000000000000000"
      ]
     },
     "execution_count": 58,
     "metadata": {},
     "output_type": "execute_result"
    }
   ],
   "source": [
    "get_balance(w3.eth.accounts[0],\"wei\") "
   ]
  },
  {
   "cell_type": "code",
   "execution_count": 59,
   "metadata": {},
   "outputs": [
    {
     "data": {
      "text/plain": [
       "1000000000000.0"
      ]
     },
     "execution_count": 59,
     "metadata": {},
     "output_type": "execute_result"
    }
   ],
   "source": [
    "get_balance(w3.eth.accounts[0],\"gwei\") "
   ]
  },
  {
   "cell_type": "code",
   "execution_count": 60,
   "metadata": {},
   "outputs": [
    {
     "name": "stdout",
     "output_type": "stream",
     "text": [
      "1000\n",
      "1000\n",
      "1000\n",
      "1000\n",
      "1000\n",
      "1000\n",
      "1000\n",
      "1000\n",
      "1000\n",
      "1000\n"
     ]
    }
   ],
   "source": [
    "# each of the ganache test account has initially 100 ether balance\n",
    "for account in w3.eth.accounts:\n",
    "    print(get_balance(account))"
   ]
  },
  {
   "cell_type": "code",
   "execution_count": 61,
   "metadata": {},
   "outputs": [],
   "source": [
    "import requests \n",
    "\n",
    "def get_exchange_rate(xfrom=\"ETH\",xto=\"EUR\"):\n",
    "    \"\"\" Query current exchange rate \"\"\"\n",
    "    api_endpoint = f\"https://min-api.cryptocompare.com/data/price?fsym={xfrom}&tsyms={xto}\"\n",
    "    response = requests.get(api_endpoint)\n",
    "    if response.status_code == 200:\n",
    "        json_data = response.json()\n",
    "        return json_data[xto]\n",
    "    else:\n",
    "        print(f\"Error: {response.status_code}\")\n",
    "        return None"
   ]
  },
  {
   "cell_type": "code",
   "execution_count": 62,
   "metadata": {},
   "outputs": [
    {
     "data": {
      "text/plain": [
       "2026.54"
      ]
     },
     "execution_count": 62,
     "metadata": {},
     "output_type": "execute_result"
    }
   ],
   "source": [
    "ETH_X_EUR = get_exchange_rate(); ETH_X_EUR"
   ]
  },
  {
   "cell_type": "code",
   "execution_count": 63,
   "metadata": {},
   "outputs": [],
   "source": [
    "import requests \n",
    "def get_current_proposed_baseFeePerGas(unit=\"gwei\"):\n",
    "    \"\"\" Query current suggested baseFeePerGas \"\"\"\n",
    "    api_endpoint = f\"https://api.etherscan.io/api?module=gastracker&action=gasoracle&apikey=YourApiKeyToken\"\n",
    "    response = requests.get(api_endpoint)\n",
    "    if response.status_code == 200:\n",
    "        json_data = response.json()\n",
    "        #print(json_data)\n",
    "        base_fee_gwei = json_data[\"result\"][\"suggestBaseFee\"]\n",
    "        if unit.lower() == \"gwei\":\n",
    "            return float(base_fee_gwei)\n",
    "        elif unit.lower() == \"wei\":\n",
    "            return int(float(base_fee_gwei) * 10**9)\n",
    "        else:\n",
    "            assert False,\"Unimplemented unit type\"\n",
    "    else:\n",
    "        print(f\"Error: {response.status_code}\")\n",
    "        return None"
   ]
  },
  {
   "cell_type": "code",
   "execution_count": 64,
   "metadata": {},
   "outputs": [
    {
     "data": {
      "text/plain": [
       "55527528998"
      ]
     },
     "execution_count": 64,
     "metadata": {},
     "output_type": "execute_result"
    }
   ],
   "source": [
    "ETH_BASE_FEE_PER_GAS_WEI = get_current_proposed_baseFeePerGas(\"wei\"); ETH_BASE_FEE_PER_GAS_WEI"
   ]
  },
  {
   "cell_type": "markdown",
   "metadata": {},
   "source": [
    "## Payment Transaction and Gas"
   ]
  },
  {
   "cell_type": "markdown",
   "metadata": {},
   "source": [
    "We now send a transaction that just transfers value i.e., ether from one account to another. Thereby, `ganache` automatically mines a block once it sees that a transactions requires confirmation. \n",
    "\n",
    "**Note:** When connected to `geth` or `openethereum` you have to unlock an account first to send a transaction since the private keys are stored encrypted per default and protected with a password. In `ganache` this is not necessary since it is a development environment."
   ]
  },
  {
   "cell_type": "code",
   "execution_count": 65,
   "metadata": {},
   "outputs": [
    {
     "data": {
      "text/plain": [
       "True"
      ]
     },
     "execution_count": 65,
     "metadata": {},
     "output_type": "execute_result"
    }
   ],
   "source": [
    "# required in geth but not in ganache\n",
    "# Parameters are:\n",
    "# * account\n",
    "# * password\n",
    "# * duration of unlock (if 0 then forever)\n",
    "w3.geth.personal.unlock_account(w3.eth.accounts[0],\"\",0)"
   ]
  },
  {
   "cell_type": "raw",
   "metadata": {},
   "source": [
    "# Old way for parity:\n",
    "w3.parity.personal.unlockAccount(w3.eth.accounts[0],\"\")"
   ]
  },
  {
   "cell_type": "raw",
   "metadata": {},
   "source": [
    "# Old general way to unlock an account with web3.py, now client may be different.\n",
    "w3.personal.unlockAccount(w3.eth.accounts[0],\"\",0)"
   ]
  },
  {
   "cell_type": "code",
   "execution_count": 66,
   "metadata": {},
   "outputs": [
    {
     "data": {
      "text/plain": [
       "1"
      ]
     },
     "execution_count": 66,
     "metadata": {},
     "output_type": "execute_result"
    }
   ],
   "source": [
    "w3.eth.block_number"
   ]
  },
  {
   "cell_type": "code",
   "execution_count": 67,
   "metadata": {},
   "outputs": [
    {
     "data": {
      "text/plain": [
       "HexBytes('0xa04079853f5f321badf3ffbfe06b392b3b37f7f71e23886dadda9c563e3f0436')"
      ]
     },
     "execution_count": 67,
     "metadata": {},
     "output_type": "execute_result"
    }
   ],
   "source": [
    "w3.eth.send_transaction({'from':w3.eth.accounts[0], \n",
    "                        'to':w3.eth.accounts[1], \n",
    "                        'value':10**18})"
   ]
  },
  {
   "cell_type": "code",
   "execution_count": 68,
   "metadata": {},
   "outputs": [
    {
     "data": {
      "text/plain": [
       "2"
      ]
     },
     "execution_count": 68,
     "metadata": {},
     "output_type": "execute_result"
    }
   ],
   "source": [
    "blkNumber = w3.eth.block_number\n",
    "blkNumber"
   ]
  },
  {
   "cell_type": "code",
   "execution_count": 69,
   "metadata": {},
   "outputs": [
    {
     "data": {
      "text/plain": [
       "Decimal('998.99997965112306')"
      ]
     },
     "execution_count": 69,
     "metadata": {},
     "output_type": "execute_result"
    }
   ],
   "source": [
    "# the balance is reduced by more than 1 ether\n",
    "# Why do you think this is the case?\n",
    "get_balance(w3.eth.accounts[0])"
   ]
  },
  {
   "cell_type": "code",
   "execution_count": 70,
   "metadata": {},
   "outputs": [
    {
     "data": {
      "text/plain": [
       "Decimal('1001')"
      ]
     },
     "execution_count": 70,
     "metadata": {},
     "output_type": "execute_result"
    }
   ],
   "source": [
    "get_balance(w3.eth.accounts[1]) # the balance at the destination is increased by 1 ether"
   ]
  },
  {
   "cell_type": "code",
   "execution_count": 71,
   "metadata": {},
   "outputs": [
    {
     "data": {
      "text/plain": [
       "20348876940000"
      ]
     },
     "execution_count": 71,
     "metadata": {},
     "output_type": "execute_result"
    }
   ],
   "source": [
    "difference_wei = w3.to_wei(999,\"ether\") - get_balance(w3.eth.accounts[0],\"wei\"); difference_wei"
   ]
  },
  {
   "cell_type": "markdown",
   "metadata": {},
   "source": [
    "Since EIP 1559 gase prices are handled differently: https://ethereum.org/en/developers/docs/gas/\n",
    "\n",
    "* **Base fee**\n",
    "  + mimimum fee that has to be paid by every transaction (higher during high load, lower during low load)\n",
    "  + set by the network itself, not by miners. The base fee changes block by block, based on how full the previous block was.\n",
    "  + max inc./dec. 12.5 % per block\n",
    "  + the entire base fee is entirely burned! This does not go to the miner!\n",
    "* **Priority fee** (miner **tip**)\n",
    "  + Additional fee paid to the miner to indicate \"priority\""
   ]
  },
  {
   "cell_type": "markdown",
   "metadata": {},
   "source": [
    "* The fee you pay in wei is calculated by `maxFeePerGas * gasUsed` \n",
    "* You always pay `baseFeePerGas`, if that is below `maxFeePerGas` the rest will be paid to the miner as tip if `maxPriorityFeePerGas` is above zero.\n",
    "    + `maxFeePerGas - baseFeePerGas = tip`"
   ]
  },
  {
   "cell_type": "code",
   "execution_count": 72,
   "metadata": {},
   "outputs": [
    {
     "data": {
      "text/plain": [
       "AttributeDict({'type': 2,\n",
       " 'hash': HexBytes('0xa04079853f5f321badf3ffbfe06b392b3b37f7f71e23886dadda9c563e3f0436'),\n",
       " 'chainId': 1337,\n",
       " 'nonce': 0,\n",
       " 'blockHash': HexBytes('0xb6a7a442b90367c5525284384d273276e0f717004cc5f33aebb53aac63f87a75'),\n",
       " 'blockNumber': 2,\n",
       " 'transactionIndex': 0,\n",
       " 'from': '0x90F8bf6A479f320ead074411a4B0e7944Ea8c9C1',\n",
       " 'to': '0xFFcf8FDEE72ac11b5c542428B35EEF5769C409f0',\n",
       " 'value': 1000000000000000000,\n",
       " 'maxPriorityFeePerGas': 1000000000,\n",
       " 'maxFeePerGas': 968994140,\n",
       " 'gasPrice': 0,\n",
       " 'gas': 121000,\n",
       " 'input': HexBytes('0x'),\n",
       " 'accessList': [],\n",
       " 'v': 0,\n",
       " 'r': HexBytes('0xc06d810642766518356d7be55469a303a064594a35292e976181b2230f85dec4'),\n",
       " 's': HexBytes('0x55f4ff109a6e6d3f8380578fe5ca0085e259feec375eedd1278cbe83534a3efd'),\n",
       " 'yParity': 0})"
      ]
     },
     "execution_count": 72,
     "metadata": {},
     "output_type": "execute_result"
    }
   ],
   "source": [
    "# get first (and only) transaction in the previously mined block\n",
    "tx = w3.eth.get_transaction_by_block(blkNumber,0)\n",
    "tx "
   ]
  },
  {
   "cell_type": "code",
   "execution_count": 73,
   "metadata": {},
   "outputs": [
    {
     "data": {
      "text/plain": [
       "AttributeDict({'hash': HexBytes('0xb6a7a442b90367c5525284384d273276e0f717004cc5f33aebb53aac63f87a75'),\n",
       " 'parentHash': HexBytes('0xf05130a8e322198de8aeade0a6735c77b716801807416c193e7676d5ec39f9f4'),\n",
       " 'sha3Uncles': HexBytes('0x1dcc4de8dec75d7aab85b567b6ccd41ad312451b948a7413f0a142fd40d49347'),\n",
       " 'miner': '0xebD9A7D2598068499d5885ACf21D3a46248497e0',\n",
       " 'stateRoot': HexBytes('0xd8ca16830197396f4d2f91be14bb4fec93ea7ff0639e3229cbbbe324e816db99'),\n",
       " 'transactionsRoot': HexBytes('0x9f420a6106f611da5d4d77109dd1ec159c5a483ae4e39d0f893c964046bd3a6e'),\n",
       " 'receiptsRoot': HexBytes('0xf78dfb743fbd92ade140711c8bbc542b5e307f0ab7984eff35d751969fe57efa'),\n",
       " 'logsBloom': HexBytes('0x00000000000000000000000000000000000000000000000000000000000000000000000000000000000000000000000000000000000000000000000000000000000000000000000000000000000000000000000000000000000000000000000000000000000000000000000000000000000000000000000000000000000000000000000000000000000000000000000000000000000000000000000000000000000000000000000000000000000000000000000000000000000000000000000000000000000000000000000000000000000000000000000000000000000000000000000000000000000000000000000000000000000000000000000000000000'),\n",
       " 'difficulty': 0,\n",
       " 'number': 2,\n",
       " 'gasLimit': 80000000,\n",
       " 'gasUsed': 21000,\n",
       " 'timestamp': 1702994723,\n",
       " 'extraData': HexBytes('0x'),\n",
       " 'mixHash': HexBytes('0x057bd72306ef2530ea35543a452ef43af1529088eace72f84933666e14e443cf'),\n",
       " 'nonce': HexBytes('0x0000000000000000'),\n",
       " 'totalDifficulty': 0,\n",
       " 'baseFeePerGas': 765625000,\n",
       " 'withdrawalsRoot': HexBytes('0x56e81f171bcc55a6ff8345e692c0f86e5b48e01b996cadc001622fb5e363b421'),\n",
       " 'size': 673,\n",
       " 'transactions': [HexBytes('0xa04079853f5f321badf3ffbfe06b392b3b37f7f71e23886dadda9c563e3f0436')],\n",
       " 'uncles': [],\n",
       " 'withdrawals': []})"
      ]
     },
     "execution_count": 73,
     "metadata": {},
     "output_type": "execute_result"
    }
   ],
   "source": [
    "# get block and see the transaction id and gas used below\n",
    "blk = w3.eth.get_block(blkNumber)\n",
    "blk"
   ]
  },
  {
   "cell_type": "markdown",
   "metadata": {},
   "source": [
    "Get the transaction information from the block and from the tx itself. \n",
    "Note that `gasPrice` may still be `0`, this value is filled with the transaction hasn been executed and included in a block. "
   ]
  },
  {
   "cell_type": "code",
   "execution_count": 74,
   "metadata": {},
   "outputs": [
    {
     "name": "stdout",
     "output_type": "stream",
     "text": [
      "maxPriorityFeePerGas\t: 1000000000\n",
      "maxFeePerGas\t\t: 968994140\n",
      "gas\t\t\t: 121000\n",
      "gasPrice\t\t: 0\n"
     ]
    }
   ],
   "source": [
    "# Tx info:\n",
    "print(f\"maxPriorityFeePerGas\\t: {tx['maxPriorityFeePerGas']}\\nmaxFeePerGas\\t\\t: {tx['maxFeePerGas']}\\ngas\\t\\t\\t: {tx['gas']}\\ngasPrice\\t\\t: {tx['gasPrice']}\")"
   ]
  },
  {
   "cell_type": "code",
   "execution_count": 75,
   "metadata": {},
   "outputs": [
    {
     "name": "stdout",
     "output_type": "stream",
     "text": [
      "baseFeePerGas\t\t: 765625000 \n",
      "gasLimit\t\t: 80000000\n",
      "gasUsed\t\t\t: 21000\n"
     ]
    }
   ],
   "source": [
    "# Block info:\n",
    "print(f\"baseFeePerGas\\t\\t: {blk['baseFeePerGas']} \\ngasLimit\\t\\t: {blk['gasLimit']}\\ngasUsed\\t\\t\\t: {blk['gasUsed']}\")"
   ]
  },
  {
   "cell_type": "code",
   "execution_count": 76,
   "metadata": {},
   "outputs": [],
   "source": [
    "# Calculate the difference missing from the sender account: \n",
    "assert tx['maxFeePerGas'] * blk['gasUsed'] == difference_wei"
   ]
  },
  {
   "cell_type": "code",
   "execution_count": 77,
   "metadata": {},
   "outputs": [],
   "source": [
    "# Check if this is the amount missing from the sender account: \n",
    "assert get_balance(w3.eth.accounts[0],\"wei\") + tx['maxFeePerGas'] * blk['gasUsed'] == 999000000000000000000"
   ]
  },
  {
   "cell_type": "code",
   "execution_count": 78,
   "metadata": {},
   "outputs": [
    {
     "data": {
      "text/plain": [
       "203369140"
      ]
     },
     "execution_count": 78,
     "metadata": {},
     "output_type": "execute_result"
    }
   ],
   "source": [
    "# Caluclate the fee paid to the miner: \n",
    "fee_for_miner = tx['maxFeePerGas'] - blk['baseFeePerGas']; fee_for_miner"
   ]
  },
  {
   "cell_type": "code",
   "execution_count": 79,
   "metadata": {},
   "outputs": [
    {
     "data": {
      "text/plain": [
       "4270751940000"
      ]
     },
     "execution_count": 79,
     "metadata": {},
     "output_type": "execute_result"
    }
   ],
   "source": [
    "wei_for_miner = ( tx['maxFeePerGas'] - blk['baseFeePerGas'] ) * blk['gasUsed']; wei_for_miner"
   ]
  },
  {
   "cell_type": "code",
   "execution_count": 80,
   "metadata": {},
   "outputs": [
    {
     "data": {
      "text/plain": [
       "Decimal('0.00000427075194')"
      ]
     },
     "execution_count": 80,
     "metadata": {},
     "output_type": "execute_result"
    }
   ],
   "source": [
    "ether_for_miner = w3.from_wei(wei_for_miner,'ether'); ether_for_miner"
   ]
  },
  {
   "cell_type": "code",
   "execution_count": 81,
   "metadata": {},
   "outputs": [
    {
     "name": "stdout",
     "output_type": "stream",
     "text": [
      "Current base fee price for a value transfer tx in Euro: EUR 2.3631039309277453 €\n"
     ]
    }
   ],
   "source": [
    "# estimate current base price for a value transfer tx:\n",
    "CURRENT_BASE_PRICE = float(w3.from_wei(ETH_BASE_FEE_PER_GAS_WEI * 21000,\"ether\")) * ETH_X_EUR \n",
    "print(f\"Current base fee price for a value transfer tx in Euro: EUR {CURRENT_BASE_PRICE} €\")"
   ]
  },
  {
   "cell_type": "code",
   "execution_count": 82,
   "metadata": {},
   "outputs": [
    {
     "data": {
      "text/plain": [
       "'0xa04079853f5f321badf3ffbfe06b392b3b37f7f71e23886dadda9c563e3f0436'"
      ]
     },
     "execution_count": 82,
     "metadata": {},
     "output_type": "execute_result"
    }
   ],
   "source": [
    "# get the transaction hash (i.e., its ID) of the first (and only) transaction in the block\n",
    "tx_hash_from_block = blk[\"transactions\"][0].hex()\n",
    "tx_hash_from_block"
   ]
  },
  {
   "cell_type": "code",
   "execution_count": 83,
   "metadata": {},
   "outputs": [
    {
     "data": {
      "text/plain": [
       "'0xa04079853f5f321badf3ffbfe06b392b3b37f7f71e23886dadda9c563e3f0436'"
      ]
     },
     "execution_count": 83,
     "metadata": {},
     "output_type": "execute_result"
    }
   ],
   "source": [
    "tx_hash_from_tx = tx[\"hash\"].hex() # hash of the transaction\n",
    "tx_hash_from_tx"
   ]
  },
  {
   "cell_type": "code",
   "execution_count": 84,
   "metadata": {},
   "outputs": [],
   "source": [
    "assert tx_hash_from_tx == tx_hash_from_block\n",
    "tx_hash = tx_hash_from_tx"
   ]
  },
  {
   "cell_type": "code",
   "execution_count": 85,
   "metadata": {},
   "outputs": [
    {
     "data": {
      "text/plain": [
       "AttributeDict({'type': 2,\n",
       " 'hash': HexBytes('0xa04079853f5f321badf3ffbfe06b392b3b37f7f71e23886dadda9c563e3f0436'),\n",
       " 'chainId': 1337,\n",
       " 'nonce': 0,\n",
       " 'blockHash': HexBytes('0xb6a7a442b90367c5525284384d273276e0f717004cc5f33aebb53aac63f87a75'),\n",
       " 'blockNumber': 2,\n",
       " 'transactionIndex': 0,\n",
       " 'from': '0x90F8bf6A479f320ead074411a4B0e7944Ea8c9C1',\n",
       " 'to': '0xFFcf8FDEE72ac11b5c542428B35EEF5769C409f0',\n",
       " 'value': 1000000000000000000,\n",
       " 'maxPriorityFeePerGas': 1000000000,\n",
       " 'maxFeePerGas': 968994140,\n",
       " 'gasPrice': 968994140,\n",
       " 'gas': 121000,\n",
       " 'input': HexBytes('0x'),\n",
       " 'accessList': [],\n",
       " 'v': 0,\n",
       " 'r': HexBytes('0xc06d810642766518356d7be55469a303a064594a35292e976181b2230f85dec4'),\n",
       " 's': HexBytes('0x55f4ff109a6e6d3f8380578fe5ca0085e259feec375eedd1278cbe83534a3efd'),\n",
       " 'yParity': 0})"
      ]
     },
     "execution_count": 85,
     "metadata": {},
     "output_type": "execute_result"
    }
   ],
   "source": [
    "# Query the transaction by its hash is also possible:\n",
    "tx = w3.eth.get_transaction(tx_hash)\n",
    "tx"
   ]
  },
  {
   "cell_type": "code",
   "execution_count": 86,
   "metadata": {},
   "outputs": [
    {
     "data": {
      "text/plain": [
       "AttributeDict({'transactionHash': HexBytes('0xa04079853f5f321badf3ffbfe06b392b3b37f7f71e23886dadda9c563e3f0436'),\n",
       " 'transactionIndex': 0,\n",
       " 'blockNumber': 2,\n",
       " 'blockHash': HexBytes('0xb6a7a442b90367c5525284384d273276e0f717004cc5f33aebb53aac63f87a75'),\n",
       " 'from': '0x90F8bf6A479f320ead074411a4B0e7944Ea8c9C1',\n",
       " 'to': '0xFFcf8FDEE72ac11b5c542428B35EEF5769C409f0',\n",
       " 'cumulativeGasUsed': 21000,\n",
       " 'gasUsed': 21000,\n",
       " 'contractAddress': None,\n",
       " 'logs': [],\n",
       " 'logsBloom': HexBytes('0x00000000000000000000000000000000000000000000000000000000000000000000000000000000000000000000000000000000000000000000000000000000000000000000000000000000000000000000000000000000000000000000000000000000000000000000000000000000000000000000000000000000000000000000000000000000000000000000000000000000000000000000000000000000000000000000000000000000000000000000000000000000000000000000000000000000000000000000000000000000000000000000000000000000000000000000000000000000000000000000000000000000000000000000000000000000'),\n",
       " 'status': 1,\n",
       " 'effectiveGasPrice': 968994140,\n",
       " 'type': 2})"
      ]
     },
     "execution_count": 86,
     "metadata": {},
     "output_type": "execute_result"
    }
   ],
   "source": [
    "# Get the transaction receipt for the respective transaction hash:\n",
    "tx_receipt = w3.eth.get_transaction_receipt(tx_hash)\n",
    "tx_receipt"
   ]
  },
  {
   "cell_type": "markdown",
   "metadata": {},
   "source": [
    "* `gasUsed` is the gas used by this transaction\n",
    "* `cumulativeGasUsed` \n",
    "> is the sum of gasUsed by this transaction and all preceding transactions in the same block."
   ]
  },
  {
   "cell_type": "code",
   "execution_count": 87,
   "metadata": {},
   "outputs": [
    {
     "data": {
      "text/plain": [
       "21000"
      ]
     },
     "execution_count": 87,
     "metadata": {},
     "output_type": "execute_result"
    }
   ],
   "source": [
    "gasUsed_from_block = blk[\"gasUsed\"] # gas used within the whole block\n",
    "gasUsed_from_block"
   ]
  },
  {
   "cell_type": "code",
   "execution_count": 88,
   "metadata": {},
   "outputs": [
    {
     "data": {
      "text/plain": [
       "21000"
      ]
     },
     "execution_count": 88,
     "metadata": {},
     "output_type": "execute_result"
    }
   ],
   "source": [
    "gasUsed_from_receipt = tx_receipt[\"gasUsed\"] # gas used by the transaction\n",
    "gasUsed_from_receipt"
   ]
  },
  {
   "cell_type": "code",
   "execution_count": 89,
   "metadata": {},
   "outputs": [],
   "source": [
    "assert gasUsed_from_block == gasUsed_from_receipt"
   ]
  },
  {
   "cell_type": "markdown",
   "metadata": {},
   "source": [
    "The transaction was allowed to consue more gas theorectically:"
   ]
  },
  {
   "cell_type": "code",
   "execution_count": 90,
   "metadata": {},
   "outputs": [
    {
     "data": {
      "text/plain": [
       "121000"
      ]
     },
     "execution_count": 90,
     "metadata": {},
     "output_type": "execute_result"
    }
   ],
   "source": [
    "gasAvailable_from_tx = tx[\"gas\"] # theoretical limit of gas available to transaction\n",
    "gasAvailable_from_tx"
   ]
  },
  {
   "cell_type": "code",
   "execution_count": 91,
   "metadata": {},
   "outputs": [],
   "source": [
    "assert gasUsed_from_receipt <= gasAvailable_from_tx "
   ]
  },
  {
   "cell_type": "markdown",
   "metadata": {},
   "source": [
    "To estimate the gas costs of a tx, without actually executing it you can use:"
   ]
  },
  {
   "cell_type": "code",
   "execution_count": 92,
   "metadata": {},
   "outputs": [
    {
     "data": {
      "text/plain": [
       "21000"
      ]
     },
     "execution_count": 92,
     "metadata": {},
     "output_type": "execute_result"
    }
   ],
   "source": [
    "# estimate the gas price of an transaction without executing it\n",
    "w3.eth.estimate_gas({'from':w3.eth.accounts[0], \n",
    "                    'to':w3.eth.accounts[1], \n",
    "                    'value':10**18})"
   ]
  },
  {
   "cell_type": "markdown",
   "metadata": {},
   "source": [
    "Lets check if the correct amount of gas has been used."
   ]
  },
  {
   "cell_type": "code",
   "execution_count": 93,
   "metadata": {},
   "outputs": [
    {
     "data": {
      "text/plain": [
       "968994140"
      ]
     },
     "execution_count": 93,
     "metadata": {},
     "output_type": "execute_result"
    }
   ],
   "source": [
    "# The actual gas price of the tx\n",
    "tx_gasPrice = tx[\"gasPrice\"] \n",
    "tx_gasPrice"
   ]
  },
  {
   "cell_type": "code",
   "execution_count": 94,
   "metadata": {},
   "outputs": [],
   "source": [
    "assert tx_gasPrice == tx['maxFeePerGas']"
   ]
  },
  {
   "cell_type": "code",
   "execution_count": 95,
   "metadata": {},
   "outputs": [],
   "source": [
    "def sendEther(_value,_to):\n",
    "    \"\"\" Helper function to quickly send some ether to an address \"\"\"\n",
    "    tx_hash = w3.eth.sendTransaction({'from':w3.eth.accounts[0], \n",
    "                                      'to':w3.toChecksumAddress(_to), \n",
    "                                      'value':w3.toWei(_value,\"ether\")})\n",
    "    return tx_hash"
   ]
  },
  {
   "cell_type": "markdown",
   "metadata": {},
   "source": [
    "# Contract deployment and interaction (the hard way)"
   ]
  },
  {
   "cell_type": "markdown",
   "metadata": {},
   "source": [
    "Now its time to deploy our first contract.\n",
    "For the first time we do it the hard way."
   ]
  },
  {
   "cell_type": "markdown",
   "metadata": {},
   "source": [
    "## Solidity and its compiler (solc)\n",
    "Solidity is the high level language:\n",
    "* https://docs.soliditylang.org/\n",
    "* https://solidity-by-example.org/"
   ]
  },
  {
   "cell_type": "code",
   "execution_count": 96,
   "metadata": {},
   "outputs": [
    {
     "name": "stdout",
     "output_type": "stream",
     "text": [
      "solc, the solidity compiler commandline interface\n",
      "Version: 0.8.23+commit.f704f362.Linux.g++\n"
     ]
    }
   ],
   "source": [
    "!solc --version"
   ]
  },
  {
   "cell_type": "code",
   "execution_count": 97,
   "metadata": {},
   "outputs": [
    {
     "name": "stdout",
     "output_type": "stream",
     "text": [
      "solc, the Solidity commandline compiler.\n",
      "\n",
      "This program comes with ABSOLUTELY NO WARRANTY. This is free software, and you\n",
      "are welcome to redistribute it under certain conditions. See 'solc --license'\n",
      "for details.\n",
      "\n",
      "Usage: solc [options] [input_file...]\n",
      "Compiles the given Solidity input files (or the standard input if \"-\" is\n",
      "used as a file name) and outputs the components specified in the options\n",
      "at standard output or in files in the output directory, if specified.\n",
      "Imports are automatically read from the filesystem, but it is also possible to\n",
      "remap paths using the context:prefix=path syntax.\n",
      "Example:\n",
      "solc --bin -o /tmp/solcoutput dapp-bin=/usr/local/lib/dapp-bin contract.sol\n",
      "\n",
      "General Information:\n",
      "  --help               Show help message and exit.\n",
      "  --version            Show version and exit.\n",
      "  --license            Show licensing information and exit.\n",
      "  --input-file arg     input file\n",
      "\n",
      "Input Options:\n",
      "  --base-path path     Use the given path as the root of the source tree \n",
      "                       instead of the root of the filesystem.\n",
      "  --include-path path  Make an additional source directory available to the \n",
      "                       default import callback. Use this option if you want to \n",
      "                       import contracts whose location is not fixed in relation\n",
      "                       to your main source tree, e.g. third-party libraries \n",
      "                       installed using a package manager. Can be used multiple \n",
      "                       times. Can only be used if base path has a non-empty \n",
      "                       value.\n",
      "  --allow-paths path(s)\n",
      "                       Allow a given path for imports. A list of paths can be \n",
      "                       supplied by separating them with a comma.\n",
      "  --ignore-missing     Ignore missing files.\n",
      "  --no-import-callback \n",
      "                       Disable the default import callback to prevent the \n",
      "                       compiler from loading any source files not listed on the\n",
      "                       command line or given in the Standard JSON input.\n",
      "\n",
      "Output Options:\n",
      "  -o [ --output-dir ] path\n",
      "                       If given, creates one file per output component and \n",
      "                       contract/file at the specified directory.\n",
      "  --overwrite          Overwrite existing files (used together with -o).\n",
      "  --evm-version version (=shanghai)\n",
      "                       Select desired EVM version. Either homestead, \n",
      "                       tangerineWhistle, spuriousDragon, byzantium, \n",
      "                       constantinople, petersburg, istanbul, berlin, london, \n",
      "                       paris or shanghai.\n",
      "  --experimental-via-ir \n",
      "                       Deprecated synonym of --via-ir.\n",
      "  --via-ir             Turn on compilation mode via the IR.\n",
      "  --revert-strings debug,default,strip,verboseDebug\n",
      "                       Strip revert (and require) reason strings or add \n",
      "                       additional debugging information.\n",
      "  --debug-info arg (=ast-id,location,snippet)\n",
      "                       Debug info components to be included in the produced EVM\n",
      "                       assembly and Yul code. Value can be all, none or a \n",
      "                       comma-separated list containing one or more of the \n",
      "                       following components: ast-id, location, snippet.\n",
      "  --stop-after stage   Stop execution after the given compiler stage. Valid \n",
      "                       options: \"parsing\".\n",
      "\n",
      "Alternative Input Modes:\n",
      "  --standard-json      Switch to Standard JSON input / output mode, ignoring \n",
      "                       all options. It reads from standard input, if no input \n",
      "                       file was given, otherwise it reads from the provided \n",
      "                       input file. The result will be written to standard \n",
      "                       output.\n",
      "  --link               Switch to linker mode, ignoring all options apart from \n",
      "                       --libraries and modify binaries in place.\n",
      "  --assemble           Switch to assembly mode and assume input is assembly.\n",
      "  --yul                Switch to Yul mode and assume input is Yul.\n",
      "  --strict-assembly    Switch to strict assembly mode and assume input is \n",
      "                       strict assembly.\n",
      "  --import-ast         Import ASTs to be compiled, assumes input holds the AST \n",
      "                       in compact JSON format. Supported Inputs is the output \n",
      "                       of the --standard-json or the one produced by \n",
      "                       --combined-json ast\n",
      "  --import-asm-json    Import EVM assembly from JSON. Assumes input is in the \n",
      "                       format used by --asm-json.\n",
      "  --lsp                Switch to language server mode (\"LSP\"). Allows the \n",
      "                       compiler to be used as an analysis backend for your \n",
      "                       favourite IDE.\n",
      "\n",
      "Assembly Mode Options:\n",
      "  --machine evm        Target machine in assembly or Yul mode.\n",
      "  --yul-dialect evm    Input dialect to use in assembly or yul mode.\n",
      "\n",
      "Linker Mode Options:\n",
      "  --libraries libs     Direct string or file containing library addresses. \n",
      "                       Syntax: <libraryName>=<address> [, or whitespace] ...\n",
      "                       Address is interpreted as a hex string prefixed by 0x.\n",
      "\n",
      "Output Formatting:\n",
      "  --pretty-json        Output JSON in pretty format.\n",
      "  --json-indent N (=2) Indent pretty-printed JSON with N spaces. Enables \n",
      "                       '--pretty-json' automatically.\n",
      "  --color              Force colored output.\n",
      "  --no-color           Explicitly disable colored output, disabling terminal \n",
      "                       auto-detection.\n",
      "  --error-codes        Output error codes.\n",
      "\n",
      "Output Components:\n",
      "  --ast-compact-json   AST of all source files in a compact JSON format.\n",
      "  --asm                EVM assembly of the contracts.\n",
      "  --asm-json           EVM assembly of the contracts in JSON format.\n",
      "  --opcodes            Opcodes of the contracts.\n",
      "  --bin                Binary of the contracts in hex.\n",
      "  --bin-runtime        Binary of the runtime part of the contracts in hex.\n",
      "  --abi                ABI specification of the contracts.\n",
      "  --ir                 Intermediate Representation (IR) of all contracts.\n",
      "  --ir-ast-json        AST of Intermediate Representation (IR) of all contracts\n",
      "                       in a compact JSON format.\n",
      "  --ir-optimized       Optimized Intermediate Representation (IR) of all \n",
      "                       contracts.\n",
      "  --ir-optimized-ast-json \n",
      "                       AST of optimized Intermediate Representation (IR) of all\n",
      "                       contracts in a compact JSON format.\n",
      "  --hashes             Function signature hashes of the contracts.\n",
      "  --userdoc            Natspec user documentation of all contracts.\n",
      "  --devdoc             Natspec developer documentation of all contracts.\n",
      "  --metadata           Combined Metadata JSON whose IPFS hash is stored \n",
      "                       on-chain.\n",
      "  --storage-layout     Slots, offsets and types of the contract's state \n",
      "                       variables.\n",
      "\n",
      "Extra Output:\n",
      "  --gas                Print an estimate of the maximal gas usage for each \n",
      "                       function.\n",
      "  --combined-json abi,asm,ast,bin,bin-runtime,devdoc,function-debug,function-debug-runtime,generated-sources,generated-sources-runtime,hashes,metadata,opcodes,srcmap,srcmap-runtime,storage-layout,userdoc\n",
      "                       Output a single json document containing the specified \n",
      "                       information.\n",
      "\n",
      "Metadata Options:\n",
      "  --no-cbor-metadata   Do not append CBOR metadata to the end of the bytecode.\n",
      "  --metadata-hash ipfs,none,swarm\n",
      "                       Choose hash method for the bytecode metadata or disable \n",
      "                       it.\n",
      "  --metadata-literal   Store referenced sources as literal data in the metadata\n",
      "                       output.\n",
      "\n",
      "Optimizer Options:\n",
      "  --optimize           Enable optimizer.\n",
      "  --optimize-runs n (=200)\n",
      "                       The number of runs specifies roughly how often each \n",
      "                       opcode of the deployed code will be executed across the \n",
      "                       lifetime of the contract. Lower values will optimize \n",
      "                       more for initial deployment cost, higher values will \n",
      "                       optimize more for high-frequency usage.\n",
      "  --optimize-yul       Enable Yul optimizer (independently of the EVM assembly \n",
      "                       optimizer). The general --optimize option automatically \n",
      "                       enables this unless --no-optimize-yul is specified.\n",
      "  --no-optimize-yul    Disable Yul optimizer (independently of the EVM assembly\n",
      "                       optimizer).\n",
      "  --yul-optimizations steps\n",
      "                       Forces Yul optimizer to use the specified sequence of \n",
      "                       optimization steps instead of the built-in one.\n",
      "\n",
      "Model Checker Options:\n",
      "  --model-checker-contracts default,<source>:<contract> (=default)\n",
      "                       Select which contracts should be analyzed using the form\n",
      "                       <source>:<contract>.Multiple pairs <source>:<contract> \n",
      "                       can be selected at the same time, separated by a comma \n",
      "                       and no spaces.\n",
      "  --model-checker-div-mod-no-slacks \n",
      "                       Encode division and modulo operations with their precise\n",
      "                       operators instead of multiplication with slack \n",
      "                       variables.\n",
      "  --model-checker-engine all,bmc,chc,none (=none)\n",
      "                       Select model checker engine.\n",
      "  --model-checker-ext-calls untrusted,trusted (=untrusted)\n",
      "                       Select whether to assume (trusted) that external calls \n",
      "                       always invoke the code given by the type of the \n",
      "                       contract, if that code is available.\n",
      "  --model-checker-invariants default,all,contract,reentrancy (=default)\n",
      "                       Select whether to report inferred contract inductive \n",
      "                       invariants. Multiple types of invariants can be selected\n",
      "                       at the same time, separated by a comma and no spaces. By\n",
      "                       default no invariants are reported.\n",
      "  --model-checker-print-query \n",
      "                       Print the queries created by the SMTChecker in the \n",
      "                       SMTLIB2 format.\n",
      "  --model-checker-show-proved-safe \n",
      "                       Show all targets that were proved safe separately.\n",
      "  --model-checker-show-unproved \n",
      "                       Show all unproved targets separately.\n",
      "  --model-checker-show-unsupported \n",
      "                       Show all unsupported language features separately.\n",
      "  --model-checker-solvers cvc4,eld,z3,smtlib2 (=z3)\n",
      "                       Select model checker solvers.\n",
      "  --model-checker-targets default,all,constantCondition,underflow,overflow,divByZero,balance,assert,popEmptyArray,outOfBounds (=default)\n",
      "                       Select model checker verification targets.Multiple \n",
      "                       targets can be selected at the same time, separated by a\n",
      "                       comma and no spaces. By default all targets except \n",
      "                       underflow and overflow are selected.\n",
      "  --model-checker-timeout ms\n",
      "                       Set model checker timeout per query in milliseconds.The \n",
      "                       default is a deterministic resource limit.A timeout of 0\n",
      "                       means no resource/time restrictions for any query.\n",
      "  --model-checker-bmc-loop-iterations arg\n",
      "                       Set loop unrolling depth for BMC engine.Default is 1.\n"
     ]
    }
   ],
   "source": [
    "!solc --help"
   ]
  },
  {
   "cell_type": "code",
   "execution_count": 98,
   "metadata": {},
   "outputs": [],
   "source": [
    "EXAMPLE_PATH=\"/smartenv/examples/\""
   ]
  },
  {
   "cell_type": "code",
   "execution_count": 99,
   "metadata": {
    "scrolled": true
   },
   "outputs": [
    {
     "name": "stdout",
     "output_type": "stream",
     "text": [
      "/smartenv/examples/Greeter\n"
     ]
    },
    {
     "name": "stderr",
     "output_type": "stream",
     "text": [
      "/smartenv/venv/lib/python3.10/site-packages/IPython/core/magics/osm.py:417: UserWarning: using dhist requires you to install the `pickleshare` library.\n",
      "  self.shell.db['dhist'] = compress_dhist(dhist)[-100:]\n"
     ]
    }
   ],
   "source": [
    "%cd {EXAMPLE_PATH}/Greeter "
   ]
  },
  {
   "cell_type": "markdown",
   "metadata": {},
   "source": [
    "* Version Pragma: \n",
    "    + https://docs.soliditylang.org/en/v0.8.5/layout-of-source-files.html?highlight=pragma#version-pragma\n",
    "* SPX-License-Identifier: \n",
    "    + https://docs.soliditylang.org/en/v0.8.5/layout-of-source-files.html?highlight=SPX-License#spdx-license-identifier\n",
    "    + https://spdx.dev/"
   ]
  },
  {
   "cell_type": "code",
   "execution_count": 100,
   "metadata": {},
   "outputs": [
    {
     "name": "stdout",
     "output_type": "stream",
     "text": [
      "// SPDX-License-Identifier: MIT\n",
      "pragma solidity ^0.8.4;\n",
      "\n",
      "contract Greeter {\n",
      "    bool private greetbool;\n",
      "    string public greeting;\n",
      "    uint256 public greetbit;\n",
      "\n",
      "    constructor() {\n",
      "        greeting = 'Hello';\n",
      "    }\n",
      "\n",
      "    function setGreeting(string memory _greeting) public {\n",
      "        greeting = _greeting;\n",
      "    }\n",
      "\n",
      "    function getGreeting() view public returns (string memory) {\n",
      "        return greeting;\n",
      "    }\n",
      "\n",
      "    function setGreetbool(bool _bool) public {\n",
      "        greetbool = _bool;\n",
      "    }\n",
      "\n",
      "    function getGreetbool() view public returns (bool) {\n",
      "        return greetbool; \n",
      "    }\n",
      "\n",
      "    function setGreetbit(uint256 _bit) public {\n",
      "        greetbit = _bit;\n",
      "    }\n",
      "\n",
      "    fallback() external payable {\n",
      "        greetbit = greetbit ^ 1;\n",
      "    }\n",
      "\n",
      "    receive() external payable {\n",
      "        greetbool = !greetbool;\n",
      "    }\n",
      "}\n"
     ]
    }
   ],
   "source": [
    "# execute console command and print Greeter.sol\n",
    "!cat {EXAMPLE_PATH}/Greeter/Greeter.sol"
   ]
  },
  {
   "cell_type": "code",
   "execution_count": 101,
   "metadata": {},
   "outputs": [
    {
     "name": "stdout",
     "output_type": "stream",
     "text": [
      "solc, the solidity compiler commandline interface\n",
      "Version: 0.8.23+commit.f704f362.Linux.g++\n"
     ]
    }
   ],
   "source": [
    "!solc --version"
   ]
  },
  {
   "cell_type": "code",
   "execution_count": 102,
   "metadata": {},
   "outputs": [
    {
     "name": "stdout",
     "output_type": "stream",
     "text": [
      "/usr/local/bin/solc\t /usr/local/bin/solc_7.4   /usr/local/bin/solc_8.4\n",
      "/usr/local/bin/solc_5.4  /usr/local/bin/solc_8.23\n"
     ]
    }
   ],
   "source": [
    "!ls /usr/local/bin/solc*"
   ]
  },
  {
   "cell_type": "code",
   "execution_count": 103,
   "metadata": {},
   "outputs": [
    {
     "name": "stdout",
     "output_type": "stream",
     "text": [
      "Compiler run successful. Artifact(s) can be found in directory \"./\".\n"
     ]
    }
   ],
   "source": [
    "!solc --bin --overwrite -o ./ Greeter.sol"
   ]
  },
  {
   "cell_type": "code",
   "execution_count": 104,
   "metadata": {
    "scrolled": true
   },
   "outputs": [
    {
     "name": "stdout",
     "output_type": "stream",
     "text": [
      "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"
     ]
    }
   ],
   "source": [
    "!cat Greeter.bin"
   ]
  },
  {
   "cell_type": "code",
   "execution_count": 105,
   "metadata": {},
   "outputs": [],
   "source": [
    "# assign cat output to python variable\n",
    "out = !cat Greeter.bin\n",
    "cbin = out[0]"
   ]
  },
  {
   "cell_type": "code",
   "execution_count": 106,
   "metadata": {},
   "outputs": [
    {
     "name": "stdout",
     "output_type": "stream",
     "text": [
      "Compiler run successful. Artifact(s) can be found in directory \"./\".\n"
     ]
    }
   ],
   "source": [
    "!solc --abi --overwrite -o ./ Greeter.sol"
   ]
  },
  {
   "cell_type": "code",
   "execution_count": 107,
   "metadata": {},
   "outputs": [
    {
     "name": "stdout",
     "output_type": "stream",
     "text": [
      "[{\"inputs\":[],\"stateMutability\":\"nonpayable\",\"type\":\"constructor\"},{\"stateMutability\":\"payable\",\"type\":\"fallback\"},{\"inputs\":[],\"name\":\"getGreetbool\",\"outputs\":[{\"internalType\":\"bool\",\"name\":\"\",\"type\":\"bool\"}],\"stateMutability\":\"view\",\"type\":\"function\"},{\"inputs\":[],\"name\":\"getGreeting\",\"outputs\":[{\"internalType\":\"string\",\"name\":\"\",\"type\":\"string\"}],\"stateMutability\":\"view\",\"type\":\"function\"},{\"inputs\":[],\"name\":\"greetbit\",\"outputs\":[{\"internalType\":\"uint256\",\"name\":\"\",\"type\":\"uint256\"}],\"stateMutability\":\"view\",\"type\":\"function\"},{\"inputs\":[],\"name\":\"greeting\",\"outputs\":[{\"internalType\":\"string\",\"name\":\"\",\"type\":\"string\"}],\"stateMutability\":\"view\",\"type\":\"function\"},{\"inputs\":[{\"internalType\":\"uint256\",\"name\":\"_bit\",\"type\":\"uint256\"}],\"name\":\"setGreetbit\",\"outputs\":[],\"stateMutability\":\"nonpayable\",\"type\":\"function\"},{\"inputs\":[{\"internalType\":\"bool\",\"name\":\"_bool\",\"type\":\"bool\"}],\"name\":\"setGreetbool\",\"outputs\":[],\"stateMutability\":\"nonpayable\",\"type\":\"function\"},{\"inputs\":[{\"internalType\":\"string\",\"name\":\"_greeting\",\"type\":\"string\"}],\"name\":\"setGreeting\",\"outputs\":[],\"stateMutability\":\"nonpayable\",\"type\":\"function\"},{\"stateMutability\":\"payable\",\"type\":\"receive\"}]"
     ]
    }
   ],
   "source": [
    "!cat Greeter.abi"
   ]
  },
  {
   "cell_type": "code",
   "execution_count": 108,
   "metadata": {},
   "outputs": [],
   "source": [
    "out = !cat Greeter.abi\n",
    "cabi = out[0]"
   ]
  },
  {
   "cell_type": "markdown",
   "metadata": {},
   "source": [
    "## Deploy contract"
   ]
  },
  {
   "cell_type": "markdown",
   "metadata": {},
   "source": [
    "One way to send a deploy transaction is using the web3py libary helper function cunstructor.\n",
    "This requires:\n",
    "* The ABI of the contract\n",
    "* The bytecode of the contract"
   ]
  },
  {
   "cell_type": "code",
   "execution_count": 109,
   "metadata": {},
   "outputs": [
    {
     "data": {
      "text/plain": [
       "HexBytes('0x42b863c66a7820f56c48679d118fb6d014144df86543175c71c74ca237208c13')"
      ]
     },
     "execution_count": 109,
     "metadata": {},
     "output_type": "execute_result"
    }
   ],
   "source": [
    "# send transaction to deploy contract with helper function\n",
    "contract=w3.eth.contract(abi=cabi,\n",
    "                         bytecode=cbin)\n",
    "tx_hash = contract.constructor().transact({\"from\":w3.eth.accounts[0],})\n",
    "tx_hash"
   ]
  },
  {
   "cell_type": "markdown",
   "metadata": {},
   "source": [
    "Another way which can also estimate the gas costs of the deploy transaction is sending it \n",
    "directly via `sendTransaction` and add the previously compiled contract as `data`. This requires:\n",
    "* The bytecode of the contract"
   ]
  },
  {
   "cell_type": "code",
   "execution_count": 110,
   "metadata": {},
   "outputs": [
    {
     "data": {
      "text/plain": [
       "611435"
      ]
     },
     "execution_count": 110,
     "metadata": {},
     "output_type": "execute_result"
    }
   ],
   "source": [
    "# estimate gas of deployment transaction\n",
    "w3.eth.estimate_gas({\"from\":w3.eth.accounts[0],\"data\":cbin,\"value\":0})"
   ]
  },
  {
   "cell_type": "code",
   "execution_count": 111,
   "metadata": {},
   "outputs": [
    {
     "data": {
      "text/plain": [
       "HexBytes('0x9e007ce63a8154fb9091af4abca7d52897434bc6765984e665f42a899b0f0124')"
      ]
     },
     "execution_count": 111,
     "metadata": {},
     "output_type": "execute_result"
    }
   ],
   "source": [
    "# send transaction and get transaction hash\n",
    "tx_hash = w3.eth.send_transaction({\"from\":w3.eth.accounts[0],\"data\":cbin,\"value\":0})\n",
    "tx_hash"
   ]
  },
  {
   "cell_type": "code",
   "execution_count": 112,
   "metadata": {
    "scrolled": true
   },
   "outputs": [
    {
     "data": {
      "text/plain": [
       "AttributeDict({'type': 2,\n",
       " 'hash': HexBytes('0x9e007ce63a8154fb9091af4abca7d52897434bc6765984e665f42a899b0f0124'),\n",
       " 'chainId': 1337,\n",
       " 'nonce': 2,\n",
       " 'blockHash': HexBytes('0x4867f8abf809028360e9c60e4764b3ab02d5b54db5405939e869af807a45b26d'),\n",
       " 'blockNumber': 4,\n",
       " 'transactionIndex': 0,\n",
       " 'from': '0x90F8bf6A479f320ead074411a4B0e7944Ea8c9C1',\n",
       " 'to': None,\n",
       " 'value': 0,\n",
       " 'maxPriorityFeePerGas': 1000000000,\n",
       " 'maxFeePerGas': 743561957,\n",
       " 'gasPrice': 743561957,\n",
       " 'gas': 711435,\n",
       " 'input': HexBytes('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'),\n",
       " 'accessList': [],\n",
       " 'v': 0,\n",
       " 'r': HexBytes('0x64a5d1e207d03299407459d6a8ca379fbd1171d7712e638ea0f4bd065b0d0e56'),\n",
       " 's': HexBytes('0x7deeadae391ba9dce7c704161c36d7d5d2de07dd132d4c1f580c311ad8fe2e71'),\n",
       " 'yParity': 0})"
      ]
     },
     "execution_count": 112,
     "metadata": {},
     "output_type": "execute_result"
    }
   ],
   "source": [
    "# here you see the compiled contract as data in the 'input' field \n",
    "# note that the 'to' address is 'None' in smart contract depoloyments\n",
    "tx_info = w3.eth.get_transaction(tx_hash)\n",
    "tx_info"
   ]
  },
  {
   "cell_type": "code",
   "execution_count": 113,
   "metadata": {},
   "outputs": [],
   "source": [
    "tx_info[\"to\"]"
   ]
  },
  {
   "cell_type": "markdown",
   "metadata": {},
   "source": [
    "Normally one has to wait till the transaction goes through, with ganache this is almost instant "
   ]
  },
  {
   "cell_type": "code",
   "execution_count": 114,
   "metadata": {},
   "outputs": [
    {
     "data": {
      "text/plain": [
       "AttributeDict({'transactionHash': HexBytes('0x9e007ce63a8154fb9091af4abca7d52897434bc6765984e665f42a899b0f0124'),\n",
       " 'transactionIndex': 0,\n",
       " 'blockNumber': 4,\n",
       " 'blockHash': HexBytes('0x4867f8abf809028360e9c60e4764b3ab02d5b54db5405939e869af807a45b26d'),\n",
       " 'from': '0x90F8bf6A479f320ead074411a4B0e7944Ea8c9C1',\n",
       " 'to': None,\n",
       " 'cumulativeGasUsed': 611435,\n",
       " 'gasUsed': 611435,\n",
       " 'contractAddress': '0xCfEB869F69431e42cdB54A4F4f105C19C080A601',\n",
       " 'logs': [],\n",
       " 'logsBloom': HexBytes('0x00000000000000000000000000000000000000000000000000000000000000000000000000000000000000000000000000000000000000000000000000000000000000000000000000000000000000000000000000000000000000000000000000000000000000000000000000000000000000000000000000000000000000000000000000000000000000000000000000000000000000000000000000000000000000000000000000000000000000000000000000000000000000000000000000000000000000000000000000000000000000000000000000000000000000000000000000000000000000000000000000000000000000000000000000000000'),\n",
       " 'status': 1,\n",
       " 'effectiveGasPrice': 743561957,\n",
       " 'type': 2})"
      ]
     },
     "execution_count": 114,
     "metadata": {},
     "output_type": "execute_result"
    }
   ],
   "source": [
    "# wait till tx goes through \n",
    "tx_receipt = w3.eth.wait_for_transaction_receipt(tx_hash)\n",
    "tx_receipt\n",
    "\n",
    "# other way without wait only successful if mined:\n",
    "# w3.eth.getTransactionReceipt(tx_hash)"
   ]
  },
  {
   "cell_type": "code",
   "execution_count": 115,
   "metadata": {},
   "outputs": [
    {
     "data": {
      "text/plain": [
       "'0xCfEB869F69431e42cdB54A4F4f105C19C080A601'"
      ]
     },
     "execution_count": 115,
     "metadata": {},
     "output_type": "execute_result"
    }
   ],
   "source": [
    "# the important thing from the tx receipt is the address at which \n",
    "# the contract was deployed\n",
    "caddress = tx_receipt[\"contractAddress\"]\n",
    "caddress"
   ]
  },
  {
   "cell_type": "code",
   "execution_count": 116,
   "metadata": {},
   "outputs": [
    {
     "data": {
      "text/plain": [
       "611435"
      ]
     },
     "execution_count": 116,
     "metadata": {},
     "output_type": "execute_result"
    }
   ],
   "source": [
    "# double check if the gasUsed was really our estimate\n",
    "blk = w3.eth.get_block(tx_receipt[\"blockNumber\"])\n",
    "blk[\"gasUsed\"]"
   ]
  },
  {
   "cell_type": "markdown",
   "metadata": {},
   "source": [
    "## Interact with deployed contract"
   ]
  },
  {
   "cell_type": "markdown",
   "metadata": {},
   "source": [
    "To get an instance of a deployed contract at its current state we require:\n",
    "* The contract address `caddress`\n",
    "* Some ABI information `cabi` either from compiling the contract like done previously or reconstructed through reverse engineering of the bytecode stored in the blockchain.  "
   ]
  },
  {
   "cell_type": "code",
   "execution_count": 117,
   "metadata": {},
   "outputs": [],
   "source": [
    "# instanciate a deployed contract\n",
    "instance = w3.eth.contract(address=caddress,\n",
    "                           abi=cabi)"
   ]
  },
  {
   "cell_type": "code",
   "execution_count": 118,
   "metadata": {},
   "outputs": [
    {
     "data": {
      "text/plain": [
       "'0xCfEB869F69431e42cdB54A4F4f105C19C080A601'"
      ]
     },
     "execution_count": 118,
     "metadata": {},
     "output_type": "execute_result"
    }
   ],
   "source": [
    "instance.address # The address of the deployed contract"
   ]
  },
  {
   "cell_type": "code",
   "execution_count": 119,
   "metadata": {
    "scrolled": true
   },
   "outputs": [
    {
     "data": {
      "text/plain": [
       "[{'inputs': [], 'stateMutability': 'nonpayable', 'type': 'constructor'},\n",
       " {'stateMutability': 'payable', 'type': 'fallback'},\n",
       " {'inputs': [],\n",
       "  'name': 'getGreetbool',\n",
       "  'outputs': [{'internalType': 'bool', 'name': '', 'type': 'bool'}],\n",
       "  'stateMutability': 'view',\n",
       "  'type': 'function'},\n",
       " {'inputs': [],\n",
       "  'name': 'getGreeting',\n",
       "  'outputs': [{'internalType': 'string', 'name': '', 'type': 'string'}],\n",
       "  'stateMutability': 'view',\n",
       "  'type': 'function'},\n",
       " {'inputs': [],\n",
       "  'name': 'greetbit',\n",
       "  'outputs': [{'internalType': 'uint256', 'name': '', 'type': 'uint256'}],\n",
       "  'stateMutability': 'view',\n",
       "  'type': 'function'},\n",
       " {'inputs': [],\n",
       "  'name': 'greeting',\n",
       "  'outputs': [{'internalType': 'string', 'name': '', 'type': 'string'}],\n",
       "  'stateMutability': 'view',\n",
       "  'type': 'function'},\n",
       " {'inputs': [{'internalType': 'uint256', 'name': '_bit', 'type': 'uint256'}],\n",
       "  'name': 'setGreetbit',\n",
       "  'outputs': [],\n",
       "  'stateMutability': 'nonpayable',\n",
       "  'type': 'function'},\n",
       " {'inputs': [{'internalType': 'bool', 'name': '_bool', 'type': 'bool'}],\n",
       "  'name': 'setGreetbool',\n",
       "  'outputs': [],\n",
       "  'stateMutability': 'nonpayable',\n",
       "  'type': 'function'},\n",
       " {'inputs': [{'internalType': 'string',\n",
       "    'name': '_greeting',\n",
       "    'type': 'string'}],\n",
       "  'name': 'setGreeting',\n",
       "  'outputs': [],\n",
       "  'stateMutability': 'nonpayable',\n",
       "  'type': 'function'},\n",
       " {'stateMutability': 'payable', 'type': 'receive'}]"
      ]
     },
     "execution_count": 119,
     "metadata": {},
     "output_type": "execute_result"
    }
   ],
   "source": [
    "instance.abi # The ABI of the deplyed contract"
   ]
  },
  {
   "cell_type": "markdown",
   "metadata": {},
   "source": [
    "### Read storage from deployed contract"
   ]
  },
  {
   "cell_type": "code",
   "execution_count": 120,
   "metadata": {},
   "outputs": [
    {
     "name": "stdout",
     "output_type": "stream",
     "text": [
      "Hello\n",
      "False\n"
     ]
    }
   ],
   "source": [
    "# view functions dont change state (just read it) and can therefore be executed to read state\n",
    "# without performing a transaction on the blockchain\n",
    "print(instance.functions.getGreeting().call())\n",
    "print(instance.functions.getGreetbool().call())"
   ]
  },
  {
   "cell_type": "code",
   "execution_count": 121,
   "metadata": {},
   "outputs": [
    {
     "name": "stdout",
     "output_type": "stream",
     "text": [
      "Hello\n",
      "0\n"
     ]
    }
   ],
   "source": [
    "# the value of public variables can also be read directly without a getter function\n",
    "print(instance.functions.greeting().call())\n",
    "print(instance.functions.greetbit().call())"
   ]
  },
  {
   "cell_type": "code",
   "execution_count": 122,
   "metadata": {},
   "outputs": [
    {
     "name": "stdout",
     "output_type": "stream",
     "text": [
      "<class 'web3.exceptions.ABIFunctionNotFound'>\n"
     ]
    }
   ],
   "source": [
    "# the value of private variables cannot be queried directly,\n",
    "# but this does not offer protection against reads \n",
    "import sys\n",
    "try:\n",
    "    print(instance.functions.greetbool().call())\n",
    "except:\n",
    "    e = sys.exc_info()[0]\n",
    "    print(e)"
   ]
  },
  {
   "cell_type": "markdown",
   "metadata": {},
   "source": [
    "To read the first value from the storage (in our case the bool variable) we can use\n",
    "the following function (even if there would be not getter function for it):"
   ]
  },
  {
   "cell_type": "code",
   "execution_count": 123,
   "metadata": {},
   "outputs": [
    {
     "name": "stdout",
     "output_type": "stream",
     "text": [
      "False\n"
     ]
    }
   ],
   "source": [
    "assert instance.functions.getGreetbool().call() == False\n",
    "print(instance.functions.getGreetbool().call())"
   ]
  },
  {
   "cell_type": "code",
   "execution_count": 124,
   "metadata": {},
   "outputs": [
    {
     "data": {
      "text/plain": [
       "'0x'"
      ]
     },
     "execution_count": 124,
     "metadata": {},
     "output_type": "execute_result"
    }
   ],
   "source": [
    "w3.eth.get_storage_at(caddress,0).hex() # uninitialized / None"
   ]
  },
  {
   "cell_type": "code",
   "execution_count": 125,
   "metadata": {},
   "outputs": [
    {
     "data": {
      "text/plain": [
       "HexBytes('0x')"
      ]
     },
     "execution_count": 125,
     "metadata": {},
     "output_type": "execute_result"
    }
   ],
   "source": [
    "assert w3.eth.get_storage_at(caddress,0).hex() == \"0x\" \n",
    "w3.eth.get_storage_at(caddress,0)"
   ]
  },
  {
   "cell_type": "markdown",
   "metadata": {},
   "source": [
    "No we execute a transaction and see if the bool value has changed:"
   ]
  },
  {
   "cell_type": "code",
   "execution_count": 126,
   "metadata": {},
   "outputs": [
    {
     "name": "stdout",
     "output_type": "stream",
     "text": [
      "Tx hash:  0x80631febd377381523cfed30f9f00605f77e1b2bd2b87e9debf57c5cf8b492e8\n",
      "Now lets wait till tx gets mined (in ganache this is instant) ... \n"
     ]
    }
   ],
   "source": [
    "tx_hash = instance.functions.setGreetbool(True).transact({\"from\":w3.eth.accounts[0]})\n",
    "print(\"Tx hash: \",tx_hash.hex())\n",
    "print(\"Now lets wait till tx gets mined (in ganache this is instant) ... \")\n",
    "tx_receipt = w3.eth.wait_for_transaction_receipt(tx_hash)"
   ]
  },
  {
   "cell_type": "code",
   "execution_count": 127,
   "metadata": {},
   "outputs": [
    {
     "name": "stdout",
     "output_type": "stream",
     "text": [
      "True\n"
     ]
    }
   ],
   "source": [
    "assert instance.functions.getGreetbool().call() == True\n",
    "print(instance.functions.getGreetbool().call())"
   ]
  },
  {
   "cell_type": "code",
   "execution_count": 128,
   "metadata": {},
   "outputs": [
    {
     "data": {
      "text/plain": [
       "HexBytes('0x0000000000000000000000000000000000000000000000000000000000000001')"
      ]
     },
     "execution_count": 128,
     "metadata": {},
     "output_type": "execute_result"
    }
   ],
   "source": [
    "assert int(w3.eth.get_storage_at(caddress,0).hex()[2:],16) == 0x01\n",
    "w3.eth.get_storage_at(caddress,0)"
   ]
  },
  {
   "cell_type": "code",
   "execution_count": 129,
   "metadata": {},
   "outputs": [
    {
     "data": {
      "text/plain": [
       "'0x0000000000000000000000000000000000000000000000000000000000000001'"
      ]
     },
     "execution_count": 129,
     "metadata": {},
     "output_type": "execute_result"
    }
   ],
   "source": [
    "w3.eth.get_storage_at(caddress,0).hex()"
   ]
  },
  {
   "cell_type": "markdown",
   "metadata": {},
   "source": [
    "### Function input (calldata)"
   ]
  },
  {
   "cell_type": "markdown",
   "metadata": {},
   "source": [
    "Now lets set the string value:"
   ]
  },
  {
   "cell_type": "code",
   "execution_count": 130,
   "metadata": {},
   "outputs": [
    {
     "name": "stdout",
     "output_type": "stream",
     "text": [
      "Hello\n"
     ]
    }
   ],
   "source": [
    "# Read the current greeting string value\n",
    "print(instance.functions.greeting().call())"
   ]
  },
  {
   "cell_type": "code",
   "execution_count": 131,
   "metadata": {},
   "outputs": [
    {
     "data": {
      "text/plain": [
       "'0x1e17b37dd343712d2240c160f25c98697e4fb0ba891b5afcbeed7016e06c29a6'"
      ]
     },
     "execution_count": 131,
     "metadata": {},
     "output_type": "execute_result"
    }
   ],
   "source": [
    "tx_hash = instance.functions.setGreeting(\"Hello World!\").transact(\n",
    "    {\"from\":w3.eth.accounts[0]})\n",
    "tx_hash.hex()"
   ]
  },
  {
   "cell_type": "code",
   "execution_count": 132,
   "metadata": {},
   "outputs": [
    {
     "name": "stdout",
     "output_type": "stream",
     "text": [
      "Hello World!\n"
     ]
    }
   ],
   "source": [
    "# lets check if the output is now different i.e., the value has changed \n",
    "print(instance.functions.greeting().call())"
   ]
  },
  {
   "cell_type": "code",
   "execution_count": 133,
   "metadata": {
    "scrolled": true
   },
   "outputs": [
    {
     "data": {
      "text/plain": [
       "AttributeDict({'type': 2,\n",
       " 'hash': HexBytes('0x1e17b37dd343712d2240c160f25c98697e4fb0ba891b5afcbeed7016e06c29a6'),\n",
       " 'chainId': 1337,\n",
       " 'nonce': 4,\n",
       " 'blockHash': HexBytes('0xb0aee228ecdb3bd82bbd7001484a2401d0d351bb32ba31af21d8b6b2c9aa49a9'),\n",
       " 'blockNumber': 6,\n",
       " 'transactionIndex': 0,\n",
       " 'from': '0x90F8bf6A479f320ead074411a4B0e7944Ea8c9C1',\n",
       " 'to': '0xCfEB869F69431e42cdB54A4F4f105C19C080A601',\n",
       " 'value': 0,\n",
       " 'maxPriorityFeePerGas': 1000000000,\n",
       " 'maxFeePerGas': 570622027,\n",
       " 'gasPrice': 570622027,\n",
       " 'gas': 128183,\n",
       " 'input': HexBytes('0xa41368620000000000000000000000000000000000000000000000000000000000000020000000000000000000000000000000000000000000000000000000000000000c48656c6c6f20576f726c64210000000000000000000000000000000000000000'),\n",
       " 'accessList': [],\n",
       " 'v': 0,\n",
       " 'r': HexBytes('0x6703f8e797b079c1fdfa69cf8254a3105d98ebfb81fee78e5097a814e24430d5'),\n",
       " 's': HexBytes('0x49c00f023c0710e6103396a0d2dc546f31decdc7b21d621e3d3e6f7f5ce10507'),\n",
       " 'yParity': 0})"
      ]
     },
     "execution_count": 133,
     "metadata": {},
     "output_type": "execute_result"
    }
   ],
   "source": [
    "tx_info = w3.eth.get_transaction(tx_hash)\n",
    "tx_info"
   ]
  },
  {
   "cell_type": "code",
   "execution_count": 134,
   "metadata": {},
   "outputs": [
    {
     "data": {
      "text/plain": [
       "HexBytes('0x68620000000000000000000000000000000000000000000000000000000000000020000000000000000000000000000000000000000000000000000000000000000c48656c6c6f20576f726c64210000000000000000000000000000000000000000')"
      ]
     },
     "execution_count": 134,
     "metadata": {},
     "output_type": "execute_result"
    }
   ],
   "source": [
    "input_data = tx_info[\"input\"][2:]\n",
    "input_data"
   ]
  },
  {
   "cell_type": "code",
   "execution_count": 135,
   "metadata": {},
   "outputs": [
    {
     "data": {
      "text/plain": [
       "'0x68620000000000000000000000000000000000000000000000000000000000000020000000000000000000000000000000000000000000000000000000000000000c48656c6c6f20576f726c64210000000000000000000000000000000000000000'"
      ]
     },
     "execution_count": 135,
     "metadata": {},
     "output_type": "execute_result"
    }
   ],
   "source": [
    "input_data.hex()"
   ]
  },
  {
   "cell_type": "code",
   "execution_count": 136,
   "metadata": {},
   "outputs": [
    {
     "data": {
      "text/plain": [
       "b'hb\\x00\\x00\\x00\\x00\\x00\\x00\\x00\\x00\\x00\\x00\\x00\\x00\\x00\\x00\\x00\\x00\\x00\\x00\\x00\\x00\\x00\\x00\\x00\\x00\\x00\\x00\\x00\\x00\\x00\\x00\\x00 \\x00\\x00\\x00\\x00\\x00\\x00\\x00\\x00\\x00\\x00\\x00\\x00\\x00\\x00\\x00\\x00\\x00\\x00\\x00\\x00\\x00\\x00\\x00\\x00\\x00\\x00\\x00\\x00\\x00\\x00\\x00\\x0cHello World!\\x00\\x00\\x00\\x00\\x00\\x00\\x00\\x00\\x00\\x00\\x00\\x00\\x00\\x00\\x00\\x00\\x00\\x00\\x00\\x00'"
      ]
     },
     "execution_count": 136,
     "metadata": {},
     "output_type": "execute_result"
    }
   ],
   "source": [
    "bytes.fromhex(input_data.hex()[2:])"
   ]
  },
  {
   "cell_type": "code",
   "execution_count": 137,
   "metadata": {},
   "outputs": [
    {
     "data": {
      "text/plain": [
       "b'hb\\x00\\x00\\x00\\x00\\x00\\x00\\x00\\x00\\x00\\x00\\x00\\x00\\x00\\x00\\x00\\x00\\x00\\x00\\x00\\x00\\x00\\x00\\x00\\x00\\x00\\x00\\x00\\x00\\x00\\x00\\x00 \\x00\\x00\\x00\\x00\\x00\\x00\\x00\\x00\\x00\\x00\\x00\\x00\\x00\\x00\\x00\\x00\\x00\\x00\\x00\\x00\\x00\\x00\\x00\\x00\\x00\\x00\\x00\\x00\\x00\\x00\\x00\\x0cHello World!\\x00\\x00\\x00\\x00\\x00\\x00\\x00\\x00\\x00\\x00\\x00\\x00\\x00\\x00\\x00\\x00\\x00\\x00\\x00\\x00'"
      ]
     },
     "execution_count": 137,
     "metadata": {},
     "output_type": "execute_result"
    }
   ],
   "source": [
    "w3.to_bytes(hexstr=input_data.hex())"
   ]
  },
  {
   "cell_type": "markdown",
   "metadata": {},
   "source": [
    "Lets decode the calldata input, in this case of one dynamic type parameter string:\n",
    "* https://solidity.readthedocs.io/en/latest/abi-spec.html#abi"
   ]
  },
  {
   "cell_type": "markdown",
   "metadata": {},
   "source": [
    "The first 4 bytes (8 hex characters) are the **function signature**. \n",
    "See next section for more details. \n",
    "\n",
    "The remaining bytes are the string parameter, seperated and aligned in three 32 bytes (256 bit) chunks. "
   ]
  },
  {
   "cell_type": "code",
   "execution_count": 138,
   "metadata": {},
   "outputs": [
    {
     "data": {
      "text/plain": [
       "1"
      ]
     },
     "execution_count": 138,
     "metadata": {},
     "output_type": "execute_result"
    }
   ],
   "source": [
    "(len(input_data)-8)//64 "
   ]
  },
  {
   "cell_type": "code",
   "execution_count": 139,
   "metadata": {},
   "outputs": [
    {
     "data": {
      "text/plain": [
       "[HexBytes('0x0000000000000000000000000000000000000000000000000020000000000000000000000000000000000000000000000000000000000000000c48656c6c6f20'),\n",
       " HexBytes('0x576f726c64210000000000000000000000000000000000000000')]"
      ]
     },
     "execution_count": 139,
     "metadata": {},
     "output_type": "execute_result"
    }
   ],
   "source": [
    "[ input_data[8:][i:i+64] for i in range(0,len(input_data),64) ]"
   ]
  },
  {
   "cell_type": "markdown",
   "metadata": {},
   "source": [
    "The first parameter is the offset in bytes to the data part of the first (and only) dynamic parameter string in our case. \n",
    "This offset is computed starting from the arguments block. "
   ]
  },
  {
   "cell_type": "code",
   "execution_count": 140,
   "metadata": {},
   "outputs": [
    {
     "data": {
      "text/plain": [
       "32"
      ]
     },
     "execution_count": 140,
     "metadata": {},
     "output_type": "execute_result"
    }
   ],
   "source": [
    "offset = 0x20\n",
    "offset"
   ]
  },
  {
   "cell_type": "markdown",
   "metadata": {},
   "source": [
    "After the offset the length of the string is encoded. "
   ]
  },
  {
   "cell_type": "code",
   "execution_count": 141,
   "metadata": {},
   "outputs": [
    {
     "data": {
      "text/plain": [
       "12"
      ]
     },
     "execution_count": 141,
     "metadata": {},
     "output_type": "execute_result"
    }
   ],
   "source": [
    "string_length = 0x0c\n",
    "string_length"
   ]
  },
  {
   "cell_type": "markdown",
   "metadata": {},
   "source": [
    "The rest is the actual string"
   ]
  },
  {
   "cell_type": "code",
   "execution_count": 142,
   "metadata": {},
   "outputs": [
    {
     "name": "stdout",
     "output_type": "stream",
     "text": [
      "Hello World!\n",
      "length =  12\n"
     ]
    }
   ],
   "source": [
    "# lets decode the input data of the transaction\n",
    "input_data = bytes.fromhex(\"48656c6c6f20576f726c6421\").decode(\"utf-8\")\n",
    "print(input_data) # input data string\n",
    "print(\"length = \",len(input_data))"
   ]
  },
  {
   "cell_type": "markdown",
   "metadata": {},
   "source": [
    "There is also helper function that can decode and encode function parameters in a more human readable form:"
   ]
  },
  {
   "cell_type": "code",
   "execution_count": 143,
   "metadata": {},
   "outputs": [
    {
     "data": {
      "text/plain": [
       "(<Function setGreeting(string)>, {'_greeting': 'Hello World!'})"
      ]
     },
     "execution_count": 143,
     "metadata": {},
     "output_type": "execute_result"
    }
   ],
   "source": [
    "# decode\n",
    "instance.decode_function_input(tx_info.input)"
   ]
  },
  {
   "cell_type": "code",
   "execution_count": 144,
   "metadata": {},
   "outputs": [
    {
     "data": {
      "text/plain": [
       "'0xa41368620000000000000000000000000000000000000000000000000000000000000020000000000000000000000000000000000000000000000000000000000000000c48656c6c6f20576f726c64210000000000000000000000000000000000000000'"
      ]
     },
     "execution_count": 144,
     "metadata": {},
     "output_type": "execute_result"
    }
   ],
   "source": [
    "# encode\n",
    "payload= instance.encodeABI(fn_name='setGreeting', args=[\"Hello World!\"])\n",
    "payload"
   ]
  },
  {
   "cell_type": "markdown",
   "metadata": {},
   "source": [
    "There is also a way to directly access the variables in the storage of a contract. This also required decoding which is slightly different:\n",
    "> For short byte arrays, they store their data in the same slot where the length is also stored. In particular: if the data is at most 31 bytes long, it is stored in the higher-order bytes (left aligned) and the lowest-order byte stores length * 2\n",
    "\n",
    "* https://solidity.readthedocs.io/en/latest/miscellaneous.html?highlight=storage#bytes-and-string"
   ]
  },
  {
   "cell_type": "markdown",
   "metadata": {},
   "source": [
    "The first element in storage is the bool variable (we have seen this already):"
   ]
  },
  {
   "cell_type": "code",
   "execution_count": 145,
   "metadata": {},
   "outputs": [
    {
     "data": {
      "text/plain": [
       "HexBytes('0x0000000000000000000000000000000000000000000000000000000000000001')"
      ]
     },
     "execution_count": 145,
     "metadata": {},
     "output_type": "execute_result"
    }
   ],
   "source": [
    "w3.eth.get_storage_at(caddress,0)"
   ]
  },
  {
   "cell_type": "markdown",
   "metadata": {},
   "source": [
    "The second element in storage is the string:"
   ]
  },
  {
   "cell_type": "code",
   "execution_count": 146,
   "metadata": {},
   "outputs": [
    {
     "data": {
      "text/plain": [
       "HexBytes('0x48656c6c6f20576f726c64210000000000000000000000000000000000000018')"
      ]
     },
     "execution_count": 146,
     "metadata": {},
     "output_type": "execute_result"
    }
   ],
   "source": [
    "w3.eth.get_storage_at(caddress,1)"
   ]
  },
  {
   "cell_type": "code",
   "execution_count": 147,
   "metadata": {},
   "outputs": [
    {
     "data": {
      "text/plain": [
       "'0x18'"
      ]
     },
     "execution_count": 147,
     "metadata": {},
     "output_type": "execute_result"
    }
   ],
   "source": [
    "hex(string_length * 2) # lowest-order byte stores the length * 2"
   ]
  },
  {
   "cell_type": "markdown",
   "metadata": {},
   "source": [
    "### Function signature (aka. method ID)\n",
    "The four byte *function signature* or *method id* has to be specified at the beginning of the input data. It selects the function that is invoked with the respective arguments."
   ]
  },
  {
   "cell_type": "code",
   "execution_count": 148,
   "metadata": {},
   "outputs": [
    {
     "data": {
      "text/plain": [
       "4"
      ]
     },
     "execution_count": 148,
     "metadata": {},
     "output_type": "execute_result"
    }
   ],
   "source": [
    "# 4 byte function signature or method_id\n",
    "len(\"a4136862\")//2"
   ]
  },
  {
   "cell_type": "code",
   "execution_count": 149,
   "metadata": {},
   "outputs": [
    {
     "data": {
      "text/plain": [
       "'a4136862'"
      ]
     },
     "execution_count": 149,
     "metadata": {},
     "output_type": "execute_result"
    }
   ],
   "source": [
    "from sha3 import keccak_256\n",
    "sha3_hash = keccak_256(b\"setGreeting(string)\").hexdigest()\n",
    "method_id = sha3_hash[:8]\n",
    "method_id"
   ]
  },
  {
   "cell_type": "code",
   "execution_count": 150,
   "metadata": {},
   "outputs": [
    {
     "data": {
      "text/plain": [
       "0"
      ]
     },
     "execution_count": 150,
     "metadata": {},
     "output_type": "execute_result"
    }
   ],
   "source": [
    "instance.functions.greetbit().call()"
   ]
  },
  {
   "cell_type": "code",
   "execution_count": 151,
   "metadata": {},
   "outputs": [
    {
     "data": {
      "text/plain": [
       "HexBytes('0x')"
      ]
     },
     "execution_count": 151,
     "metadata": {},
     "output_type": "execute_result"
    }
   ],
   "source": [
    "w3.eth.get_storage_at(caddress,2)"
   ]
  },
  {
   "cell_type": "code",
   "execution_count": 152,
   "metadata": {},
   "outputs": [
    {
     "data": {
      "text/plain": [
       "HexBytes('0x7f259ff18fdc045ef0f0460646b9de19cae08246b13887fcaa7a0dce7e567cf1')"
      ]
     },
     "execution_count": 152,
     "metadata": {},
     "output_type": "execute_result"
    }
   ],
   "source": [
    "tx_hash = instance.functions.setGreetbit(1).transact(\n",
    "    {\"from\":w3.eth.accounts[0]})\n",
    "tx_hash"
   ]
  },
  {
   "cell_type": "code",
   "execution_count": 153,
   "metadata": {},
   "outputs": [
    {
     "data": {
      "text/plain": [
       "1"
      ]
     },
     "execution_count": 153,
     "metadata": {},
     "output_type": "execute_result"
    }
   ],
   "source": [
    "instance.functions.greetbit().call()"
   ]
  },
  {
   "cell_type": "code",
   "execution_count": 154,
   "metadata": {},
   "outputs": [
    {
     "data": {
      "text/plain": [
       "HexBytes('0x0000000000000000000000000000000000000000000000000000000000000001')"
      ]
     },
     "execution_count": 154,
     "metadata": {},
     "output_type": "execute_result"
    }
   ],
   "source": [
    "w3.eth.get_storage_at(caddress,2)"
   ]
  },
  {
   "cell_type": "code",
   "execution_count": 155,
   "metadata": {},
   "outputs": [
    {
     "data": {
      "text/plain": [
       "HexBytes('0x4f11dbea0000000000000000000000000000000000000000000000000000000000000001')"
      ]
     },
     "execution_count": 155,
     "metadata": {},
     "output_type": "execute_result"
    }
   ],
   "source": [
    "tx_info = w3.eth.get_transaction(tx_hash)\n",
    "tx_info['input']"
   ]
  },
  {
   "cell_type": "code",
   "execution_count": 156,
   "metadata": {},
   "outputs": [
    {
     "data": {
      "text/plain": [
       "'4f11dbea'"
      ]
     },
     "execution_count": 156,
     "metadata": {},
     "output_type": "execute_result"
    }
   ],
   "source": [
    "from sha3 import keccak_256\n",
    "sha3_hash = keccak_256(b\"setGreetbit(uint256)\").hexdigest()\n",
    "method_id = sha3_hash[:8]\n",
    "method_id"
   ]
  },
  {
   "cell_type": "code",
   "execution_count": 157,
   "metadata": {},
   "outputs": [
    {
     "data": {
      "text/plain": [
       "256.0"
      ]
     },
     "execution_count": 157,
     "metadata": {},
     "output_type": "execute_result"
    }
   ],
   "source": [
    "len(\"0000000000000000000000000000000000000000000000000000000000000001\")/2 * 8"
   ]
  },
  {
   "cell_type": "markdown",
   "metadata": {},
   "source": [
    "You can also manually send a transaction, this should work with `geth`"
   ]
  },
  {
   "cell_type": "code",
   "execution_count": 158,
   "metadata": {},
   "outputs": [
    {
     "data": {
      "text/plain": [
       "HexBytes('0x2577c21d0c7bd3e162ffb3ea5400b774d2aae2757690857d26e6254f4ded625e')"
      ]
     },
     "execution_count": 158,
     "metadata": {},
     "output_type": "execute_result"
    }
   ],
   "source": [
    "# This should be possible with geth but is not with web3py:\n",
    "cdata = b\"0x4f11dbea0000000000000000000000000000000000000000000000000000000000000000\"\n",
    "tx_hash = w3.eth.send_transaction({\"from\":w3.eth.accounts[0],\"to\":caddress,\"data\":cdata,\"value\":0,\"gas\":100_000})\n",
    "tx_hash"
   ]
  },
  {
   "cell_type": "code",
   "execution_count": 159,
   "metadata": {},
   "outputs": [
    {
     "data": {
      "text/plain": [
       "0"
      ]
     },
     "execution_count": 159,
     "metadata": {},
     "output_type": "execute_result"
    }
   ],
   "source": [
    "instance.functions.greetbit().call()"
   ]
  },
  {
   "cell_type": "markdown",
   "metadata": {},
   "source": [
    "You can also use:\n",
    "* the `getData()` method in the `geth` REPL console to construct the `input` data hex string. \n",
    "* the `encodeABI()` method in `web3`"
   ]
  },
  {
   "cell_type": "code",
   "execution_count": 160,
   "metadata": {},
   "outputs": [
    {
     "data": {
      "text/plain": [
       "'0x4f11dbea0000000000000000000000000000000000000000000000000000000000000001'"
      ]
     },
     "execution_count": 160,
     "metadata": {},
     "output_type": "execute_result"
    }
   ],
   "source": [
    "payload= instance.encodeABI(fn_name='setGreetbit', args=[1])\n",
    "payload"
   ]
  },
  {
   "cell_type": "markdown",
   "metadata": {},
   "source": [
    "### Debug Transaction"
   ]
  },
  {
   "cell_type": "markdown",
   "metadata": {},
   "source": [
    "To debug a transaction the following functions can be used: "
   ]
  },
  {
   "cell_type": "code",
   "execution_count": 161,
   "metadata": {
    "scrolled": true
   },
   "outputs": [
    {
     "data": {
      "text/plain": [
       "{'id': 155,\n",
       " 'jsonrpc': '2.0',\n",
       " 'result': {'gas': '0x6ad9',\n",
       "  'structLogs': [{'depth': 1,\n",
       "    'error': '',\n",
       "    'gas': '0x12ff8',\n",
       "    'gasCost': 3,\n",
       "    'memory': [],\n",
       "    'op': 'PUSH1',\n",
       "    'pc': 0,\n",
       "    'stack': [],\n",
       "    'storage': {}},\n",
       "   {'depth': 1,\n",
       "    'error': '',\n",
       "    'gas': '0x12ff5',\n",
       "    'gasCost': 3,\n",
       "    'memory': [],\n",
       "    'op': 'PUSH1',\n",
       "    'pc': 2,\n",
       "    'stack': ['0000000000000000000000000000000000000000000000000000000000000080'],\n",
       "    'storage': {}},\n",
       "   {'depth': 1,\n",
       "    'error': '',\n",
       "    'gas': '0x12ff2',\n",
       "    'gasCost': 12,\n",
       "    'memory': ['0000000000000000000000000000000000000000000000000000000000000000',\n",
       "     '0000000000000000000000000000000000000000000000000000000000000000',\n",
       "     '0000000000000000000000000000000000000000000000000000000000000000'],\n",
       "    'op': 'MSTORE',\n",
       "    'pc': 4,\n",
       "    'stack': ['0000000000000000000000000000000000000000000000000000000000000080',\n",
       "     '0000000000000000000000000000000000000000000000000000000000000040'],\n",
       "    'storage': {}},\n",
       "   {'depth': 1,\n",
       "    'error': '',\n",
       "    'gas': '0x12fe6',\n",
       "    'gasCost': 3,\n",
       "    'memory': ['0000000000000000000000000000000000000000000000000000000000000000',\n",
       "     '0000000000000000000000000000000000000000000000000000000000000000',\n",
       "     '0000000000000000000000000000000000000000000000000000000000000080'],\n",
       "    'op': 'PUSH1',\n",
       "    'pc': 5,\n",
       "    'stack': [],\n",
       "    'storage': {}},\n",
       "   {'depth': 1,\n",
       "    'error': '',\n",
       "    'gas': '0x12fe3',\n",
       "    'gasCost': 2,\n",
       "    'memory': ['0000000000000000000000000000000000000000000000000000000000000000',\n",
       "     '0000000000000000000000000000000000000000000000000000000000000000',\n",
       "     '0000000000000000000000000000000000000000000000000000000000000080'],\n",
       "    'op': 'CALLDATASIZE',\n",
       "    'pc': 7,\n",
       "    'stack': ['0000000000000000000000000000000000000000000000000000000000000004'],\n",
       "    'storage': {}},\n",
       "   {'depth': 1,\n",
       "    'error': '',\n",
       "    'gas': '0x12fe1',\n",
       "    'gasCost': 3,\n",
       "    'memory': ['0000000000000000000000000000000000000000000000000000000000000000',\n",
       "     '0000000000000000000000000000000000000000000000000000000000000000',\n",
       "     '0000000000000000000000000000000000000000000000000000000000000080'],\n",
       "    'op': 'LT',\n",
       "    'pc': 8,\n",
       "    'stack': ['0000000000000000000000000000000000000000000000000000000000000004',\n",
       "     '000000000000000000000000000000000000000000000000000000000000004a'],\n",
       "    'storage': {}},\n",
       "   {'depth': 1,\n",
       "    'error': '',\n",
       "    'gas': '0x12fde',\n",
       "    'gasCost': 3,\n",
       "    'memory': ['0000000000000000000000000000000000000000000000000000000000000000',\n",
       "     '0000000000000000000000000000000000000000000000000000000000000000',\n",
       "     '0000000000000000000000000000000000000000000000000000000000000080'],\n",
       "    'op': 'PUSH2',\n",
       "    'pc': 9,\n",
       "    'stack': ['0000000000000000000000000000000000000000000000000000000000000000'],\n",
       "    'storage': {}},\n",
       "   {'depth': 1,\n",
       "    'error': '',\n",
       "    'gas': '0x12fdb',\n",
       "    'gasCost': 10,\n",
       "    'memory': ['0000000000000000000000000000000000000000000000000000000000000000',\n",
       "     '0000000000000000000000000000000000000000000000000000000000000000',\n",
       "     '0000000000000000000000000000000000000000000000000000000000000080'],\n",
       "    'op': 'JUMPI',\n",
       "    'pc': 12,\n",
       "    'stack': ['0000000000000000000000000000000000000000000000000000000000000000',\n",
       "     '0000000000000000000000000000000000000000000000000000000000000073'],\n",
       "    'storage': {}},\n",
       "   {'depth': 1,\n",
       "    'error': '',\n",
       "    'gas': '0x12fd1',\n",
       "    'gasCost': 2,\n",
       "    'memory': ['0000000000000000000000000000000000000000000000000000000000000000',\n",
       "     '0000000000000000000000000000000000000000000000000000000000000000',\n",
       "     '0000000000000000000000000000000000000000000000000000000000000080'],\n",
       "    'op': 'PUSH0',\n",
       "    'pc': 13,\n",
       "    'stack': [],\n",
       "    'storage': {}},\n",
       "   {'depth': 1,\n",
       "    'error': '',\n",
       "    'gas': '0x12fcf',\n",
       "    'gasCost': 3,\n",
       "    'memory': ['0000000000000000000000000000000000000000000000000000000000000000',\n",
       "     '0000000000000000000000000000000000000000000000000000000000000000',\n",
       "     '0000000000000000000000000000000000000000000000000000000000000080'],\n",
       "    'op': 'CALLDATALOAD',\n",
       "    'pc': 14,\n",
       "    'stack': ['0000000000000000000000000000000000000000000000000000000000000000'],\n",
       "    'storage': {}},\n",
       "   {'depth': 1,\n",
       "    'error': '',\n",
       "    'gas': '0x12fcc',\n",
       "    'gasCost': 3,\n",
       "    'memory': ['0000000000000000000000000000000000000000000000000000000000000000',\n",
       "     '0000000000000000000000000000000000000000000000000000000000000000',\n",
       "     '0000000000000000000000000000000000000000000000000000000000000080'],\n",
       "    'op': 'PUSH1',\n",
       "    'pc': 15,\n",
       "    'stack': ['3078346631316462656130303030303030303030303030303030303030303030'],\n",
       "    'storage': {}},\n",
       "   {'depth': 1,\n",
       "    'error': '',\n",
       "    'gas': '0x12fc9',\n",
       "    'gasCost': 3,\n",
       "    'memory': ['0000000000000000000000000000000000000000000000000000000000000000',\n",
       "     '0000000000000000000000000000000000000000000000000000000000000000',\n",
       "     '0000000000000000000000000000000000000000000000000000000000000080'],\n",
       "    'op': 'SHR',\n",
       "    'pc': 17,\n",
       "    'stack': ['3078346631316462656130303030303030303030303030303030303030303030',\n",
       "     '00000000000000000000000000000000000000000000000000000000000000e0'],\n",
       "    'storage': {}},\n",
       "   {'depth': 1,\n",
       "    'error': '',\n",
       "    'gas': '0x12fc6',\n",
       "    'gasCost': 3,\n",
       "    'memory': ['0000000000000000000000000000000000000000000000000000000000000000',\n",
       "     '0000000000000000000000000000000000000000000000000000000000000000',\n",
       "     '0000000000000000000000000000000000000000000000000000000000000080'],\n",
       "    'op': 'DUP1',\n",
       "    'pc': 18,\n",
       "    'stack': ['0000000000000000000000000000000000000000000000000000000030783466'],\n",
       "    'storage': {}},\n",
       "   {'depth': 1,\n",
       "    'error': '',\n",
       "    'gas': '0x12fc3',\n",
       "    'gasCost': 3,\n",
       "    'memory': ['0000000000000000000000000000000000000000000000000000000000000000',\n",
       "     '0000000000000000000000000000000000000000000000000000000000000000',\n",
       "     '0000000000000000000000000000000000000000000000000000000000000080'],\n",
       "    'op': 'PUSH4',\n",
       "    'pc': 19,\n",
       "    'stack': ['0000000000000000000000000000000000000000000000000000000030783466',\n",
       "     '0000000000000000000000000000000000000000000000000000000030783466'],\n",
       "    'storage': {}},\n",
       "   {'depth': 1,\n",
       "    'error': '',\n",
       "    'gas': '0x12fc0',\n",
       "    'gasCost': 3,\n",
       "    'memory': ['0000000000000000000000000000000000000000000000000000000000000000',\n",
       "     '0000000000000000000000000000000000000000000000000000000000000000',\n",
       "     '0000000000000000000000000000000000000000000000000000000000000080'],\n",
       "    'op': 'GT',\n",
       "    'pc': 24,\n",
       "    'stack': ['0000000000000000000000000000000000000000000000000000000030783466',\n",
       "     '0000000000000000000000000000000000000000000000000000000030783466',\n",
       "     '00000000000000000000000000000000000000000000000000000000501a131d'],\n",
       "    'storage': {}},\n",
       "   {'depth': 1,\n",
       "    'error': '',\n",
       "    'gas': '0x12fbd',\n",
       "    'gasCost': 3,\n",
       "    'memory': ['0000000000000000000000000000000000000000000000000000000000000000',\n",
       "     '0000000000000000000000000000000000000000000000000000000000000000',\n",
       "     '0000000000000000000000000000000000000000000000000000000000000080'],\n",
       "    'op': 'PUSH2',\n",
       "    'pc': 25,\n",
       "    'stack': ['0000000000000000000000000000000000000000000000000000000030783466',\n",
       "     '0000000000000000000000000000000000000000000000000000000000000001'],\n",
       "    'storage': {}},\n",
       "   {'depth': 1,\n",
       "    'error': '',\n",
       "    'gas': '0x12fba',\n",
       "    'gasCost': 10,\n",
       "    'memory': ['0000000000000000000000000000000000000000000000000000000000000000',\n",
       "     '0000000000000000000000000000000000000000000000000000000000000000',\n",
       "     '0000000000000000000000000000000000000000000000000000000000000080'],\n",
       "    'op': 'JUMPI',\n",
       "    'pc': 28,\n",
       "    'stack': ['0000000000000000000000000000000000000000000000000000000030783466',\n",
       "     '0000000000000000000000000000000000000000000000000000000000000001',\n",
       "     '000000000000000000000000000000000000000000000000000000000000004d'],\n",
       "    'storage': {}},\n",
       "   {'depth': 1,\n",
       "    'error': '',\n",
       "    'gas': '0x12fb0',\n",
       "    'gasCost': 1,\n",
       "    'memory': ['0000000000000000000000000000000000000000000000000000000000000000',\n",
       "     '0000000000000000000000000000000000000000000000000000000000000000',\n",
       "     '0000000000000000000000000000000000000000000000000000000000000080'],\n",
       "    'op': 'JUMPDEST',\n",
       "    'pc': 77,\n",
       "    'stack': ['0000000000000000000000000000000000000000000000000000000030783466'],\n",
       "    'storage': {}},\n",
       "   {'depth': 1,\n",
       "    'error': '',\n",
       "    'gas': '0x12faf',\n",
       "    'gasCost': 3,\n",
       "    'memory': ['0000000000000000000000000000000000000000000000000000000000000000',\n",
       "     '0000000000000000000000000000000000000000000000000000000000000000',\n",
       "     '0000000000000000000000000000000000000000000000000000000000000080'],\n",
       "    'op': 'DUP1',\n",
       "    'pc': 78,\n",
       "    'stack': ['0000000000000000000000000000000000000000000000000000000030783466'],\n",
       "    'storage': {}},\n",
       "   {'depth': 1,\n",
       "    'error': '',\n",
       "    'gas': '0x12fac',\n",
       "    'gasCost': 3,\n",
       "    'memory': ['0000000000000000000000000000000000000000000000000000000000000000',\n",
       "     '0000000000000000000000000000000000000000000000000000000000000000',\n",
       "     '0000000000000000000000000000000000000000000000000000000000000080'],\n",
       "    'op': 'PUSH4',\n",
       "    'pc': 79,\n",
       "    'stack': ['0000000000000000000000000000000000000000000000000000000030783466',\n",
       "     '0000000000000000000000000000000000000000000000000000000030783466'],\n",
       "    'storage': {}},\n",
       "   {'depth': 1,\n",
       "    'error': '',\n",
       "    'gas': '0x12fa9',\n",
       "    'gasCost': 3,\n",
       "    'memory': ['0000000000000000000000000000000000000000000000000000000000000000',\n",
       "     '0000000000000000000000000000000000000000000000000000000000000000',\n",
       "     '0000000000000000000000000000000000000000000000000000000000000080'],\n",
       "    'op': 'EQ',\n",
       "    'pc': 84,\n",
       "    'stack': ['0000000000000000000000000000000000000000000000000000000030783466',\n",
       "     '0000000000000000000000000000000000000000000000000000000030783466',\n",
       "     '000000000000000000000000000000000000000000000000000000001c55ad30'],\n",
       "    'storage': {}},\n",
       "   {'depth': 1,\n",
       "    'error': '',\n",
       "    'gas': '0x12fa6',\n",
       "    'gasCost': 3,\n",
       "    'memory': ['0000000000000000000000000000000000000000000000000000000000000000',\n",
       "     '0000000000000000000000000000000000000000000000000000000000000000',\n",
       "     '0000000000000000000000000000000000000000000000000000000000000080'],\n",
       "    'op': 'PUSH2',\n",
       "    'pc': 85,\n",
       "    'stack': ['0000000000000000000000000000000000000000000000000000000030783466',\n",
       "     '0000000000000000000000000000000000000000000000000000000000000000'],\n",
       "    'storage': {}},\n",
       "   {'depth': 1,\n",
       "    'error': '',\n",
       "    'gas': '0x12fa3',\n",
       "    'gasCost': 10,\n",
       "    'memory': ['0000000000000000000000000000000000000000000000000000000000000000',\n",
       "     '0000000000000000000000000000000000000000000000000000000000000000',\n",
       "     '0000000000000000000000000000000000000000000000000000000000000080'],\n",
       "    'op': 'JUMPI',\n",
       "    'pc': 88,\n",
       "    'stack': ['0000000000000000000000000000000000000000000000000000000030783466',\n",
       "     '0000000000000000000000000000000000000000000000000000000000000000',\n",
       "     '00000000000000000000000000000000000000000000000000000000000000ab'],\n",
       "    'storage': {}},\n",
       "   {'depth': 1,\n",
       "    'error': '',\n",
       "    'gas': '0x12f99',\n",
       "    'gasCost': 3,\n",
       "    'memory': ['0000000000000000000000000000000000000000000000000000000000000000',\n",
       "     '0000000000000000000000000000000000000000000000000000000000000000',\n",
       "     '0000000000000000000000000000000000000000000000000000000000000080'],\n",
       "    'op': 'DUP1',\n",
       "    'pc': 89,\n",
       "    'stack': ['0000000000000000000000000000000000000000000000000000000030783466'],\n",
       "    'storage': {}},\n",
       "   {'depth': 1,\n",
       "    'error': '',\n",
       "    'gas': '0x12f96',\n",
       "    'gasCost': 3,\n",
       "    'memory': ['0000000000000000000000000000000000000000000000000000000000000000',\n",
       "     '0000000000000000000000000000000000000000000000000000000000000000',\n",
       "     '0000000000000000000000000000000000000000000000000000000000000080'],\n",
       "    'op': 'PUSH4',\n",
       "    'pc': 90,\n",
       "    'stack': ['0000000000000000000000000000000000000000000000000000000030783466',\n",
       "     '0000000000000000000000000000000000000000000000000000000030783466'],\n",
       "    'storage': {}},\n",
       "   {'depth': 1,\n",
       "    'error': '',\n",
       "    'gas': '0x12f93',\n",
       "    'gasCost': 3,\n",
       "    'memory': ['0000000000000000000000000000000000000000000000000000000000000000',\n",
       "     '0000000000000000000000000000000000000000000000000000000000000000',\n",
       "     '0000000000000000000000000000000000000000000000000000000000000080'],\n",
       "    'op': 'EQ',\n",
       "    'pc': 95,\n",
       "    'stack': ['0000000000000000000000000000000000000000000000000000000030783466',\n",
       "     '0000000000000000000000000000000000000000000000000000000030783466',\n",
       "     '000000000000000000000000000000000000000000000000000000003b4f0817'],\n",
       "    'storage': {}},\n",
       "   {'depth': 1,\n",
       "    'error': '',\n",
       "    'gas': '0x12f90',\n",
       "    'gasCost': 3,\n",
       "    'memory': ['0000000000000000000000000000000000000000000000000000000000000000',\n",
       "     '0000000000000000000000000000000000000000000000000000000000000000',\n",
       "     '0000000000000000000000000000000000000000000000000000000000000080'],\n",
       "    'op': 'PUSH2',\n",
       "    'pc': 96,\n",
       "    'stack': ['0000000000000000000000000000000000000000000000000000000030783466',\n",
       "     '0000000000000000000000000000000000000000000000000000000000000000'],\n",
       "    'storage': {}},\n",
       "   {'depth': 1,\n",
       "    'error': '',\n",
       "    'gas': '0x12f8d',\n",
       "    'gasCost': 10,\n",
       "    'memory': ['0000000000000000000000000000000000000000000000000000000000000000',\n",
       "     '0000000000000000000000000000000000000000000000000000000000000000',\n",
       "     '0000000000000000000000000000000000000000000000000000000000000080'],\n",
       "    'op': 'JUMPI',\n",
       "    'pc': 99,\n",
       "    'stack': ['0000000000000000000000000000000000000000000000000000000030783466',\n",
       "     '0000000000000000000000000000000000000000000000000000000000000000',\n",
       "     '00000000000000000000000000000000000000000000000000000000000000d5'],\n",
       "    'storage': {}},\n",
       "   {'depth': 1,\n",
       "    'error': '',\n",
       "    'gas': '0x12f83',\n",
       "    'gasCost': 3,\n",
       "    'memory': ['0000000000000000000000000000000000000000000000000000000000000000',\n",
       "     '0000000000000000000000000000000000000000000000000000000000000000',\n",
       "     '0000000000000000000000000000000000000000000000000000000000000080'],\n",
       "    'op': 'DUP1',\n",
       "    'pc': 100,\n",
       "    'stack': ['0000000000000000000000000000000000000000000000000000000030783466'],\n",
       "    'storage': {}},\n",
       "   {'depth': 1,\n",
       "    'error': '',\n",
       "    'gas': '0x12f80',\n",
       "    'gasCost': 3,\n",
       "    'memory': ['0000000000000000000000000000000000000000000000000000000000000000',\n",
       "     '0000000000000000000000000000000000000000000000000000000000000000',\n",
       "     '0000000000000000000000000000000000000000000000000000000000000080'],\n",
       "    'op': 'PUSH4',\n",
       "    'pc': 101,\n",
       "    'stack': ['0000000000000000000000000000000000000000000000000000000030783466',\n",
       "     '0000000000000000000000000000000000000000000000000000000030783466'],\n",
       "    'storage': {}},\n",
       "   {'depth': 1,\n",
       "    'error': '',\n",
       "    'gas': '0x12f7d',\n",
       "    'gasCost': 3,\n",
       "    'memory': ['0000000000000000000000000000000000000000000000000000000000000000',\n",
       "     '0000000000000000000000000000000000000000000000000000000000000000',\n",
       "     '0000000000000000000000000000000000000000000000000000000000000080'],\n",
       "    'op': 'EQ',\n",
       "    'pc': 106,\n",
       "    'stack': ['0000000000000000000000000000000000000000000000000000000030783466',\n",
       "     '0000000000000000000000000000000000000000000000000000000030783466',\n",
       "     '000000000000000000000000000000000000000000000000000000004f11dbea'],\n",
       "    'storage': {}},\n",
       "   {'depth': 1,\n",
       "    'error': '',\n",
       "    'gas': '0x12f7a',\n",
       "    'gasCost': 3,\n",
       "    'memory': ['0000000000000000000000000000000000000000000000000000000000000000',\n",
       "     '0000000000000000000000000000000000000000000000000000000000000000',\n",
       "     '0000000000000000000000000000000000000000000000000000000000000080'],\n",
       "    'op': 'PUSH2',\n",
       "    'pc': 107,\n",
       "    'stack': ['0000000000000000000000000000000000000000000000000000000030783466',\n",
       "     '0000000000000000000000000000000000000000000000000000000000000000'],\n",
       "    'storage': {}},\n",
       "   {'depth': 1,\n",
       "    'error': '',\n",
       "    'gas': '0x12f77',\n",
       "    'gasCost': 10,\n",
       "    'memory': ['0000000000000000000000000000000000000000000000000000000000000000',\n",
       "     '0000000000000000000000000000000000000000000000000000000000000000',\n",
       "     '0000000000000000000000000000000000000000000000000000000000000080'],\n",
       "    'op': 'JUMPI',\n",
       "    'pc': 110,\n",
       "    'stack': ['0000000000000000000000000000000000000000000000000000000030783466',\n",
       "     '0000000000000000000000000000000000000000000000000000000000000000',\n",
       "     '00000000000000000000000000000000000000000000000000000000000000fd'],\n",
       "    'storage': {}},\n",
       "   {'depth': 1,\n",
       "    'error': '',\n",
       "    'gas': '0x12f6d',\n",
       "    'gasCost': 3,\n",
       "    'memory': ['0000000000000000000000000000000000000000000000000000000000000000',\n",
       "     '0000000000000000000000000000000000000000000000000000000000000000',\n",
       "     '0000000000000000000000000000000000000000000000000000000000000080'],\n",
       "    'op': 'PUSH2',\n",
       "    'pc': 111,\n",
       "    'stack': ['0000000000000000000000000000000000000000000000000000000030783466'],\n",
       "    'storage': {}},\n",
       "   {'depth': 1,\n",
       "    'error': '',\n",
       "    'gas': '0x12f6a',\n",
       "    'gasCost': 8,\n",
       "    'memory': ['0000000000000000000000000000000000000000000000000000000000000000',\n",
       "     '0000000000000000000000000000000000000000000000000000000000000000',\n",
       "     '0000000000000000000000000000000000000000000000000000000000000080'],\n",
       "    'op': 'JUMP',\n",
       "    'pc': 114,\n",
       "    'stack': ['0000000000000000000000000000000000000000000000000000000030783466',\n",
       "     '000000000000000000000000000000000000000000000000000000000000009e'],\n",
       "    'storage': {}},\n",
       "   {'depth': 1,\n",
       "    'error': '',\n",
       "    'gas': '0x12f62',\n",
       "    'gasCost': 1,\n",
       "    'memory': ['0000000000000000000000000000000000000000000000000000000000000000',\n",
       "     '0000000000000000000000000000000000000000000000000000000000000000',\n",
       "     '0000000000000000000000000000000000000000000000000000000000000080'],\n",
       "    'op': 'JUMPDEST',\n",
       "    'pc': 158,\n",
       "    'stack': ['0000000000000000000000000000000000000000000000000000000030783466'],\n",
       "    'storage': {}},\n",
       "   {'depth': 1,\n",
       "    'error': '',\n",
       "    'gas': '0x12f61',\n",
       "    'gasCost': 3,\n",
       "    'memory': ['0000000000000000000000000000000000000000000000000000000000000000',\n",
       "     '0000000000000000000000000000000000000000000000000000000000000000',\n",
       "     '0000000000000000000000000000000000000000000000000000000000000080'],\n",
       "    'op': 'PUSH1',\n",
       "    'pc': 159,\n",
       "    'stack': ['0000000000000000000000000000000000000000000000000000000030783466'],\n",
       "    'storage': {}},\n",
       "   {'depth': 1,\n",
       "    'error': '',\n",
       "    'gas': '0x12f5e',\n",
       "    'gasCost': 3,\n",
       "    'memory': ['0000000000000000000000000000000000000000000000000000000000000000',\n",
       "     '0000000000000000000000000000000000000000000000000000000000000000',\n",
       "     '0000000000000000000000000000000000000000000000000000000000000080'],\n",
       "    'op': 'PUSH1',\n",
       "    'pc': 161,\n",
       "    'stack': ['0000000000000000000000000000000000000000000000000000000030783466',\n",
       "     '0000000000000000000000000000000000000000000000000000000000000001'],\n",
       "    'storage': {}},\n",
       "   {'depth': 1,\n",
       "    'error': '',\n",
       "    'gas': '0x12f5b',\n",
       "    'gasCost': 2100,\n",
       "    'memory': ['0000000000000000000000000000000000000000000000000000000000000000',\n",
       "     '0000000000000000000000000000000000000000000000000000000000000000',\n",
       "     '0000000000000000000000000000000000000000000000000000000000000080'],\n",
       "    'op': 'SLOAD',\n",
       "    'pc': 163,\n",
       "    'stack': ['0000000000000000000000000000000000000000000000000000000030783466',\n",
       "     '0000000000000000000000000000000000000000000000000000000000000001',\n",
       "     '0000000000000000000000000000000000000000000000000000000000000002'],\n",
       "    'storage': {'0000000000000000000000000000000000000000000000000000000000000002': '0000000000000000000000000000000000000000000000000000000000000001'}},\n",
       "   {'depth': 1,\n",
       "    'error': '',\n",
       "    'gas': '0x12727',\n",
       "    'gasCost': 3,\n",
       "    'memory': ['0000000000000000000000000000000000000000000000000000000000000000',\n",
       "     '0000000000000000000000000000000000000000000000000000000000000000',\n",
       "     '0000000000000000000000000000000000000000000000000000000000000080'],\n",
       "    'op': 'XOR',\n",
       "    'pc': 164,\n",
       "    'stack': ['0000000000000000000000000000000000000000000000000000000030783466',\n",
       "     '0000000000000000000000000000000000000000000000000000000000000001',\n",
       "     '0000000000000000000000000000000000000000000000000000000000000001'],\n",
       "    'storage': {'0000000000000000000000000000000000000000000000000000000000000002': '0000000000000000000000000000000000000000000000000000000000000001'}},\n",
       "   {'depth': 1,\n",
       "    'error': '',\n",
       "    'gas': '0x12724',\n",
       "    'gasCost': 3,\n",
       "    'memory': ['0000000000000000000000000000000000000000000000000000000000000000',\n",
       "     '0000000000000000000000000000000000000000000000000000000000000000',\n",
       "     '0000000000000000000000000000000000000000000000000000000000000080'],\n",
       "    'op': 'PUSH1',\n",
       "    'pc': 165,\n",
       "    'stack': ['0000000000000000000000000000000000000000000000000000000030783466',\n",
       "     '0000000000000000000000000000000000000000000000000000000000000000'],\n",
       "    'storage': {'0000000000000000000000000000000000000000000000000000000000000002': '0000000000000000000000000000000000000000000000000000000000000001'}},\n",
       "   {'depth': 1,\n",
       "    'error': '',\n",
       "    'gas': '0x12721',\n",
       "    'gasCost': 3,\n",
       "    'memory': ['0000000000000000000000000000000000000000000000000000000000000000',\n",
       "     '0000000000000000000000000000000000000000000000000000000000000000',\n",
       "     '0000000000000000000000000000000000000000000000000000000000000080'],\n",
       "    'op': 'DUP2',\n",
       "    'pc': 167,\n",
       "    'stack': ['0000000000000000000000000000000000000000000000000000000030783466',\n",
       "     '0000000000000000000000000000000000000000000000000000000000000000',\n",
       "     '0000000000000000000000000000000000000000000000000000000000000002'],\n",
       "    'storage': {'0000000000000000000000000000000000000000000000000000000000000002': '0000000000000000000000000000000000000000000000000000000000000001'}},\n",
       "   {'depth': 1,\n",
       "    'error': '',\n",
       "    'gas': '0x1271e',\n",
       "    'gasCost': 3,\n",
       "    'memory': ['0000000000000000000000000000000000000000000000000000000000000000',\n",
       "     '0000000000000000000000000000000000000000000000000000000000000000',\n",
       "     '0000000000000000000000000000000000000000000000000000000000000080'],\n",
       "    'op': 'SWAP1',\n",
       "    'pc': 168,\n",
       "    'stack': ['0000000000000000000000000000000000000000000000000000000030783466',\n",
       "     '0000000000000000000000000000000000000000000000000000000000000000',\n",
       "     '0000000000000000000000000000000000000000000000000000000000000002',\n",
       "     '0000000000000000000000000000000000000000000000000000000000000000'],\n",
       "    'storage': {'0000000000000000000000000000000000000000000000000000000000000002': '0000000000000000000000000000000000000000000000000000000000000001'}},\n",
       "   {'depth': 1,\n",
       "    'error': '',\n",
       "    'gas': '0x1271b',\n",
       "    'gasCost': 2900,\n",
       "    'memory': ['0000000000000000000000000000000000000000000000000000000000000000',\n",
       "     '0000000000000000000000000000000000000000000000000000000000000000',\n",
       "     '0000000000000000000000000000000000000000000000000000000000000080'],\n",
       "    'op': 'SSTORE',\n",
       "    'pc': 169,\n",
       "    'stack': ['0000000000000000000000000000000000000000000000000000000030783466',\n",
       "     '0000000000000000000000000000000000000000000000000000000000000000',\n",
       "     '0000000000000000000000000000000000000000000000000000000000000000',\n",
       "     '0000000000000000000000000000000000000000000000000000000000000002'],\n",
       "    'storage': {'0000000000000000000000000000000000000000000000000000000000000002': '0000000000000000000000000000000000000000000000000000000000000001'}},\n",
       "   {'depth': 1,\n",
       "    'error': '',\n",
       "    'gas': '0x11bc7',\n",
       "    'gasCost': 0,\n",
       "    'memory': ['0000000000000000000000000000000000000000000000000000000000000000',\n",
       "     '0000000000000000000000000000000000000000000000000000000000000000',\n",
       "     '0000000000000000000000000000000000000000000000000000000000000080'],\n",
       "    'op': 'STOP',\n",
       "    'pc': 170,\n",
       "    'stack': ['0000000000000000000000000000000000000000000000000000000030783466',\n",
       "     '0000000000000000000000000000000000000000000000000000000000000000'],\n",
       "    'storage': {'0000000000000000000000000000000000000000000000000000000000000002': '0000000000000000000000000000000000000000000000000000000000000000'}}],\n",
       "  'returnValue': '',\n",
       "  'storage': {}}}"
      ]
     },
     "execution_count": 161,
     "metadata": {},
     "output_type": "execute_result"
    }
   ],
   "source": [
    "# debug i.e. trace a transaction and its operations \n",
    "w3.provider.make_request(\"debug_traceTransaction\", [tx_hash.hex(), {}])"
   ]
  },
  {
   "cell_type": "code",
   "execution_count": 162,
   "metadata": {},
   "outputs": [],
   "source": [
    "# debug the old way:\n",
    "#w3.providers[0].make_request(\"debug_traceTransaction\", [tx_hash.hex(), {}])"
   ]
  },
  {
   "cell_type": "markdown",
   "metadata": {},
   "source": [
    "### Fallback and receive functions"
   ]
  },
  {
   "cell_type": "markdown",
   "metadata": {},
   "source": [
    "The **fallback function** is the function that is invoked when the method ID does not match any other function, and some `data` is provided as parameter (or not *receive function* is defined and the *fallback function* is payable). \n",
    "For a contract to be able to accept ether this way, the fallback function has to be defined as `payable`. \n",
    "* https://docs.soliditylang.org/en/v0.8.5/contracts.html?highlight=fallback#fallback-function\n",
    "\n",
    "> A payable fallback function is also executed for plain Ether transfers, if no receive Ether function is present.  It is recommended to always define a receive Ether function as well, if you define a payable fallback function to distinguish Ether transfers from interface confusions."
   ]
  },
  {
   "cell_type": "code",
   "execution_count": 163,
   "metadata": {},
   "outputs": [
    {
     "data": {
      "text/plain": [
       "0"
      ]
     },
     "execution_count": 163,
     "metadata": {},
     "output_type": "execute_result"
    }
   ],
   "source": [
    "instance.functions.greetbit().call()"
   ]
  },
  {
   "cell_type": "code",
   "execution_count": 164,
   "metadata": {},
   "outputs": [
    {
     "data": {
      "text/plain": [
       "True"
      ]
     },
     "execution_count": 164,
     "metadata": {},
     "output_type": "execute_result"
    }
   ],
   "source": [
    "instance.functions.getGreetbool().call()"
   ]
  },
  {
   "cell_type": "code",
   "execution_count": 165,
   "metadata": {},
   "outputs": [
    {
     "data": {
      "text/plain": [
       "0"
      ]
     },
     "execution_count": 165,
     "metadata": {},
     "output_type": "execute_result"
    }
   ],
   "source": [
    "get_balance(instance.address)"
   ]
  },
  {
   "cell_type": "code",
   "execution_count": 166,
   "metadata": {},
   "outputs": [
    {
     "data": {
      "text/plain": [
       "HexBytes('0x6efe36051cd931bd4197143e4bcbe65cf9c8b22bc670f95d3a33f5ecbc0d3317')"
      ]
     },
     "execution_count": 166,
     "metadata": {},
     "output_type": "execute_result"
    }
   ],
   "source": [
    "cdata = b\"0xffffffff\" # some random data, will be ignored anyway\n",
    "tx_hash = w3.eth.send_transaction({\"from\":w3.eth.accounts[0],\"to\":caddress,\"data\":cdata,\"value\":1*10**18})\n",
    "tx_hash"
   ]
  },
  {
   "cell_type": "code",
   "execution_count": 167,
   "metadata": {},
   "outputs": [
    {
     "data": {
      "text/plain": [
       "1"
      ]
     },
     "execution_count": 167,
     "metadata": {},
     "output_type": "execute_result"
    }
   ],
   "source": [
    "instance.functions.greetbit().call()"
   ]
  },
  {
   "cell_type": "code",
   "execution_count": 168,
   "metadata": {},
   "outputs": [
    {
     "data": {
      "text/plain": [
       "Decimal('1')"
      ]
     },
     "execution_count": 168,
     "metadata": {},
     "output_type": "execute_result"
    }
   ],
   "source": [
    "get_balance(instance.address)"
   ]
  },
  {
   "cell_type": "code",
   "execution_count": 169,
   "metadata": {},
   "outputs": [
    {
     "data": {
      "text/plain": [
       "True"
      ]
     },
     "execution_count": 169,
     "metadata": {},
     "output_type": "execute_result"
    }
   ],
   "source": [
    "instance.functions.getGreetbool().call()"
   ]
  },
  {
   "cell_type": "markdown",
   "metadata": {},
   "source": [
    "The **receive function** is the function that is invoked when the method ID does not match any other function, and **no** `data` is provided as parameter, but value transferred. \n",
    "The receive function has to be defined as `payable`. The receive function is not necessary!\n",
    "* https://docs.soliditylang.org/en/v0.8.5/contracts.html?highlight=fallback#receive-ether-function\n",
    "\n",
    "> Contracts that receive Ether directly (without a function call, i.e. using send or transfer) but do not define a receive Ether function or a payable fallback function throw an exception, sending back the Ether (this was different before Solidity v0.4.0). So if you want your contract to receive Ether, you have to implement a receive Ether function (using payable fallback functions for receiving Ether is not recommended, since it would not fail on interface confusions).\n",
    "\n",
    "* **Warning 1:**\n",
    "> In the worst case, the receive function can only rely on 2300 gas being available (for example when send or transfer is used), leaving little room to perform other operations except basic logging. The following operations will consume more gas than the 2300 gas stipend:\n",
    "    + Writing to storage\n",
    "    + Creating a contract\n",
    "    + Calling an external function which consumes a large amount of gas\n",
    "    + Sending Ether\n",
    "\n",
    "* **Warning 2:** \n",
    "> A contract without a receive Ether function can receive Ether as a recipient of a coinbase transaction (aka miner block reward) or as a destination of a selfdestruct.\n",
    "A contract cannot react to such Ether transfers and thus also cannot reject them. This is a design choice of the EVM and Solidity cannot work around it.\n",
    "It also means that address(this).balance can be higher than the sum of some manual accounting implemented in a contract (i.e. having a counter updated in the receive Ether function)."
   ]
  },
  {
   "cell_type": "code",
   "execution_count": 170,
   "metadata": {},
   "outputs": [
    {
     "data": {
      "text/plain": [
       "1"
      ]
     },
     "execution_count": 170,
     "metadata": {},
     "output_type": "execute_result"
    }
   ],
   "source": [
    "instance.functions.greetbit().call()"
   ]
  },
  {
   "cell_type": "code",
   "execution_count": 171,
   "metadata": {},
   "outputs": [
    {
     "data": {
      "text/plain": [
       "True"
      ]
     },
     "execution_count": 171,
     "metadata": {},
     "output_type": "execute_result"
    }
   ],
   "source": [
    "instance.functions.getGreetbool().call()"
   ]
  },
  {
   "cell_type": "code",
   "execution_count": 172,
   "metadata": {},
   "outputs": [
    {
     "data": {
      "text/plain": [
       "HexBytes('0x1076bf56a51ee85a65fa4f666fc25d0248b5d6d920ffd272c90943664e1adc52')"
      ]
     },
     "execution_count": 172,
     "metadata": {},
     "output_type": "execute_result"
    }
   ],
   "source": [
    "tx_hash = w3.eth.send_transaction({\"from\":w3.eth.accounts[0],\"to\":caddress,\"value\":1*10**18})\n",
    "tx_hash"
   ]
  },
  {
   "cell_type": "code",
   "execution_count": 173,
   "metadata": {},
   "outputs": [
    {
     "data": {
      "text/plain": [
       "126254"
      ]
     },
     "execution_count": 173,
     "metadata": {},
     "output_type": "execute_result"
    }
   ],
   "source": [
    "tx = w3.eth.get_transaction(tx_hash)\n",
    "tx[\"gas\"]"
   ]
  },
  {
   "cell_type": "code",
   "execution_count": 174,
   "metadata": {},
   "outputs": [
    {
     "data": {
      "text/plain": [
       "21454"
      ]
     },
     "execution_count": 174,
     "metadata": {},
     "output_type": "execute_result"
    }
   ],
   "source": [
    "tx_receipt = w3.eth.get_transaction_receipt(tx_hash)\n",
    "tx_receipt[\"gasUsed\"]"
   ]
  },
  {
   "cell_type": "code",
   "execution_count": 175,
   "metadata": {},
   "outputs": [
    {
     "data": {
      "text/plain": [
       "False"
      ]
     },
     "execution_count": 175,
     "metadata": {},
     "output_type": "execute_result"
    }
   ],
   "source": [
    "instance.functions.getGreetbool().call()"
   ]
  },
  {
   "cell_type": "code",
   "execution_count": 176,
   "metadata": {},
   "outputs": [
    {
     "data": {
      "text/plain": [
       "1"
      ]
     },
     "execution_count": 176,
     "metadata": {},
     "output_type": "execute_result"
    }
   ],
   "source": [
    "instance.functions.greetbit().call()"
   ]
  },
  {
   "cell_type": "markdown",
   "metadata": {},
   "source": [
    "#### Sending and recieveing ether to contracts\n",
    "https://solidity-by-example.org/sending-ether/\n"
   ]
  },
  {
   "cell_type": "markdown",
   "metadata": {},
   "source": [
    "# Contract deployment and interaction "
   ]
  },
  {
   "cell_type": "markdown",
   "metadata": {},
   "source": [
    "Using a small utility script"
   ]
  },
  {
   "cell_type": "code",
   "execution_count": 177,
   "metadata": {
    "scrolled": true
   },
   "outputs": [
    {
     "name": "stdout",
     "output_type": "stream",
     "text": [
      "// SPDX-License-Identifier: MIT\n",
      "pragma solidity ^0.8.4;\n",
      "\n",
      "contract Greeter {\n",
      "    bool private greetbool;\n",
      "    string public greeting;\n",
      "    uint256 public greetbit;\n",
      "\n",
      "    constructor() {\n",
      "        greeting = 'Hello';\n",
      "    }\n",
      "\n",
      "    function setGreeting(string memory _greeting) public {\n",
      "        greeting = _greeting;\n",
      "    }\n",
      "\n",
      "    function getGreeting() view public returns (string memory) {\n",
      "        return greeting;\n",
      "    }\n",
      "\n",
      "    function setGreetbool(bool _bool) public {\n",
      "        greetbool = _bool;\n",
      "    }\n",
      "\n",
      "    function getGreetbool() view public returns (bool) {\n",
      "        return greetbool; \n",
      "    }\n",
      "\n",
      "    function setGreetbit(uint256 _bit) public {\n",
      "        greetbit = _bit;\n",
      "    }\n",
      "\n",
      "    fallback() external payable {\n",
      "        greetbit = greetbit ^ 1;\n",
      "    }\n",
      "\n",
      "    receive() external payable {\n",
      "        greetbool = !greetbool;\n",
      "    }\n",
      "}\n"
     ]
    }
   ],
   "source": [
    "cat {EXAMPLE_PATH}/Greeter/Greeter.sol"
   ]
  },
  {
   "cell_type": "code",
   "execution_count": 178,
   "metadata": {},
   "outputs": [
    {
     "data": {
      "text/plain": [
       "<module 'util' from '/smartenv/course/util/__init__.py'>"
      ]
     },
     "execution_count": 178,
     "metadata": {},
     "output_type": "execute_result"
    }
   ],
   "source": [
    "import util as util\n",
    "import importlib\n",
    "importlib.reload(util)"
   ]
  },
  {
   "cell_type": "code",
   "execution_count": 179,
   "metadata": {},
   "outputs": [
    {
     "name": "stdout",
     "output_type": "stream",
     "text": [
      "/\n"
     ]
    }
   ],
   "source": [
    "%cd /"
   ]
  },
  {
   "cell_type": "code",
   "execution_count": 180,
   "metadata": {},
   "outputs": [
    {
     "name": "stdout",
     "output_type": "stream",
     "text": [
      "/\n"
     ]
    }
   ],
   "source": [
    "!pwd"
   ]
  },
  {
   "cell_type": "code",
   "execution_count": 181,
   "metadata": {},
   "outputs": [],
   "source": [
    "# !solc --combined-json \"abi,bin\" /smartenv/examples/Greeter/Greeter.sol"
   ]
  },
  {
   "cell_type": "code",
   "execution_count": 182,
   "metadata": {},
   "outputs": [],
   "source": [
    "util.connect(host=\"172.18.0.2\",port=8545,poa=False)\n",
    "# Deployment and instanciation:\n",
    "instance = util.compile_and_deploy_contract(EXAMPLE_PATH + \"Greeter/Greeter.sol\",compiler=\"solc\")"
   ]
  },
  {
   "cell_type": "code",
   "execution_count": 183,
   "metadata": {},
   "outputs": [
    {
     "data": {
      "text/plain": [
       "'0x0290FB167208Af455bB137780163b7B7a9a10C16'"
      ]
     },
     "execution_count": 183,
     "metadata": {},
     "output_type": "execute_result"
    }
   ],
   "source": [
    "instance.address"
   ]
  },
  {
   "cell_type": "code",
   "execution_count": 184,
   "metadata": {},
   "outputs": [
    {
     "data": {
      "text/plain": [
       "'Hello'"
      ]
     },
     "execution_count": 184,
     "metadata": {},
     "output_type": "execute_result"
    }
   ],
   "source": [
    "instance.functions.getGreeting().call()"
   ]
  },
  {
   "cell_type": "code",
   "execution_count": 185,
   "metadata": {
    "scrolled": true
   },
   "outputs": [
    {
     "data": {
      "text/plain": [
       "{'from': '0x90F8bf6A479f320ead074411a4B0e7944Ea8c9C1'}"
      ]
     },
     "execution_count": 185,
     "metadata": {},
     "output_type": "execute_result"
    }
   ],
   "source": [
    "# transaction without value and without manual gas specification\n",
    "# wait till tx is mined\n",
    "tx_receipt = instance.functions.setGreeting(\"Nihao\").transact=({\"from\": w3.eth.accounts[0]})\n",
    "tx_receipt"
   ]
  },
  {
   "cell_type": "code",
   "execution_count": 186,
   "metadata": {},
   "outputs": [
    {
     "data": {
      "text/plain": [
       "'Hello'"
      ]
     },
     "execution_count": 186,
     "metadata": {},
     "output_type": "execute_result"
    }
   ],
   "source": [
    "instance.functions.getGreeting().call()"
   ]
  },
  {
   "cell_type": "code",
   "execution_count": 187,
   "metadata": {},
   "outputs": [],
   "source": [
    "# Re-deployment and instanciation:\n",
    "instance = util.compile_and_deploy_contract(EXAMPLE_PATH + \"Greeter/Greeter.sol\",compiler=\"solc\")"
   ]
  },
  {
   "cell_type": "code",
   "execution_count": 188,
   "metadata": {},
   "outputs": [
    {
     "data": {
      "text/plain": [
       "'0x9b1f7F645351AF3631a656421eD2e40f2802E6c0'"
      ]
     },
     "execution_count": 188,
     "metadata": {},
     "output_type": "execute_result"
    }
   ],
   "source": [
    "instance.address"
   ]
  },
  {
   "cell_type": "code",
   "execution_count": 189,
   "metadata": {},
   "outputs": [
    {
     "data": {
      "text/plain": [
       "'Hello'"
      ]
     },
     "execution_count": 189,
     "metadata": {},
     "output_type": "execute_result"
    }
   ],
   "source": [
    "instance.functions.getGreeting().call()"
   ]
  },
  {
   "cell_type": "code",
   "execution_count": 190,
   "metadata": {},
   "outputs": [
    {
     "data": {
      "text/plain": [
       "HexBytes('0xdbc584ff041599a8088404cfe4efbcef98809f9c7fd5e36f7b0794b182d75748')"
      ]
     },
     "execution_count": 190,
     "metadata": {},
     "output_type": "execute_result"
    }
   ],
   "source": [
    "# verbose transaction with manually specified gas and potentially value transferred to contract \n",
    "tx_hash = instance.functions.setGreeting(\"Nihao\").transact({\"from\":w3.eth.accounts[0],\n",
    "                                                            \"value\":0,\n",
    "                                                            \"gas\":1_000_000})\n",
    "tx_hash"
   ]
  },
  {
   "cell_type": "code",
   "execution_count": 191,
   "metadata": {},
   "outputs": [
    {
     "data": {
      "text/plain": [
       "'Nihao'"
      ]
     },
     "execution_count": 191,
     "metadata": {},
     "output_type": "execute_result"
    }
   ],
   "source": [
    "instance.functions.getGreeting().call()"
   ]
  },
  {
   "cell_type": "code",
   "execution_count": 192,
   "metadata": {},
   "outputs": [],
   "source": [
    "# Verbose instanciation of already deployed contract (ABI generated from soruce): \n",
    "instance = util.get_contract_instance(instance.address,None,path=EXAMPLE_PATH + \"Greeter/Greeter.sol\",compiler=\"solc\")"
   ]
  },
  {
   "cell_type": "code",
   "execution_count": 193,
   "metadata": {},
   "outputs": [
    {
     "data": {
      "text/plain": [
       "'Nihao'"
      ]
     },
     "execution_count": 193,
     "metadata": {},
     "output_type": "execute_result"
    }
   ],
   "source": [
    "instance.functions.getGreeting().call()"
   ]
  },
  {
   "cell_type": "markdown",
   "metadata": {},
   "source": [
    "# Events"
   ]
  },
  {
   "cell_type": "markdown",
   "metadata": {},
   "source": [
    "Events are a way to notify clients listening to new blocks about smart contract operations that have been performed.\n",
    "* https://solidity.readthedocs.io/en/develop/contracts.html#events\n",
    "* https://web3py.readthedocs.io/en/stable/filters.html?highlight=events\n",
    "* https://web3py.readthedocs.io/en/stable/contracts.html#events"
   ]
  },
  {
   "cell_type": "code",
   "execution_count": 194,
   "metadata": {
    "scrolled": true
   },
   "outputs": [
    {
     "name": "stdout",
     "output_type": "stream",
     "text": [
      "// SPDX-License-Identifier: MIT\n",
      "pragma solidity ^0.8.4;\n",
      "\n",
      "contract Eventer {\n",
      "\n",
      "    event create(uint256 v);\n",
      "    event funcall(address caller,uint256 value);\n",
      "    event funcall2(address indexed caller,uint256 indexed value);\n",
      "    event fallcall(address caller);\n",
      "\n",
      "    constructor() {\n",
      "        emit create(1);\n",
      "    }\n",
      "\n",
      "    function func1(uint256 v) public {\n",
      "        emit funcall(msg.sender,v);\n",
      "    }\n",
      "\n",
      "    function func2(uint256 v) public {\n",
      "        emit funcall2(msg.sender,v);\n",
      "    }\n",
      "\n",
      "    receive() external payable{\n",
      "        emit fallcall(msg.sender);\n",
      "    }\n",
      "\n",
      "}\n"
     ]
    }
   ],
   "source": [
    "!cat {EXAMPLE_PATH}/Eventer/Eventer.sol"
   ]
  },
  {
   "cell_type": "code",
   "execution_count": 195,
   "metadata": {},
   "outputs": [
    {
     "name": "stdout",
     "output_type": "stream",
     "text": [
      "\n",
      "======= smartenv/examples/Eventer/Eventer.sol:Eventer =======\n",
      "Binary:\n",
      "608060405234801561000f575f80fd5b507f780900dcfb922770b66b73546245c9d725e14dd206326f4f8f5a706976c2b61d60016040516100409190610098565b60405180910390a16100b1565b5f819050919050565b5f819050919050565b5f819050919050565b5f61008261007d6100788461004d565b61005f565b610056565b9050919050565b61009281610068565b82525050565b5f6020820190506100ab5f830184610089565b92915050565b610267806100be5f395ff3fe60806040526004361061002c575f3560e01c806316d93ade1461006e578063254e43db146100965761006a565b3661006a577f558048e62c62b6dedcadcb7b740131fd129cfa4019d5a5158a5befc2976d0f1d336040516100609190610180565b60405180910390a1005b5f80fd5b348015610079575f80fd5b50610094600480360381019061008f91906101d0565b6100be565b005b3480156100a1575f80fd5b506100bc60048036038101906100b791906101d0565b610105565b005b803373ffffffffffffffffffffffffffffffffffffffff167f1a7f26d3c848a605ab293135411d69990f60fa592874ca544b2f290579fbe1b860405160405180910390a350565b7fcdb58a22429d89e572d17333db36ab8054687b985157808a3aefd24cdbe17520338260405161013692919061020a565b60405180910390a150565b5f73ffffffffffffffffffffffffffffffffffffffff82169050919050565b5f61016a82610141565b9050919050565b61017a81610160565b82525050565b5f6020820190506101935f830184610171565b92915050565b5f80fd5b5f819050919050565b6101af8161019d565b81146101b9575f80fd5b50565b5f813590506101ca816101a6565b92915050565b5f602082840312156101e5576101e4610199565b5b5f6101f2848285016101bc565b91505092915050565b6102048161019d565b82525050565b5f60408201905061021d5f830185610171565b61022a60208301846101fb565b939250505056fea264697066735822122085cc847a661b4434075a99eede20a736da1859d06021dfefc62c0de0b6d8a00c64736f6c63430008170033\n"
     ]
    }
   ],
   "source": [
    "!solc --bin {EXAMPLE_PATH}/Eventer/Eventer.sol"
   ]
  },
  {
   "cell_type": "code",
   "execution_count": 196,
   "metadata": {},
   "outputs": [],
   "source": [
    "# create a contract instance \n",
    "einstance = util.compile_and_deploy_contract(EXAMPLE_PATH + \"Eventer/Eventer.sol\",compiler=\"solc\",w3conn=w3)"
   ]
  },
  {
   "cell_type": "code",
   "execution_count": 197,
   "metadata": {},
   "outputs": [
    {
     "data": {
      "text/plain": [
       "'0x2612Af3A521c2df9EAF28422Ca335b04AdF3ac66'"
      ]
     },
     "execution_count": 197,
     "metadata": {},
     "output_type": "execute_result"
    }
   ],
   "source": [
    "einstance.address"
   ]
  },
  {
   "cell_type": "markdown",
   "metadata": {},
   "source": [
    "Now we create a listener to listen for the latest *create* events and return all of them."
   ]
  },
  {
   "cell_type": "code",
   "execution_count": 198,
   "metadata": {},
   "outputs": [],
   "source": [
    "event_filter = einstance.events.create.create_filter(fromBlock='latest')"
   ]
  },
  {
   "cell_type": "code",
   "execution_count": 199,
   "metadata": {},
   "outputs": [
    {
     "data": {
      "text/plain": [
       "[AttributeDict({'args': AttributeDict({'v': 1}),\n",
       "  'event': 'create',\n",
       "  'logIndex': 0,\n",
       "  'transactionIndex': 0,\n",
       "  'transactionHash': HexBytes('0xed2a6a4445cd4527d1c949c245a229c00fff88e16c4ed412acbae9131e7e1f9a'),\n",
       "  'address': '0x2612Af3A521c2df9EAF28422Ca335b04AdF3ac66',\n",
       "  'blockHash': HexBytes('0x55004210089d918e0bdeacb53dc18cbe70acc6732d90da60f0e742d021470673'),\n",
       "  'blockNumber': 14})]"
      ]
     },
     "execution_count": 199,
     "metadata": {},
     "output_type": "execute_result"
    }
   ],
   "source": [
    "event_filter.get_all_entries()"
   ]
  },
  {
   "cell_type": "markdown",
   "metadata": {},
   "source": [
    "Now we fire a new event by creating a new transaction and keep the `tx_receipt` which we cen process later on. "
   ]
  },
  {
   "cell_type": "code",
   "execution_count": 200,
   "metadata": {},
   "outputs": [
    {
     "name": "stdout",
     "output_type": "stream",
     "text": [
      "0x73feb8f564343cd139aec5e605ba72aac055822b20323fdd8429d7e92fe3ff53\n"
     ]
    },
    {
     "data": {
      "text/plain": [
       "AttributeDict({'transactionHash': HexBytes('0x73feb8f564343cd139aec5e605ba72aac055822b20323fdd8429d7e92fe3ff53'),\n",
       " 'transactionIndex': 0,\n",
       " 'blockNumber': 15,\n",
       " 'blockHash': HexBytes('0x2628085b44a129123fb4aa6c9b7edfd46a318ad907f3f572c1cc8327b92b13d3'),\n",
       " 'from': '0x90F8bf6A479f320ead074411a4B0e7944Ea8c9C1',\n",
       " 'to': '0x2612Af3A521c2df9EAF28422Ca335b04AdF3ac66',\n",
       " 'cumulativeGasUsed': 23198,\n",
       " 'gasUsed': 23198,\n",
       " 'contractAddress': None,\n",
       " 'logs': [AttributeDict({'address': '0x2612Af3A521c2df9EAF28422Ca335b04AdF3ac66',\n",
       "   'blockHash': HexBytes('0x2628085b44a129123fb4aa6c9b7edfd46a318ad907f3f572c1cc8327b92b13d3'),\n",
       "   'blockNumber': 15,\n",
       "   'data': HexBytes('0x00000000000000000000000090f8bf6a479f320ead074411a4b0e7944ea8c9c10000000000000000000000000000000000000000000000000000000000000003'),\n",
       "   'logIndex': 0,\n",
       "   'removed': False,\n",
       "   'topics': [HexBytes('0xcdb58a22429d89e572d17333db36ab8054687b985157808a3aefd24cdbe17520')],\n",
       "   'transactionHash': HexBytes('0x73feb8f564343cd139aec5e605ba72aac055822b20323fdd8429d7e92fe3ff53'),\n",
       "   'transactionIndex': 0})],\n",
       " 'logsBloom': HexBytes('0x00000000000000000000000000000000000000000000000000000000000000000000000000000000000000000000000000000000000000000000000000000000000000000000000000000020000000000000000000000000000000000000000000000000004000000000000000100000000000400000000000000000000000000000000000000000000000000000000000000000000000008000000000000000000000000000000000000000000000000000000000000000000000000000000000000000000000000000000000000000000000000000000000000000000000000000000000000000000000000000000000000000000000000000000000000001'),\n",
       " 'status': 1,\n",
       " 'effectiveGasPrice': 172544484,\n",
       " 'type': 2})"
      ]
     },
     "execution_count": 200,
     "metadata": {},
     "output_type": "execute_result"
    }
   ],
   "source": [
    "tx_hash = einstance.functions.func1(3).transact({\"from\":w3.eth.accounts[0]})\n",
    "print(tx_hash.hex())\n",
    "tx_receipt = w3.eth.wait_for_transaction_receipt(tx_hash)\n",
    "tx_receipt"
   ]
  },
  {
   "cell_type": "code",
   "execution_count": 201,
   "metadata": {},
   "outputs": [],
   "source": [
    "# concise way, not further supported with events:\n",
    "#tx_receipt = einstance.func1(3,transact={\"from\":w3.eth.accounts[0]})\n",
    "#tx_receipt"
   ]
  },
  {
   "cell_type": "markdown",
   "metadata": {},
   "source": [
    "The `tx_receipt` contains the respective event."
   ]
  },
  {
   "cell_type": "code",
   "execution_count": 202,
   "metadata": {},
   "outputs": [
    {
     "data": {
      "text/plain": [
       "(AttributeDict({'args': AttributeDict({'caller': '0x90F8bf6A479f320ead074411a4B0e7944Ea8c9C1',\n",
       "   'value': 3}),\n",
       "  'event': 'funcall',\n",
       "  'logIndex': 0,\n",
       "  'transactionIndex': 0,\n",
       "  'transactionHash': HexBytes('0x73feb8f564343cd139aec5e605ba72aac055822b20323fdd8429d7e92fe3ff53'),\n",
       "  'address': '0x2612Af3A521c2df9EAF28422Ca335b04AdF3ac66',\n",
       "  'blockHash': HexBytes('0x2628085b44a129123fb4aa6c9b7edfd46a318ad907f3f572c1cc8327b92b13d3'),\n",
       "  'blockNumber': 15}),)"
      ]
     },
     "execution_count": 202,
     "metadata": {},
     "output_type": "execute_result"
    }
   ],
   "source": [
    "einstance.events.funcall().process_receipt(tx_receipt)"
   ]
  },
  {
   "cell_type": "markdown",
   "metadata": {},
   "source": [
    "The `tx_receipt` does **not** contain the respective event."
   ]
  },
  {
   "cell_type": "code",
   "execution_count": 203,
   "metadata": {},
   "outputs": [
    {
     "name": "stderr",
     "output_type": "stream",
     "text": [
      "/smartenv/venv/lib/python3.10/site-packages/web3/contract/base_contract.py:185: UserWarning: The log with transaction hash: HexBytes('0x73feb8f564343cd139aec5e605ba72aac055822b20323fdd8429d7e92fe3ff53') and logIndex: 0 encountered the following error during processing: MismatchedABI(The event signature did not match the provided ABI). It has been discarded.\n",
      "  warnings.warn(\n"
     ]
    },
    {
     "data": {
      "text/plain": [
       "()"
      ]
     },
     "execution_count": 203,
     "metadata": {},
     "output_type": "execute_result"
    }
   ],
   "source": [
    "einstance.events.funcall2().process_receipt(tx_receipt)"
   ]
  },
  {
   "cell_type": "markdown",
   "metadata": {},
   "source": [
    "Now lets fire the `funcall` event again collect all events until now"
   ]
  },
  {
   "cell_type": "code",
   "execution_count": 204,
   "metadata": {},
   "outputs": [
    {
     "name": "stdout",
     "output_type": "stream",
     "text": [
      "0x517f6beeb2886b804599842c6729a9fc20a9254326aed77a35177b15d7170ff1\n"
     ]
    },
    {
     "data": {
      "text/plain": [
       "AttributeDict({'transactionHash': HexBytes('0x517f6beeb2886b804599842c6729a9fc20a9254326aed77a35177b15d7170ff1'),\n",
       " 'transactionIndex': 0,\n",
       " 'blockNumber': 16,\n",
       " 'blockHash': HexBytes('0x27feaee42d3e09551bf154a4a207d6c819e0ffd1607f107afdf5b54d3231f411'),\n",
       " 'from': '0x90F8bf6A479f320ead074411a4B0e7944Ea8c9C1',\n",
       " 'to': '0x2612Af3A521c2df9EAF28422Ca335b04AdF3ac66',\n",
       " 'cumulativeGasUsed': 23198,\n",
       " 'gasUsed': 23198,\n",
       " 'contractAddress': None,\n",
       " 'logs': [AttributeDict({'address': '0x2612Af3A521c2df9EAF28422Ca335b04AdF3ac66',\n",
       "   'blockHash': HexBytes('0x27feaee42d3e09551bf154a4a207d6c819e0ffd1607f107afdf5b54d3231f411'),\n",
       "   'blockNumber': 16,\n",
       "   'data': HexBytes('0x00000000000000000000000090f8bf6a479f320ead074411a4b0e7944ea8c9c10000000000000000000000000000000000000000000000000000000000000004'),\n",
       "   'logIndex': 0,\n",
       "   'removed': False,\n",
       "   'topics': [HexBytes('0xcdb58a22429d89e572d17333db36ab8054687b985157808a3aefd24cdbe17520')],\n",
       "   'transactionHash': HexBytes('0x517f6beeb2886b804599842c6729a9fc20a9254326aed77a35177b15d7170ff1'),\n",
       "   'transactionIndex': 0})],\n",
       " 'logsBloom': HexBytes('0x00000000000000000000000000000000000000000000000000000000000000000000000000000000000000000000000000000000000000000000000000000000000000000000000000000020000000000000000000000000000000000000000000000000004000000000000000100000000000400000000000000000000000000000000000000000000000000000000000000000000000008000000000000000000000000000000000000000000000000000000000000000000000000000000000000000000000000000000000000000000000000000000000000000000000000000000000000000000000000000000000000000000000000000000000000001'),\n",
       " 'status': 1,\n",
       " 'effectiveGasPrice': 150988933,\n",
       " 'type': 2})"
      ]
     },
     "execution_count": 204,
     "metadata": {},
     "output_type": "execute_result"
    }
   ],
   "source": [
    "tx_hash = einstance.functions.func1(4).transact({\"from\":w3.eth.accounts[0]})\n",
    "print(tx_hash.hex())\n",
    "tx_receipt = w3.eth.wait_for_transaction_receipt(tx_hash)\n",
    "tx_receipt"
   ]
  },
  {
   "cell_type": "code",
   "execution_count": 205,
   "metadata": {},
   "outputs": [],
   "source": [
    "event_filter = einstance.events.funcall.create_filter(fromBlock=0)"
   ]
  },
  {
   "cell_type": "code",
   "execution_count": 206,
   "metadata": {},
   "outputs": [
    {
     "data": {
      "text/plain": [
       "[AttributeDict({'args': AttributeDict({'caller': '0x90F8bf6A479f320ead074411a4B0e7944Ea8c9C1',\n",
       "   'value': 3}),\n",
       "  'event': 'funcall',\n",
       "  'logIndex': 0,\n",
       "  'transactionIndex': 0,\n",
       "  'transactionHash': HexBytes('0x73feb8f564343cd139aec5e605ba72aac055822b20323fdd8429d7e92fe3ff53'),\n",
       "  'address': '0x2612Af3A521c2df9EAF28422Ca335b04AdF3ac66',\n",
       "  'blockHash': HexBytes('0x2628085b44a129123fb4aa6c9b7edfd46a318ad907f3f572c1cc8327b92b13d3'),\n",
       "  'blockNumber': 15}),\n",
       " AttributeDict({'args': AttributeDict({'caller': '0x90F8bf6A479f320ead074411a4B0e7944Ea8c9C1',\n",
       "   'value': 4}),\n",
       "  'event': 'funcall',\n",
       "  'logIndex': 0,\n",
       "  'transactionIndex': 0,\n",
       "  'transactionHash': HexBytes('0x517f6beeb2886b804599842c6729a9fc20a9254326aed77a35177b15d7170ff1'),\n",
       "  'address': '0x2612Af3A521c2df9EAF28422Ca335b04AdF3ac66',\n",
       "  'blockHash': HexBytes('0x27feaee42d3e09551bf154a4a207d6c819e0ffd1607f107afdf5b54d3231f411'),\n",
       "  'blockNumber': 16})]"
      ]
     },
     "execution_count": 206,
     "metadata": {},
     "output_type": "execute_result"
    }
   ],
   "source": [
    "event_filter.get_all_entries()"
   ]
  },
  {
   "cell_type": "code",
   "execution_count": 207,
   "metadata": {},
   "outputs": [
    {
     "data": {
      "text/plain": [
       "AttributeDict({'transactionHash': HexBytes('0x8e3f106b9469c63012d423620a35bdb3bb922c410eea0dd3c247c167da6d1382'),\n",
       " 'transactionIndex': 0,\n",
       " 'blockNumber': 17,\n",
       " 'blockHash': HexBytes('0xb6d0e452a780fb7e3d9a7ddcd98d6f5a890c7707032758d099be01f42cdf5d24'),\n",
       " 'from': '0x90F8bf6A479f320ead074411a4B0e7944Ea8c9C1',\n",
       " 'to': '0x2612Af3A521c2df9EAF28422Ca335b04AdF3ac66',\n",
       " 'cumulativeGasUsed': 22290,\n",
       " 'gasUsed': 22290,\n",
       " 'contractAddress': None,\n",
       " 'logs': [AttributeDict({'address': '0x2612Af3A521c2df9EAF28422Ca335b04AdF3ac66',\n",
       "   'blockHash': HexBytes('0xb6d0e452a780fb7e3d9a7ddcd98d6f5a890c7707032758d099be01f42cdf5d24'),\n",
       "   'blockNumber': 17,\n",
       "   'data': HexBytes('0x00000000000000000000000090f8bf6a479f320ead074411a4b0e7944ea8c9c1'),\n",
       "   'logIndex': 0,\n",
       "   'removed': False,\n",
       "   'topics': [HexBytes('0x558048e62c62b6dedcadcb7b740131fd129cfa4019d5a5158a5befc2976d0f1d')],\n",
       "   'transactionHash': HexBytes('0x8e3f106b9469c63012d423620a35bdb3bb922c410eea0dd3c247c167da6d1382'),\n",
       "   'transactionIndex': 0})],\n",
       " 'logsBloom': HexBytes('0x00000000000000000000000000000000000000000000000000000000000000000000000000000000000000000000000000000000000000000020000000000000000000000000000000000000000000000000000000000000000000000000000000000000004000000000000000100000000000000000000000000000000000000000000010000000000000000000000000000000000000008000000000000000000000000000000000000000000000000000000000000000000000000000000000000000000000000000000000000000000000000000000000000000000000000000000200000000000000000000000000000000000000000000000000000000'),\n",
       " 'status': 1,\n",
       " 'effectiveGasPrice': 132126262,\n",
       " 'type': 2})"
      ]
     },
     "execution_count": 207,
     "metadata": {},
     "output_type": "execute_result"
    }
   ],
   "source": [
    "tx_hash = w3.eth.send_transaction({\"from\":w3.eth.accounts[0],\n",
    "                                  \"to\":einstance.address,\n",
    "                                  \"value\":1,\n",
    "                                  \"gas\":1_000_000})\n",
    "tx_receipt = w3.eth.wait_for_transaction_receipt(tx_hash)\n",
    "tx_receipt"
   ]
  },
  {
   "cell_type": "code",
   "execution_count": 208,
   "metadata": {},
   "outputs": [
    {
     "data": {
      "text/plain": [
       "(AttributeDict({'args': AttributeDict({'caller': '0x90F8bf6A479f320ead074411a4B0e7944Ea8c9C1'}),\n",
       "  'event': 'fallcall',\n",
       "  'logIndex': 0,\n",
       "  'transactionIndex': 0,\n",
       "  'transactionHash': HexBytes('0x8e3f106b9469c63012d423620a35bdb3bb922c410eea0dd3c247c167da6d1382'),\n",
       "  'address': '0x2612Af3A521c2df9EAF28422Ca335b04AdF3ac66',\n",
       "  'blockHash': HexBytes('0xb6d0e452a780fb7e3d9a7ddcd98d6f5a890c7707032758d099be01f42cdf5d24'),\n",
       "  'blockNumber': 17}),)"
      ]
     },
     "execution_count": 208,
     "metadata": {},
     "output_type": "execute_result"
    }
   ],
   "source": [
    "# get the fallback function event\n",
    "einstance.events.fallcall().process_receipt(tx_receipt)"
   ]
  },
  {
   "cell_type": "markdown",
   "metadata": {},
   "source": [
    "# Visibility"
   ]
  },
  {
   "cell_type": "markdown",
   "metadata": {},
   "source": [
    "Generally all data stored in the blockchain is visible!\n",
    "Function invocations can be restricted but be careful!\n",
    "\n",
    "* https://solidity.readthedocs.io/en/v0.4.25/contracts.html#visibility-and-getters"
   ]
  },
  {
   "cell_type": "code",
   "execution_count": 209,
   "metadata": {
    "scrolled": true
   },
   "outputs": [
    {
     "name": "stdout",
     "output_type": "stream",
     "text": [
      "// SPDX-License-Identifier: MIT\n",
      "pragma solidity ^0.8.4;\n",
      "\n",
      "contract Visibility {\n",
      "    uint256 constant public cpub_int = 0x10; //set at compile time\n",
      "    uint256 public pub_int;   //getter is created automatically \n",
      "    uint256 internal int_int; //no getter but available in derived contracts \n",
      "    uint256 private priv_int;\n",
      "\n",
      "    event echange(uint256 indexed v);\n",
      "    event ichange(uint256 indexed v);\n",
      "    event pchange(uint256 indexed v);\n",
      "\n",
      "    constructor() payable {\n",
      "        pub_int = 0x20;\n",
      "        int_int = 0x30;\n",
      "        priv_int = 0x40;\n",
      "    }\n",
      "    \n",
      "    // Function _should_ only be called from external accounts/contracts\n",
      "    // Although can also be called form this contract with this.\n",
      "    function ext_change() external returns (uint256) {\n",
      "        priv_int += 1;\n",
      "        emit echange(priv_int);\n",
      "        return priv_int;\n",
      "    }\n",
      "    \n",
      "    // Internal functions cannot be called directly from external accounts/contracts\n",
      "    // Only indirectly \n",
      "    function int_change() internal returns (uint256) {\n",
      "        int_int += 1;\n",
      "        emit ichange(int_int);\n",
      "        return int_int;\n",
      "    }\n",
      "\n",
      "    // Public functions are callable from everywhere\n",
      "    function pub_change() public returns (uint256) {\n",
      "        this.ext_change();\n",
      "        int_change();\n",
      "\n",
      "        pub_int += 1;\n",
      "        emit pchange(pub_int);  \n",
      "        return pub_int;\n",
      "    }\n",
      "\n",
      "    // view:\n",
      "    // * Not modify any state (only enforced by compiler since 0.5.0!) \n",
      "    //   Enforced by STATICALL at runtime since byzantium. \n",
      "    function view_priv_int(uint256 v) view public returns (uint256) {\n",
      "        //priv_int = v; \n",
      "        return v + priv_int;\n",
      "    }\n",
      "   \n",
      "    // pure:\n",
      "    // * Not modify any state\n",
      "    // * Not read any state (cannot by enforced since blockchain is public)\n",
      "    function pure_priv_int(uint256 v) pure public returns (uint256) {\n",
      "        //Those three lines will not compile:\n",
      "        //priv_int += 1;\n",
      "        //priv_int = v;\n",
      "        //return priv_int;\n",
      "        return v + 1;\n",
      "    }\n",
      "}\n"
     ]
    }
   ],
   "source": [
    "!cat {EXAMPLE_PATH}/Visibility/Visibility.sol"
   ]
  },
  {
   "cell_type": "code",
   "execution_count": 210,
   "metadata": {},
   "outputs": [
    {
     "name": "stdout",
     "output_type": "stream",
     "text": [
      "\n",
      "======= smartenv/examples/Visibility/Visibility.sol:Visibility =======\n",
      "Binary:\n",
      "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\n"
     ]
    }
   ],
   "source": [
    "!solc --bin {EXAMPLE_PATH}/Visibility/Visibility.sol"
   ]
  },
  {
   "cell_type": "code",
   "execution_count": 211,
   "metadata": {},
   "outputs": [],
   "source": [
    "vinstance = util.compile_and_deploy_contract(EXAMPLE_PATH + \"Visibility/Visibility.sol\", compiler=\"solc\", w3conn=w3)"
   ]
  },
  {
   "cell_type": "code",
   "execution_count": 212,
   "metadata": {},
   "outputs": [
    {
     "data": {
      "text/plain": [
       "'0x20'"
      ]
     },
     "execution_count": 212,
     "metadata": {},
     "output_type": "execute_result"
    }
   ],
   "source": [
    "hex(vinstance.functions.pub_int().call())"
   ]
  },
  {
   "cell_type": "code",
   "execution_count": 213,
   "metadata": {},
   "outputs": [
    {
     "data": {
      "text/plain": [
       "'0x21'"
      ]
     },
     "execution_count": 213,
     "metadata": {},
     "output_type": "execute_result"
    }
   ],
   "source": [
    "hex(vinstance.functions.pub_change().call())"
   ]
  },
  {
   "cell_type": "code",
   "execution_count": 214,
   "metadata": {},
   "outputs": [
    {
     "data": {
      "text/plain": [
       "'0x41'"
      ]
     },
     "execution_count": 214,
     "metadata": {},
     "output_type": "execute_result"
    }
   ],
   "source": [
    "hex(vinstance.functions.view_priv_int(1).call())"
   ]
  },
  {
   "cell_type": "code",
   "execution_count": 215,
   "metadata": {},
   "outputs": [
    {
     "data": {
      "text/plain": [
       "AttributeDict({'transactionHash': HexBytes('0xb35d8cf90d55a37fb22a69b494037b22fe538c0632e1fdc0267798ce505575b8'),\n",
       " 'transactionIndex': 0,\n",
       " 'blockNumber': 19,\n",
       " 'blockHash': HexBytes('0x38fcf68c895947193143f03a0948686ce9ef641287edd017b9caeb428e294cce'),\n",
       " 'from': '0x90F8bf6A479f320ead074411a4B0e7944Ea8c9C1',\n",
       " 'to': '0x0E696947A06550DEf604e82C26fd9E493e576337',\n",
       " 'cumulativeGasUsed': 41981,\n",
       " 'gasUsed': 41981,\n",
       " 'contractAddress': None,\n",
       " 'logs': [AttributeDict({'address': '0x0E696947A06550DEf604e82C26fd9E493e576337',\n",
       "   'blockHash': HexBytes('0x38fcf68c895947193143f03a0948686ce9ef641287edd017b9caeb428e294cce'),\n",
       "   'blockNumber': 19,\n",
       "   'data': HexBytes('0x'),\n",
       "   'logIndex': 0,\n",
       "   'removed': False,\n",
       "   'topics': [HexBytes('0x437ed1f411e2ba750c55a12da4f261a1b9f2db8c9046de9ab6119538e1def345'),\n",
       "    HexBytes('0x0000000000000000000000000000000000000000000000000000000000000041')],\n",
       "   'transactionHash': HexBytes('0xb35d8cf90d55a37fb22a69b494037b22fe538c0632e1fdc0267798ce505575b8'),\n",
       "   'transactionIndex': 0}),\n",
       "  AttributeDict({'address': '0x0E696947A06550DEf604e82C26fd9E493e576337',\n",
       "   'blockHash': HexBytes('0x38fcf68c895947193143f03a0948686ce9ef641287edd017b9caeb428e294cce'),\n",
       "   'blockNumber': 19,\n",
       "   'data': HexBytes('0x'),\n",
       "   'logIndex': 1,\n",
       "   'removed': False,\n",
       "   'topics': [HexBytes('0xcae28c4c9d51a9398bd595256d5f3a2f4d2e92f9d6d9870c400fe2fcc281639b'),\n",
       "    HexBytes('0x0000000000000000000000000000000000000000000000000000000000000031')],\n",
       "   'transactionHash': HexBytes('0xb35d8cf90d55a37fb22a69b494037b22fe538c0632e1fdc0267798ce505575b8'),\n",
       "   'transactionIndex': 0}),\n",
       "  AttributeDict({'address': '0x0E696947A06550DEf604e82C26fd9E493e576337',\n",
       "   'blockHash': HexBytes('0x38fcf68c895947193143f03a0948686ce9ef641287edd017b9caeb428e294cce'),\n",
       "   'blockNumber': 19,\n",
       "   'data': HexBytes('0x'),\n",
       "   'logIndex': 2,\n",
       "   'removed': False,\n",
       "   'topics': [HexBytes('0x34d768723a29a9246849e01ce19714800375397ee738c9086110a9533c949841'),\n",
       "    HexBytes('0x0000000000000000000000000000000000000000000000000000000000000021')],\n",
       "   'transactionHash': HexBytes('0xb35d8cf90d55a37fb22a69b494037b22fe538c0632e1fdc0267798ce505575b8'),\n",
       "   'transactionIndex': 0})],\n",
       " 'logsBloom': HexBytes('0x00000000000000000000000000100000000000000000000000000040000000020000004000000000000000000000000000000000000000000000000000000000040001000000000010000000000000000000000000008001000000000000000000000000000000000000000020800000000040000000040000000200046000000000000000000004000000000000000000000000000000000000000000000000000000000000000000000000000000000000000800000000100000000000000000000000000000000000000000000000000000000000000000000000000000000000000000000000000000000000000000000000000000000000001000000000'),\n",
       " 'status': 1,\n",
       " 'effectiveGasPrice': 101294683,\n",
       " 'type': 2})"
      ]
     },
     "execution_count": 215,
     "metadata": {},
     "output_type": "execute_result"
    }
   ],
   "source": [
    "tx_hash = vinstance.functions.pub_change().transact({\"from\":w3.eth.accounts[0],})\n",
    "tx_hash\n",
    "tx_receipt = w3.eth.wait_for_transaction_receipt(tx_hash)\n",
    "tx_receipt"
   ]
  },
  {
   "cell_type": "code",
   "execution_count": 216,
   "metadata": {},
   "outputs": [
    {
     "name": "stderr",
     "output_type": "stream",
     "text": [
      "/smartenv/venv/lib/python3.10/site-packages/web3/contract/base_contract.py:185: UserWarning: The log with transaction hash: HexBytes('0xb35d8cf90d55a37fb22a69b494037b22fe538c0632e1fdc0267798ce505575b8') and logIndex: 0 encountered the following error during processing: MismatchedABI(The event signature did not match the provided ABI). It has been discarded.\n",
      "  warnings.warn(\n",
      "/smartenv/venv/lib/python3.10/site-packages/web3/contract/base_contract.py:185: UserWarning: The log with transaction hash: HexBytes('0xb35d8cf90d55a37fb22a69b494037b22fe538c0632e1fdc0267798ce505575b8') and logIndex: 1 encountered the following error during processing: MismatchedABI(The event signature did not match the provided ABI). It has been discarded.\n",
      "  warnings.warn(\n"
     ]
    },
    {
     "data": {
      "text/plain": [
       "(AttributeDict({'args': AttributeDict({'v': 33}),\n",
       "  'event': 'pchange',\n",
       "  'logIndex': 2,\n",
       "  'transactionIndex': 0,\n",
       "  'transactionHash': HexBytes('0xb35d8cf90d55a37fb22a69b494037b22fe538c0632e1fdc0267798ce505575b8'),\n",
       "  'address': '0x0E696947A06550DEf604e82C26fd9E493e576337',\n",
       "  'blockHash': HexBytes('0x38fcf68c895947193143f03a0948686ce9ef641287edd017b9caeb428e294cce'),\n",
       "  'blockNumber': 19}),)"
      ]
     },
     "execution_count": 216,
     "metadata": {},
     "output_type": "execute_result"
    }
   ],
   "source": [
    "vinstance.events.pchange().process_receipt(tx_receipt)"
   ]
  },
  {
   "cell_type": "code",
   "execution_count": 217,
   "metadata": {},
   "outputs": [
    {
     "name": "stderr",
     "output_type": "stream",
     "text": [
      "/smartenv/venv/lib/python3.10/site-packages/web3/contract/base_contract.py:185: UserWarning: The log with transaction hash: HexBytes('0xb35d8cf90d55a37fb22a69b494037b22fe538c0632e1fdc0267798ce505575b8') and logIndex: 2 encountered the following error during processing: MismatchedABI(The event signature did not match the provided ABI). It has been discarded.\n",
      "  warnings.warn(\n"
     ]
    },
    {
     "data": {
      "text/plain": [
       "(AttributeDict({'args': AttributeDict({'v': 65}),\n",
       "  'event': 'echange',\n",
       "  'logIndex': 0,\n",
       "  'transactionIndex': 0,\n",
       "  'transactionHash': HexBytes('0xb35d8cf90d55a37fb22a69b494037b22fe538c0632e1fdc0267798ce505575b8'),\n",
       "  'address': '0x0E696947A06550DEf604e82C26fd9E493e576337',\n",
       "  'blockHash': HexBytes('0x38fcf68c895947193143f03a0948686ce9ef641287edd017b9caeb428e294cce'),\n",
       "  'blockNumber': 19}),)"
      ]
     },
     "execution_count": 217,
     "metadata": {},
     "output_type": "execute_result"
    }
   ],
   "source": [
    "vinstance.events.echange().process_receipt(tx_receipt)"
   ]
  },
  {
   "cell_type": "code",
   "execution_count": 218,
   "metadata": {},
   "outputs": [
    {
     "data": {
      "text/plain": [
       "(AttributeDict({'args': AttributeDict({'v': 49}),\n",
       "  'event': 'ichange',\n",
       "  'logIndex': 1,\n",
       "  'transactionIndex': 0,\n",
       "  'transactionHash': HexBytes('0xb35d8cf90d55a37fb22a69b494037b22fe538c0632e1fdc0267798ce505575b8'),\n",
       "  'address': '0x0E696947A06550DEf604e82C26fd9E493e576337',\n",
       "  'blockHash': HexBytes('0x38fcf68c895947193143f03a0948686ce9ef641287edd017b9caeb428e294cce'),\n",
       "  'blockNumber': 19}),)"
      ]
     },
     "execution_count": 218,
     "metadata": {},
     "output_type": "execute_result"
    }
   ],
   "source": [
    "vinstance.events.ichange().process_receipt(tx_receipt)"
   ]
  },
  {
   "cell_type": "code",
   "execution_count": null,
   "metadata": {},
   "outputs": [],
   "source": []
  },
  {
   "cell_type": "code",
   "execution_count": null,
   "metadata": {},
   "outputs": [],
   "source": []
  }
 ],
 "metadata": {
  "kernelspec": {
   "display_name": "Python 3 (ipykernel)",
   "language": "python",
   "name": "python3"
  },
  "language_info": {
   "codemirror_mode": {
    "name": "ipython",
    "version": 3
   },
   "file_extension": ".py",
   "mimetype": "text/x-python",
   "name": "python",
   "nbconvert_exporter": "python",
   "pygments_lexer": "ipython3",
   "version": "3.10.12"
  }
 },
 "nbformat": 4,
 "nbformat_minor": 4
}
