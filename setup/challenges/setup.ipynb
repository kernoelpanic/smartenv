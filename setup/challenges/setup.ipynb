{
 "cells": [
  {
   "cell_type": "code",
   "execution_count": 1,
   "metadata": {},
   "outputs": [
    {
     "data": {
      "text/plain": [
       "<module 'util' from '/smartenv/setup/challenges/util/__init__.py'>"
      ]
     },
     "execution_count": 1,
     "metadata": {},
     "output_type": "execute_result"
    }
   ],
   "source": [
    "import sys\n",
    "import os\n",
    "import requests\n",
    "import json\n",
    "import csv\n",
    "import decimal\n",
    "import copy\n",
    "\n",
    "#sys.path.append(\"/smartcode/util\")\n",
    "import util\n",
    "from importlib import reload\n",
    "reload(util)"
   ]
  },
  {
   "cell_type": "code",
   "execution_count": 2,
   "metadata": {},
   "outputs": [
    {
     "name": "stdout",
     "output_type": "stream",
     "text": [
      "/smartenv/setup/challenges\r\n"
     ]
    }
   ],
   "source": [
    "!pwd"
   ]
  },
  {
   "cell_type": "code",
   "execution_count": 3,
   "metadata": {},
   "outputs": [],
   "source": [
    "SMARTENV_PATH = \"/smartenv/\"\n",
    "GEN_CONFIG_PATH = \"/smartenv/setup/generated_config/\"\n",
    "GLOBAL_INFO_PATH = GEN_CONFIG_PATH + \"/global_info/\"\n",
    "GENESIS_JSON = \"/smartenv/setup/environment/genesis_config/go-ethereum/berlin/genesis.json\"\n",
    "\n",
    "PARTICIPANTS_PATH = \"/smartenv/participants/\"\n",
    "PARTICIPANTS_CSV = PARTICIPANTS_PATH + \"participants.csv\"\n",
    "PP_CSV = PARTICIPANTS_CSV\n",
    "\n",
    "SCRIPTS_PATH = \"/smartenv/util/scripts/\"\n",
    "CHALLENGES_PATH = \"/smartenv/challenges/\"\n",
    "CHL_NOTAWALLET_PATH = \"/smartenv/challenges/notawallet/\""
   ]
  },
  {
   "cell_type": "code",
   "execution_count": 4,
   "metadata": {},
   "outputs": [],
   "source": [
    "SRVIP = \"172.18.0.8\"\n",
    "SRVPORT = \"8545\"\n",
    "SRVCHAINID = \"25519\"\n",
    "SRVNETVER = \"25519\""
   ]
  },
  {
   "cell_type": "code",
   "execution_count": 5,
   "metadata": {},
   "outputs": [],
   "source": [
    "SEED_VALUE = 16*10**18\n",
    "SEED_VALUE_NOTAWALLET = 10*10**18\n",
    "SEED_VALUE_BADPARITY = 30*10**18\n",
    "SEED_VALUE_DAODOWN = 30*10**18\n",
    "SEED_VALUE_FAILDICE = 30*10**18"
   ]
  },
  {
   "cell_type": "markdown",
   "metadata": {},
   "source": [
    "# Challenge setup geth"
   ]
  },
  {
   "cell_type": "markdown",
   "metadata": {},
   "source": [
    "## Start environment: smartenv-geth & smartenv-web3py "
   ]
  },
  {
   "cell_type": "markdown",
   "metadata": {},
   "source": [
    "We will run the server/geth node as well as the smar>tenv-web3py client docker containers on the same host machine. "
   ]
  },
  {
   "cell_type": "markdown",
   "metadata": {},
   "source": [
    "```bash\n",
    "$ make run-smartenv-web3py # the container running this notebook\n",
    "$ make run-smartenv-geth # the geth client this notebook connectes to\n",
    "```\n"
   ]
  },
  {
   "cell_type": "markdown",
   "metadata": {},
   "source": [
    "## Connect and check chain state"
   ]
  },
  {
   "cell_type": "markdown",
   "metadata": {},
   "source": [
    "Note that for *PoA* nodes the middleware needs to be added.\n",
    "Therefore, set the `poa` flag to true when connecting. "
   ]
  },
  {
   "cell_type": "code",
   "execution_count": 6,
   "metadata": {},
   "outputs": [],
   "source": [
    "#w3 = web3.Web3(web3.Web3.HTTPProvider(\"http://172.18.0.1:8545\"))\n",
    "#w3=util.connect(host=\"172.18.0.5\",port=\"8544\",poa=True) \n",
    "w3=util.connect(host=SRVIP,port=SRVPORT,poa=True)\n",
    "# check if connection was successful\n",
    "assert w3.isConnected()"
   ]
  },
  {
   "cell_type": "code",
   "execution_count": 7,
   "metadata": {},
   "outputs": [
    {
     "data": {
      "text/plain": [
       "'5.20.0'"
      ]
     },
     "execution_count": 7,
     "metadata": {},
     "output_type": "execute_result"
    }
   ],
   "source": [
    "w3.api #web3 version used"
   ]
  },
  {
   "cell_type": "code",
   "execution_count": 8,
   "metadata": {},
   "outputs": [
    {
     "data": {
      "text/plain": [
       "'Geth/bob/v1.10.3-stable-991384a7/linux-amd64/go1.15.4'"
      ]
     },
     "execution_count": 8,
     "metadata": {},
     "output_type": "execute_result"
    }
   ],
   "source": [
    "w3.clientVersion # remote client version to which w3 is connected "
   ]
  },
  {
   "cell_type": "code",
   "execution_count": 9,
   "metadata": {},
   "outputs": [
    {
     "name": "stdout",
     "output_type": "stream",
     "text": [
      "25519\n"
     ]
    }
   ],
   "source": [
    "print(w3.net.version) # in the console: admin.nodeInfo\n",
    "assert w3.net.version == SRVNETVER"
   ]
  },
  {
   "cell_type": "code",
   "execution_count": 10,
   "metadata": {},
   "outputs": [
    {
     "name": "stdout",
     "output_type": "stream",
     "text": [
      "25519\n"
     ]
    }
   ],
   "source": [
    "print(w3.eth.chainId) # in the console: admin.nodeInfo\n",
    "assert w3.eth.chainId == int(SRVCHAINID)"
   ]
  },
  {
   "cell_type": "code",
   "execution_count": 11,
   "metadata": {
    "scrolled": true
   },
   "outputs": [
    {
     "data": {
      "text/plain": [
       "8"
      ]
     },
     "execution_count": 11,
     "metadata": {},
     "output_type": "execute_result"
    }
   ],
   "source": [
    "w3.eth.blockNumber"
   ]
  },
  {
   "cell_type": "code",
   "execution_count": 12,
   "metadata": {},
   "outputs": [
    {
     "data": {
      "text/plain": [
       "14883224"
      ]
     },
     "execution_count": 12,
     "metadata": {},
     "output_type": "execute_result"
    }
   ],
   "source": [
    "w3.eth.getBlock(w3.eth.blockNumber)[\"gasLimit\"]"
   ]
  },
  {
   "cell_type": "code",
   "execution_count": 13,
   "metadata": {},
   "outputs": [
    {
     "data": {
      "text/plain": [
       "False"
      ]
     },
     "execution_count": 13,
     "metadata": {},
     "output_type": "execute_result"
    }
   ],
   "source": [
    "w3.eth.mining"
   ]
  },
  {
   "cell_type": "code",
   "execution_count": 14,
   "metadata": {},
   "outputs": [
    {
     "data": {
      "text/plain": [
       "False"
      ]
     },
     "execution_count": 14,
     "metadata": {},
     "output_type": "execute_result"
    }
   ],
   "source": [
    "w3.eth.syncing"
   ]
  },
  {
   "cell_type": "markdown",
   "metadata": {},
   "source": [
    "### Networ check"
   ]
  },
  {
   "cell_type": "code",
   "execution_count": 15,
   "metadata": {
    "scrolled": true
   },
   "outputs": [
    {
     "data": {
      "text/plain": [
       "1"
      ]
     },
     "execution_count": 15,
     "metadata": {},
     "output_type": "execute_result"
    }
   ],
   "source": [
    "w3.net.peerCount"
   ]
  },
  {
   "cell_type": "code",
   "execution_count": 16,
   "metadata": {},
   "outputs": [
    {
     "data": {
      "text/plain": [
       "[AttributeDict({'enode': 'enode://9d3297cebb326554af6e6d3146c19856b42a4e97f5a361bd51d8cdf66881ddc65ca54ba4082a2bcba236f1a18082ad3315fb2f5065c617dc7bead1d0c07b6f61@131.130.126.71:30303',\n",
       "  'id': '11ee2e712a33a71f0c3cf7ee7cca0520c3b18584cda5ecd83ba8376a7248de64',\n",
       "  'name': 'Geth/alice/v1.10.5-unstable-dde6f1e9-20210628/linux-amd64/go1.15.4',\n",
       "  'caps': ['eth/65', 'eth/66', 'snap/1'],\n",
       "  'network': AttributeDict({'localAddress': '172.18.0.8:44114',\n",
       "   'remoteAddress': '131.130.126.71:30303',\n",
       "   'inbound': False,\n",
       "   'trusted': False,\n",
       "   'static': False}),\n",
       "  'protocols': AttributeDict({'eth': AttributeDict({'version': 66,\n",
       "    'difficulty': 15,\n",
       "    'head': '0xdd54f570826a4a67ac20518fed33c5dde061ad40794e2665270b75558d457ba0'}),\n",
       "   'snap': AttributeDict({'version': 1})})})]"
      ]
     },
     "execution_count": 16,
     "metadata": {},
     "output_type": "execute_result"
    }
   ],
   "source": [
    "w3.geth.admin.peers()"
   ]
  },
  {
   "cell_type": "code",
   "execution_count": 17,
   "metadata": {},
   "outputs": [
    {
     "data": {
      "text/plain": [
       "True"
      ]
     },
     "execution_count": 17,
     "metadata": {},
     "output_type": "execute_result"
    }
   ],
   "source": [
    "w3.net.listening"
   ]
  },
  {
   "cell_type": "code",
   "execution_count": 18,
   "metadata": {},
   "outputs": [
    {
     "data": {
      "text/plain": [
       "['0xa1273F73C607Bd0af4D2916f4C9e6A550581dCA6',\n",
       " '0x782FEdd38Bd647fcb825cEDb39Af0b2ee27cA49E',\n",
       " '0x959155655931D3398610a5ACDae41D7cD3A08912',\n",
       " '0x032FcB0a1c233Da1546d2242Ce0b4C4A51118Ec3']"
      ]
     },
     "execution_count": 18,
     "metadata": {},
     "output_type": "execute_result"
    }
   ],
   "source": [
    "w3.eth.accounts"
   ]
  },
  {
   "cell_type": "markdown",
   "metadata": {},
   "source": [
    "### Export (correct) enode info for server (docker container)"
   ]
  },
  {
   "cell_type": "markdown",
   "metadata": {},
   "source": [
    "Delete the old generated config dir beforehand:"
   ]
  },
  {
   "cell_type": "code",
   "execution_count": 21,
   "metadata": {},
   "outputs": [
    {
     "data": {
      "text/plain": [
       "'/smartenv/setup/generated_config/'"
      ]
     },
     "execution_count": 21,
     "metadata": {},
     "output_type": "execute_result"
    }
   ],
   "source": [
    "GEN_CONFIG_PATH"
   ]
  },
  {
   "cell_type": "code",
   "execution_count": 22,
   "metadata": {},
   "outputs": [],
   "source": [
    "!mkdir -p {GEN_CONFIG_PATH} "
   ]
  },
  {
   "cell_type": "code",
   "execution_count": 23,
   "metadata": {},
   "outputs": [
    {
     "data": {
      "text/plain": [
       "'enode://9d3297cebb326554af6e6d3146c19856b42a4e97f5a361bd51d8cdf66881ddc65ca54ba4082a2bcba236f1a18082ad3315fb2f5065c617dc7bead1d0c07b6f61@131.130.126.71:30303'"
      ]
     },
     "execution_count": 23,
     "metadata": {},
     "output_type": "execute_result"
    }
   ],
   "source": [
    "poa_node_con = False\n",
    "enode_file = GLOBAL_INFO_PATH + \"/enodes\"\n",
    "# only needed if running directly on PoA node server:\n",
    "#invalid_ip_port = \"172.18.0.5:30303\"\n",
    "invalid_ip_port = \"127.0.0.1:30303\"\n",
    "valid_ip_port = \"128.131.169.35:30303\"\n",
    "\n",
    "if poa_node_con:\n",
    "    if w3.clientVersion.startswith('Parity'):\n",
    "        enode = w3.parity.enode()\n",
    "    elif w3.clientVersion.startswith('Geth'):\n",
    "        enode = w3.geth.admin.nodeInfo()['enode']\n",
    "    enode = enode.replace(invalid_ip_port,valid_ip_port)\n",
    "else:\n",
    "    enode = w3.geth.admin.peers()[0][\"enode\"]\n",
    "enode"
   ]
  },
  {
   "cell_type": "code",
   "execution_count": 24,
   "metadata": {},
   "outputs": [],
   "source": [
    "# Write enode to file:\n",
    "!mkdir -p $GLOBAL_INFO_PATH\n",
    "!echo $enode > $enode_file"
   ]
  },
  {
   "cell_type": "code",
   "execution_count": 25,
   "metadata": {},
   "outputs": [
    {
     "data": {
      "text/plain": [
       "AttributeDict({'difficulty': 1,\n",
       " 'proofOfAuthorityData': HexBytes('0x000000000000000000000000000000000000000000000000000000000000000033f4f5ac17d677e188ab8d43149717632f9960d80000000000000000000000000000000000000000000000000000000000000000000000000000000000000000000000000000000000000000000000000000000000'),\n",
       " 'gasLimit': 15000000,\n",
       " 'gasUsed': 0,\n",
       " 'hash': HexBytes('0xa5f0a078d24ba19a4f4f01b77aa1d13d965b95dfbdca6ba2fa79e711d481272e'),\n",
       " 'logsBloom': HexBytes('0x00000000000000000000000000000000000000000000000000000000000000000000000000000000000000000000000000000000000000000000000000000000000000000000000000000000000000000000000000000000000000000000000000000000000000000000000000000000000000000000000000000000000000000000000000000000000000000000000000000000000000000000000000000000000000000000000000000000000000000000000000000000000000000000000000000000000000000000000000000000000000000000000000000000000000000000000000000000000000000000000000000000000000000000000000000000'),\n",
       " 'miner': '0x0000000000000000000000000000000000000000',\n",
       " 'mixHash': HexBytes('0x0000000000000000000000000000000000000000000000000000000000000000'),\n",
       " 'nonce': HexBytes('0x0000000000000000'),\n",
       " 'number': 0,\n",
       " 'parentHash': HexBytes('0x0000000000000000000000000000000000000000000000000000000000000000'),\n",
       " 'receiptsRoot': HexBytes('0x56e81f171bcc55a6ff8345e692c0f86e5b48e01b996cadc001622fb5e363b421'),\n",
       " 'sha3Uncles': HexBytes('0x1dcc4de8dec75d7aab85b567b6ccd41ad312451b948a7413f0a142fd40d49347'),\n",
       " 'size': 626,\n",
       " 'stateRoot': HexBytes('0x00d4b5684cdbc1dfc8ad7608d44f924054f804bdb92b35025c52edf4476f07aa'),\n",
       " 'timestamp': 1582023590,\n",
       " 'totalDifficulty': 1,\n",
       " 'transactions': [],\n",
       " 'transactionsRoot': HexBytes('0x56e81f171bcc55a6ff8345e692c0f86e5b48e01b996cadc001622fb5e363b421'),\n",
       " 'uncles': []})"
      ]
     },
     "execution_count": 25,
     "metadata": {},
     "output_type": "execute_result"
    }
   ],
   "source": [
    "# block 0 ist the genesis block\n",
    "genesis_block = w3.eth.getBlock(0)\n",
    "genesis_block"
   ]
  },
  {
   "cell_type": "markdown",
   "metadata": {},
   "source": [
    "Copy password file over for generated accounts:"
   ]
  },
  {
   "cell_type": "code",
   "execution_count": 26,
   "metadata": {},
   "outputs": [],
   "source": [
    "!cp {SMARTENV_PATH}/passwordfile {GLOBAL_INFO_PATH}"
   ]
  },
  {
   "cell_type": "markdown",
   "metadata": {},
   "source": [
    "Copy `genesis.json` over for generated config:"
   ]
  },
  {
   "cell_type": "code",
   "execution_count": 27,
   "metadata": {},
   "outputs": [],
   "source": [
    "!cp {GENESIS_JSON} {GLOBAL_INFO_PATH}"
   ]
  },
  {
   "cell_type": "markdown",
   "metadata": {},
   "source": [
    "## Import students"
   ]
  },
  {
   "cell_type": "code",
   "execution_count": 28,
   "metadata": {},
   "outputs": [
    {
     "name": "stdout",
     "output_type": "stream",
     "text": [
      "/smartenv/participants/\n",
      "/smartenv/participants/participants.csv\n",
      "/smartenv/participants/participants.csv\n"
     ]
    }
   ],
   "source": [
    "print(PARTICIPANTS_PATH)\n",
    "print(PARTICIPANTS_CSV)\n",
    "print(PP_CSV)"
   ]
  },
  {
   "cell_type": "code",
   "execution_count": 29,
   "metadata": {},
   "outputs": [
    {
     "name": "stdout",
     "output_type": "stream",
     "text": [
      "lrwxrwxrwx 1 smartenv smartenv 24 Jun 28 18:43 /smartenv/participants/participants.csv -> participants_current.csv\r\n"
     ]
    }
   ],
   "source": [
    "!ls -la {PARTICIPANTS_CSV}"
   ]
  },
  {
   "cell_type": "code",
   "execution_count": 30,
   "metadata": {},
   "outputs": [
    {
     "name": "stdout",
     "output_type": "stream",
     "text": [
      "Aljosha,Judmayer,ajudmayer@sba-research.org,1\r\n",
      "Nicholas,Stifter,nstifter@sba-research.org,2\r\n"
     ]
    }
   ],
   "source": [
    "!head -n2 $PARTICIPANTS_CSV"
   ]
  },
  {
   "cell_type": "code",
   "execution_count": 31,
   "metadata": {},
   "outputs": [
    {
     "name": "stdout",
     "output_type": "stream",
     "text": [
      "/smartenv/participants/participants.csv: symbolic link to participants_current.csv\r\n"
     ]
    }
   ],
   "source": [
    "!file $PARTICIPANTS_CSV # get file format/encoding"
   ]
  },
  {
   "cell_type": "code",
   "execution_count": 32,
   "metadata": {},
   "outputs": [
    {
     "name": "stdout",
     "output_type": "stream",
     "text": [
      "33 /smartenv/participants/participants.csv\r\n"
     ]
    }
   ],
   "source": [
    "!wc -l $PARTICIPANTS_CSV"
   ]
  },
  {
   "cell_type": "code",
   "execution_count": 33,
   "metadata": {},
   "outputs": [
    {
     "data": {
      "text/plain": [
       "33"
      ]
     },
     "execution_count": 33,
     "metadata": {},
     "output_type": "execute_result"
    }
   ],
   "source": [
    "wc_out = !wc -l $PARTICIPANTS_CSV # check number of stutend and compare later \n",
    "pp_count_wc = int(wc_out[0].split(\" \")[0])\n",
    "pp_count_wc"
   ]
  },
  {
   "cell_type": "code",
   "execution_count": 34,
   "metadata": {},
   "outputs": [],
   "source": [
    "pp_list = list() # list of participants\n",
    "pp_count = 0 # number of participants\n",
    "\n",
    "in_fieldnames = ['firstname', 'lastname','email','ppid'] # ppid could be matr."
   ]
  },
  {
   "cell_type": "code",
   "execution_count": 35,
   "metadata": {},
   "outputs": [],
   "source": [
    "def read_students(path,pp_list):\n",
    "    with open(path,'r',encoding='utf-8') as f_input:\n",
    "    #with open(path,'r',encoding='utf-16') as f_input:\n",
    "    #with open(path,'r',encoding='latin-1') as f_mail:\n",
    "        #sreader = csv.DictReader(f_input, fieldnames=in_fieldnames, delimiter='\\t',quotechar='\\\"')\n",
    "        sreader = csv.DictReader(f_input, fieldnames=in_fieldnames, delimiter=',',quotechar='\\\"')\n",
    "        for i,row in enumerate(sreader):\n",
    "            #print(i,row)\n",
    "            pp_dict = dict()\n",
    "            for field in in_fieldnames:\n",
    "                    pp_dict[field]=row[field]\n",
    "            pp_list.append(pp_dict)\n",
    "            #print(students_list)\n",
    "    pp_count = i+1\n",
    "    return pp_count"
   ]
  },
  {
   "cell_type": "code",
   "execution_count": 36,
   "metadata": {},
   "outputs": [
    {
     "data": {
      "text/plain": [
       "33"
      ]
     },
     "execution_count": 36,
     "metadata": {},
     "output_type": "execute_result"
    }
   ],
   "source": [
    "read_students(PP_CSV,pp_list)"
   ]
  },
  {
   "cell_type": "code",
   "execution_count": 37,
   "metadata": {},
   "outputs": [
    {
     "data": {
      "text/plain": [
       "{'firstname': 'Aljosha',\n",
       " 'lastname': 'Judmayer',\n",
       " 'email': 'ajudmayer@sba-research.org',\n",
       " 'ppid': '1'}"
      ]
     },
     "execution_count": 37,
     "metadata": {},
     "output_type": "execute_result"
    }
   ],
   "source": [
    "pp_list[0]"
   ]
  },
  {
   "cell_type": "code",
   "execution_count": 38,
   "metadata": {},
   "outputs": [
    {
     "data": {
      "text/plain": [
       "{'firstname': 'stub10',\n",
       " 'lastname': 'stub10',\n",
       " 'email': 'ajudmayer@sba-research.org',\n",
       " 'ppid': '123'}"
      ]
     },
     "execution_count": 38,
     "metadata": {},
     "output_type": "execute_result"
    }
   ],
   "source": [
    "pp_list[-1]"
   ]
  },
  {
   "cell_type": "code",
   "execution_count": 39,
   "metadata": {},
   "outputs": [],
   "source": [
    "# pp_list # long output"
   ]
  },
  {
   "cell_type": "code",
   "execution_count": 40,
   "metadata": {},
   "outputs": [
    {
     "data": {
      "text/plain": [
       "33"
      ]
     },
     "execution_count": 40,
     "metadata": {},
     "output_type": "execute_result"
    }
   ],
   "source": [
    "pp_count = len(pp_list)\n",
    "assert pp_count == pp_count_wc\n",
    "pp_count"
   ]
  },
  {
   "cell_type": "markdown",
   "metadata": {},
   "source": [
    "## Create keys"
   ]
  },
  {
   "cell_type": "code",
   "execution_count": 41,
   "metadata": {},
   "outputs": [
    {
     "data": {
      "text/plain": [
       "'/smartenv/util/scripts/'"
      ]
     },
     "execution_count": 41,
     "metadata": {},
     "output_type": "execute_result"
    }
   ],
   "source": [
    "SCRIPTS_PATH"
   ]
  },
  {
   "cell_type": "code",
   "execution_count": 42,
   "metadata": {},
   "outputs": [
    {
     "name": "stdout",
     "output_type": "stream",
     "text": [
      "#!/bin/bash\r\n",
      "#\r\n",
      "# Run from root of repository\r\n",
      "\r\n",
      "set -e\r\n",
      "\r\n",
      "if [ -z \"${1}\" ] && [ -z \"${PARTICIPANTS+x}\" ];\r\n",
      "then\r\n",
      "    echo \"PARTICIPANTS = No number given e.g., '42'\"\r\n",
      "    exit 2\r\n",
      "elif [ ! -z \"${1}\" ];\r\n",
      "then\r\n",
      "    export PARTICIPANTS=\"${1}\"\r\n",
      "fi\r\n",
      "echo \"PARTICIPANTS = ${PARTICIPANTS}\"\r\n",
      "\r\n",
      "if [ -z \"${DATADIR+x}\" ];\r\n",
      "then\r\n",
      "    echo \"DATADIR environment variable missing\"\r\n",
      "\techo \"No Datadir given e.g., './datadir/alice/'\"\r\n",
      "\texit 2\r\n",
      "fi\r\n",
      "echo \"DATADIR = ${DATADIR}\"\r\n",
      "\r\n",
      "if [ -z \"${TARGETDIR+x}\" ];\r\n",
      "then\r\n",
      "        echo \"TARGETDIR environment variable missing\"\r\n",
      "\techo \"No Datadir given e.g., './setup/generated_config/keystore'\"\r\n",
      "\texit 2\r\n",
      "fi\r\n",
      "echo \"TARGETDIR = ${TARGETDIR}\"\r\n",
      "\r\n",
      "mkdir -p ${TARGETDIR}\r\n",
      "\r\n",
      "#for i in {0..90}};\r\n",
      "for i in $(seq 1 ${PARTICIPANTS});\r\n",
      "do \r\n",
      "\techo $i\r\n",
      "\tbash ./util/scripts/geth_account.sh new\r\n",
      "done\r\n",
      "\r\n",
      "cp -r \"${DATADIR}/keystore\" ${TARGETDIR}\r\n"
     ]
    }
   ],
   "source": [
    "!cat {SCRIPTS_PATH}create_accounts.sh "
   ]
  },
  {
   "cell_type": "code",
   "execution_count": 43,
   "metadata": {},
   "outputs": [
    {
     "name": "stdout",
     "output_type": "stream",
     "text": [
      "#!/bin/bash\r\n",
      "#\r\n",
      "#\r\n",
      "# Run with docker from root of repository:\r\n",
      "# $ PWFILE=./passwordfile DATADIR=./datadir/accountmgt/ bash geth_account.sh new\r\n",
      "\r\n",
      "set -e\r\n",
      "\r\n",
      "if [ -z \"${PWFILE+x}\" ];\r\n",
      "then\r\n",
      "\techo \"PWFILE environment variable missing\"\r\n",
      "\techo \"No Password file given using default './passwordfile'\"\r\n",
      "\texport PWFILE='./passwordfile'\r\n",
      "fi\r\n",
      "echo \"PWFILE = ${PWFILE}\"\r\n",
      "\r\n",
      "if [ -f \"${PWFILE}\" ];\r\n",
      "then\r\n",
      "\techo \"using stored password ... \"\t\r\n",
      "else\r\n",
      "\t#pwgen -s -B 32 1 > ${PWFILE}\r\n",
      "\techo \"ERROR: No passwordfile found!\"\r\n",
      "\texit 1\r\n",
      "fi\r\n",
      "\r\n",
      "if [ -z \"${DATADIR+x}\" ];\r\n",
      "then\r\n",
      "        echo \"DATADIR environment variable missing\"\r\n",
      "\techo \"No Datadir given e.g., './datadir/bob'\"\r\n",
      "\texit 2\r\n",
      "fi\r\n",
      "echo \"DATADIR = ${DATADIR}\"\r\n",
      "\r\n",
      "mkdir -p ${DATADIR}\r\n",
      "\r\n",
      "# run container without network\r\n",
      "# just to generate and manage keys\r\n",
      "docker run \\\r\n",
      "\t--mount type=bind,source=$(pwd),target=/smartenv \\\r\n",
      "\t-it smartenv-geth:latest \\\r\n",
      "\t\tgeth \\\r\n",
      "\t\t--datadir \"${DATADIR}\" \\\r\n",
      "\t\t--nodiscover \\\r\n",
      "\t\t--maxpeers 0 \\\r\n",
      "\t\t--ipcdisable \\\r\n",
      "\t\t--verbosity 6  \\\r\n",
      "\t\t--password \"${PWFILE}\" \\\r\n",
      "\t\taccount \"$1\" \"$2\" \"$3\" \r\n",
      "\r\n"
     ]
    }
   ],
   "source": [
    "!cat {SCRIPTS_PATH}geth_account.sh"
   ]
  },
  {
   "cell_type": "markdown",
   "metadata": {},
   "source": [
    "Run the following command from the root folder of the repository: \n",
    "(Take care that there are not more keys under the keystore in DATADIR or the TARGETDIR)"
   ]
  },
  {
   "cell_type": "raw",
   "metadata": {},
   "source": [
    "DATADIR=./datadir/participants PWFILE=./passwordfile TARGETDIR=./setup/generated_config/ bash ./util/scripts/create_accounts.sh 33"
   ]
  },
  {
   "cell_type": "markdown",
   "metadata": {},
   "source": [
    "## Assign addresses to users (testaccounts & students)"
   ]
  },
  {
   "cell_type": "raw",
   "metadata": {},
   "source": [
    "# create test users list of user dicts\n",
    "testers_list = list()\n",
    "testers_list.append(\n",
    "    {'firstname':\"aljosha\", \n",
    "     'lastname':\"judmayer\",\n",
    "     'matr':\"0\",\n",
    "     'email':\"ajudmayer@sba-research.org\",\n",
    "     'cc':\"ajudmayer@sba-research.org\",\n",
    "     'attach':\"\",\n",
    "     'contract':\"\",\n",
    "     'account':\"\"})\n",
    "testers_list.append(\n",
    "    {'firstname':\"nicholas\", \n",
    "     'lastname':\"stifter\",\n",
    "     'matr':\"0\",\n",
    "     'email':\"nstifter@sba-research.org\",\n",
    "     'cc':\"nstifter@sba-research.org\",\n",
    "     'attach':\"\",\n",
    "     'contract':\"\",\n",
    "     'account':\"\"})"
   ]
  },
  {
   "cell_type": "code",
   "execution_count": 44,
   "metadata": {},
   "outputs": [],
   "source": [
    "#### CHANGE ####\n",
    " \n",
    "# path where the raw ethereuem keys are located:\n",
    "#source_path=\"./test/keystore/\" \n",
    "source_path= GEN_CONFIG_PATH + \"/keystore\"\n",
    "\n",
    "# Either run with test users or with all students:\n",
    "#users_list = copy.deepcopy(testers_list)\n",
    "users_list = copy.deepcopy(pp_list)\n",
    "\n",
    "#users_list = copy.deepcopy(testers_list)\n",
    "#users_list.extend(copy.deepcopy(students_list)\n",
    "\n",
    "#### CHANGE END ####"
   ]
  },
  {
   "cell_type": "code",
   "execution_count": 45,
   "metadata": {},
   "outputs": [
    {
     "name": "stdout",
     "output_type": "stream",
     "text": [
      "33\n"
     ]
    },
    {
     "data": {
      "text/plain": [
       "{'firstname': 'Aljosha',\n",
       " 'lastname': 'Judmayer',\n",
       " 'email': 'ajudmayer@sba-research.org',\n",
       " 'ppid': '1'}"
      ]
     },
     "execution_count": 45,
     "metadata": {},
     "output_type": "execute_result"
    }
   ],
   "source": [
    "# print some user as test before assignment\n",
    "print(len(users_list))\n",
    "users_list[0]"
   ]
  },
  {
   "cell_type": "code",
   "execution_count": 46,
   "metadata": {},
   "outputs": [
    {
     "name": "stdout",
     "output_type": "stream",
     "text": [
      "global_info  keystore  old\r\n"
     ]
    }
   ],
   "source": [
    "!ls {GEN_CONFIG_PATH}"
   ]
  },
  {
   "cell_type": "code",
   "execution_count": 47,
   "metadata": {},
   "outputs": [
    {
     "name": "stdout",
     "output_type": "stream",
     "text": [
      "/smartenv/setup/generated_config/keystore\r\n",
      "UTC--2021-06-29T11-41-06.504958819Z--d305c767e93b6c714e8787bc0805cb10a5f1eb94\r\n"
     ]
    }
   ],
   "source": [
    "!cd $source_path && pwd && ls | head -n1"
   ]
  },
  {
   "cell_type": "code",
   "execution_count": 48,
   "metadata": {},
   "outputs": [],
   "source": [
    "#!cd $source_path && ls ./ | head -n1 | xargs -Irpl cat rpl"
   ]
  },
  {
   "cell_type": "code",
   "execution_count": 49,
   "metadata": {},
   "outputs": [],
   "source": [
    "def read_keypairs(path):\n",
    "    \"\"\"read keypairs from keystore\n",
    "    \"\"\"\n",
    "    _keypairs = list()\n",
    "    # read out keystore folder \n",
    "    for root,dirs,files in os.walk(path):\n",
    "        #print(\"root = {}\".format(root))\n",
    "        #print(\"dirs = {}\".format(dirs))\n",
    "        for f in files:\n",
    "            with open(root + \"/\" + f,\"r\",encoding=\"utf-8\") as f_input:\n",
    "                data = json.loads(f_input.read()) # load all key pair data from file\n",
    "                data[\"filename\"] = f # add file name to data for later\n",
    "                _keypairs.append(data)\n",
    "    return _keypairs   "
   ]
  },
  {
   "cell_type": "code",
   "execution_count": 50,
   "metadata": {},
   "outputs": [],
   "source": [
    "def assign_addresses(keystore_path,users,attach_path=\"/smartenv/setup/generated_config/attach\"):\n",
    "    \"\"\" map keypairs to users and add info to user dict\n",
    "    This also creates the attach directory. \n",
    "    \"\"\"\n",
    "    keypairs = read_keypairs(keystore_path)\n",
    "    assert len(keypairs) >= len(users)\n",
    "    \n",
    "    for u in users:\n",
    "        kp = keypairs.pop()\n",
    "        u[\"account\"] = kp[\"address\"]\n",
    "        #u[\"keypair\"] = kp\n",
    "        #u[\"key\"] = kp[\"crypto\"][\"ciphertext\"]\n",
    "        u[\"filename\"] = kp[\"filename\"]\n",
    "        \n",
    "        arg_dest = attach_path + \"/\" + u[\"account\"]\n",
    "        !mkdir -p $arg_dest\n",
    "        arg_src = keystore_path + \"/\" + kp[\"filename\"]\n",
    "        !cp $arg_src $arg_dest\n",
    "        u[\"attach\"] = \"/tmp/attach/\" + u[\"account\"] + \".tar.gz\"\n",
    "        print(\".\",end=\".\")\n",
    "    return users"
   ]
  },
  {
   "cell_type": "code",
   "execution_count": 51,
   "metadata": {},
   "outputs": [
    {
     "name": "stdout",
     "output_type": "stream",
     "text": [
      ".................................................................."
     ]
    },
    {
     "data": {
      "text/plain": [
       "{'firstname': 'Aljosha',\n",
       " 'lastname': 'Judmayer',\n",
       " 'email': 'ajudmayer@sba-research.org',\n",
       " 'ppid': '1',\n",
       " 'account': '032fcb0a1c233da1546d2242ce0b4c4a51118ec3',\n",
       " 'filename': 'UTC--2021-06-29T11-42-22.127396867Z--032fcb0a1c233da1546d2242ce0b4c4a51118ec3',\n",
       " 'attach': '/tmp/attach/032fcb0a1c233da1546d2242ce0b4c4a51118ec3.tar.gz'}"
      ]
     },
     "execution_count": 51,
     "metadata": {},
     "output_type": "execute_result"
    }
   ],
   "source": [
    "attach_path= GEN_CONFIG_PATH + \"/attach\"\n",
    "#!rm -rf attach_path\n",
    "assign_addresses(source_path,users_list,attach_path)\n",
    "\n",
    "# print some user as test after assignment\n",
    "users_list[0]"
   ]
  },
  {
   "cell_type": "code",
   "execution_count": 52,
   "metadata": {},
   "outputs": [],
   "source": [
    "def getBalance(address):\n",
    "    address = w3.toChecksumAddress(address)\n",
    "    return w3.fromWei(w3.eth.getBalance(address),'ether')"
   ]
  },
  {
   "cell_type": "code",
   "execution_count": 53,
   "metadata": {},
   "outputs": [
    {
     "data": {
      "text/plain": [
       "0"
      ]
     },
     "execution_count": 53,
     "metadata": {},
     "output_type": "execute_result"
    }
   ],
   "source": [
    "getBalance(users_list[0][\"account\"])"
   ]
  },
  {
   "cell_type": "code",
   "execution_count": 54,
   "metadata": {},
   "outputs": [
    {
     "data": {
      "text/plain": [
       "['0xa1273F73C607Bd0af4D2916f4C9e6A550581dCA6',\n",
       " '0x782FEdd38Bd647fcb825cEDb39Af0b2ee27cA49E',\n",
       " '0x959155655931D3398610a5ACDae41D7cD3A08912',\n",
       " '0x032FcB0a1c233Da1546d2242Ce0b4C4A51118Ec3']"
      ]
     },
     "execution_count": 54,
     "metadata": {},
     "output_type": "execute_result"
    }
   ],
   "source": [
    "w3.eth.accounts"
   ]
  },
  {
   "cell_type": "code",
   "execution_count": 55,
   "metadata": {},
   "outputs": [
    {
     "name": "stdout",
     "output_type": "stream",
     "text": [
      "0xa1273F73C607Bd0af4D2916f4C9e6A550581dCA6 :  1000000\n",
      "0x782FEdd38Bd647fcb825cEDb39Af0b2ee27cA49E :  0\n",
      "0x959155655931D3398610a5ACDae41D7cD3A08912 :  0\n",
      "0x032FcB0a1c233Da1546d2242Ce0b4C4A51118Ec3 :  0\n"
     ]
    }
   ],
   "source": [
    "for a in w3.eth.accounts:\n",
    "    print(a,\": \",getBalance(a))"
   ]
  },
  {
   "cell_type": "code",
   "execution_count": 56,
   "metadata": {},
   "outputs": [],
   "source": [
    "w3.eth.defaultAccount = w3.eth.accounts[0]"
   ]
  },
  {
   "cell_type": "code",
   "execution_count": 57,
   "metadata": {
    "scrolled": true
   },
   "outputs": [
    {
     "data": {
      "text/plain": [
       "'0xa1273F73C607Bd0af4D2916f4C9e6A550581dCA6'"
      ]
     },
     "execution_count": 57,
     "metadata": {},
     "output_type": "execute_result"
    }
   ],
   "source": [
    "w3.eth.defaultAccount"
   ]
  },
  {
   "cell_type": "code",
   "execution_count": 58,
   "metadata": {},
   "outputs": [],
   "source": [
    "def send_accounts_money(users,amount):\n",
    "    for u in users:\n",
    "        account = w3.toChecksumAddress(u[\"account\"])\n",
    "        u[\"seedbalance\"] = amount\n",
    "        w3.eth.sendTransaction({\"from\":w3.eth.defaultAccount,\"to\":account,\"value\":amount})\n",
    "    return"
   ]
  },
  {
   "cell_type": "code",
   "execution_count": 59,
   "metadata": {},
   "outputs": [
    {
     "data": {
      "text/plain": [
       "True"
      ]
     },
     "execution_count": 59,
     "metadata": {},
     "output_type": "execute_result"
    }
   ],
   "source": [
    "w3.geth.personal.unlockAccount(w3.eth.accounts[0],\"notforproductiveuse\",0)"
   ]
  },
  {
   "cell_type": "code",
   "execution_count": 60,
   "metadata": {},
   "outputs": [],
   "source": [
    "send_accounts_money(users_list,SEED_VALUE)"
   ]
  },
  {
   "cell_type": "code",
   "execution_count": 61,
   "metadata": {},
   "outputs": [
    {
     "data": {
      "text/plain": [
       "Decimal('16')"
      ]
     },
     "execution_count": 61,
     "metadata": {},
     "output_type": "execute_result"
    }
   ],
   "source": [
    "!sleep 16\n",
    "getBalance(users_list[0][\"account\"])"
   ]
  },
  {
   "cell_type": "code",
   "execution_count": 62,
   "metadata": {},
   "outputs": [
    {
     "data": {
      "text/plain": [
       "Decimal('16')"
      ]
     },
     "execution_count": 62,
     "metadata": {},
     "output_type": "execute_result"
    }
   ],
   "source": [
    "getBalance(users_list[-1][\"account\"])"
   ]
  },
  {
   "cell_type": "code",
   "execution_count": 63,
   "metadata": {},
   "outputs": [],
   "source": [
    "def check_accounts_money(users,predicate=(lambda a, b: a == b)):\n",
    "    for u in users:\n",
    "        u_balance = w3.eth.getBalance(w3.toChecksumAddress(u[\"account\"]))\n",
    "        u[\"balance\"] = u_balance\n",
    "        u_seedbalance = u[\"seedbalance\"]\n",
    "        if predicate(u_balance,u_seedbalance) == False:\n",
    "            print(\"Predicate violation for:\\n\",u)\n",
    "            assert False,\"Predicate violation\""
   ]
  },
  {
   "cell_type": "code",
   "execution_count": 64,
   "metadata": {},
   "outputs": [],
   "source": [
    "check_accounts_money(users_list)"
   ]
  },
  {
   "cell_type": "code",
   "execution_count": 65,
   "metadata": {},
   "outputs": [
    {
     "data": {
      "text/plain": [
       "{'firstname': 'Aljosha',\n",
       " 'lastname': 'Judmayer',\n",
       " 'email': 'ajudmayer@sba-research.org',\n",
       " 'ppid': '1',\n",
       " 'account': '032fcb0a1c233da1546d2242ce0b4c4a51118ec3',\n",
       " 'filename': 'UTC--2021-06-29T11-42-22.127396867Z--032fcb0a1c233da1546d2242ce0b4c4a51118ec3',\n",
       " 'attach': '/tmp/attach/032fcb0a1c233da1546d2242ce0b4c4a51118ec3.tar.gz',\n",
       " 'seedbalance': 16000000000000000000,\n",
       " 'balance': 16000000000000000000}"
      ]
     },
     "execution_count": 65,
     "metadata": {},
     "output_type": "execute_result"
    }
   ],
   "source": [
    "check_accounts_money(users_list,predicate=(lambda a, b: a >= b))\n",
    "users_list[0]"
   ]
  },
  {
   "cell_type": "markdown",
   "metadata": {},
   "source": [
    "### Test manual account handling"
   ]
  },
  {
   "cell_type": "raw",
   "metadata": {},
   "source": [
    "for a in w3.eth.accounts:\n",
    "    print(a,\": \",getBalance(a))"
   ]
  },
  {
   "cell_type": "raw",
   "metadata": {},
   "source": [
    "w3.eth.sendTransaction({'from':w3.eth.accounts[0], \n",
    "                        'to':\"0x782FEdd38Bd647fcb825cEDb39Af0b2ee27cA49E\", \n",
    "                        'value':10**18})"
   ]
  },
  {
   "cell_type": "markdown",
   "metadata": {},
   "source": [
    "### Deployment functions"
   ]
  },
  {
   "cell_type": "code",
   "execution_count": 66,
   "metadata": {},
   "outputs": [
    {
     "data": {
      "text/plain": [
       "<module 'util' from '/smartenv/setup/challenges/util/__init__.py'>"
      ]
     },
     "execution_count": 66,
     "metadata": {},
     "output_type": "execute_result"
    }
   ],
   "source": [
    "sys.path.append( SMARTENV_PATH + \"/util\")\n",
    "import util\n",
    "from importlib import reload\n",
    "reload(util)"
   ]
  },
  {
   "cell_type": "code",
   "execution_count": 67,
   "metadata": {},
   "outputs": [],
   "source": [
    "def forall_compile_and_deploy(users,\n",
    "                              path,\n",
    "                              contract_name,\n",
    "                              value,\n",
    "                              force_argument=None,\n",
    "                              argument2=None,\n",
    "                              compiler=\"solc\"):\n",
    "    print(\"Started for {} users:\".format(len(users)))\n",
    "    for u in users:\n",
    "        if force_argument is not None:\n",
    "            print(\"*\",end=\"\")\n",
    "            #print(\"Force argument: {}\".format(force_argument))\n",
    "            u_addr = force_argument\n",
    "        else:\n",
    "            u_addr = w3.toChecksumAddress(u[\"account\"])\n",
    "            \n",
    "        if argument2 is not None and argument2 is True:\n",
    "            print(\"~\",end=\"\")\n",
    "            #print(\"Double sha3 argument2: {}\".format(argument2))\n",
    "            tx_hash = util.compile_and_deploy_contract(path,\n",
    "                                                   patch_api=False,\n",
    "                                                   concise=True,\n",
    "                                                   argument=u_addr,\n",
    "                                                   argument2=w3.toInt(hexstr=w3.sha3(text=w3.sha3(text=u_addr).hex()).hex()),\n",
    "                                                   wait=False,\n",
    "                                                   value=value,\n",
    "                                                   compiler=compiler)\n",
    "        elif argument2 is not None and isinstance(argument2,type(str())):\n",
    "            print(\"+\",end=\"\")\n",
    "            #print(\"Custom argument2: {}\".format(argument2))\n",
    "            tx_hash = util.compile_and_deploy_contract(path,\n",
    "                                                   patch_api=False,\n",
    "                                                   concise=True,\n",
    "                                                   argument=u_addr,\n",
    "                                                   argument2=argument2,\n",
    "                                                   wait=False,\n",
    "                                                   value=value,\n",
    "                                                   compiler=compiler)\n",
    "        else:\n",
    "            print(\".\",end=\"\")\n",
    "            tx_hash = util.compile_and_deploy_contract(path,\n",
    "                                                   patch_api=False,\n",
    "                                                   concise=True,\n",
    "                                                   argument=u_addr,\n",
    "                                                   wait=False,\n",
    "                                                   value=value,\n",
    "                                                   compiler=compiler)\n",
    "        # returns HexBytes\n",
    "        # import hexbytes\n",
    "        # help(hexbytes.main)\n",
    "        u[contract_name + \"_tx\"] = tx_hash.hex()\n",
    "        u[contract_name + \"_seedvalue\"] = value\n",
    "        \n",
    "    for u in users:\n",
    "        tx_receipt = w3.eth.waitForTransactionReceipt(u[contract_name + \"_tx\"])\n",
    "        u[contract_name + \"_addr\"] = tx_receipt['contractAddress']\n",
    "        print(\"-\",end=\"\")\n",
    "        \n",
    "    return users"
   ]
  },
  {
   "cell_type": "code",
   "execution_count": 68,
   "metadata": {},
   "outputs": [],
   "source": [
    "def forall_check_contract(users,\n",
    "                          c_path,\n",
    "                          c_name,\n",
    "                          predicate=(lambda a, b: a == b),\n",
    "                          compiler=\"solc\"):\n",
    "    # Check for all users if the contract is initialized to the respective user\n",
    "    # and that the balance is the seed value\n",
    "    print(\"Started for {} users:\".format(len(users)))\n",
    "    for u in users:\n",
    "        c_abi = util.compile_contract_with_libs(compiler_path=compiler,src_path=c_path)[\"abi\"]\n",
    "        u_c_addr = u[c_name + \"_addr\"]\n",
    "        u_c_instance = util.get_contract_instance(u_c_addr,c_abi,concise=False)\n",
    "    \n",
    "        # check owner\n",
    "        #print(u_c_instance.functions.getStudent().call())\n",
    "        #print(w3.toChecksumAddress(u[\"account\"]))\n",
    "        assert u_c_instance.functions.getStudent().call() == w3.toChecksumAddress(u[\"account\"])   \n",
    "        # check balance\n",
    "        u_c_seedvalue = u[c_name + \"_seedvalue\"]\n",
    "        u_c_balance = w3.eth.getBalance(u_c_addr)   \n",
    "        u[c_name + \"_balance\"] = u_c_balance\n",
    "        if predicate(u_c_balance,u_c_seedvalue) == False:\n",
    "            print(\"Predicate violation for:\\n\",u)\n",
    "        print(\".\",end=\"\")\n",
    "    return users"
   ]
  },
  {
   "cell_type": "code",
   "execution_count": 69,
   "metadata": {},
   "outputs": [],
   "source": [
    "def copy_challenge_metadata(users,challenge_path,challenge_name,attach_path=\"./attach\"):\n",
    "    # copy challenge metadata to individual user folders helper function\n",
    "    for d in os.listdir(attach_path):\n",
    "        #print(d)\n",
    "        if os.path.isdir(os.path.join(attach_path, d)):\n",
    "            #print(d)\n",
    "            arg_dest_dir = attach_path + \"/\" + d + \"/\" + challenge_name\n",
    "            print(arg_dest_dir)\n",
    "            !mkdir -p $arg_dest_dir\n",
    "            !cp -r $challenge_path $arg_dest_dir"
   ]
  },
  {
   "cell_type": "markdown",
   "metadata": {},
   "source": [
    "# Challange: notawallet "
   ]
  },
  {
   "cell_type": "code",
   "execution_count": 70,
   "metadata": {},
   "outputs": [
    {
     "data": {
      "text/plain": [
       "'/smartenv/challenges/notawallet/'"
      ]
     },
     "execution_count": 70,
     "metadata": {},
     "output_type": "execute_result"
    }
   ],
   "source": [
    "CHL_NOTAWALLET_PATH"
   ]
  },
  {
   "cell_type": "code",
   "execution_count": 71,
   "metadata": {},
   "outputs": [
    {
     "data": {
      "text/plain": [
       "{'firstname': 'Aljosha',\n",
       " 'lastname': 'Judmayer',\n",
       " 'email': 'ajudmayer@sba-research.org',\n",
       " 'ppid': '1',\n",
       " 'account': '032fcb0a1c233da1546d2242ce0b4c4a51118ec3',\n",
       " 'filename': 'UTC--2021-06-29T11-42-22.127396867Z--032fcb0a1c233da1546d2242ce0b4c4a51118ec3',\n",
       " 'attach': '/tmp/attach/032fcb0a1c233da1546d2242ce0b4c4a51118ec3.tar.gz',\n",
       " 'seedbalance': 16000000000000000000,\n",
       " 'balance': 16000000000000000000}"
      ]
     },
     "execution_count": 71,
     "metadata": {},
     "output_type": "execute_result"
    }
   ],
   "source": [
    "users_list[0]"
   ]
  },
  {
   "cell_type": "code",
   "execution_count": 72,
   "metadata": {},
   "outputs": [
    {
     "data": {
      "text/plain": [
       "{'firstname': 'Nicholas',\n",
       " 'lastname': 'Stifter',\n",
       " 'email': 'nstifter@sba-research.org',\n",
       " 'ppid': '2',\n",
       " 'account': '1375859c41590c8ad41f1ff086e3d4bb8f5ea1d9',\n",
       " 'filename': 'UTC--2021-06-29T11-41-08.853492719Z--1375859c41590c8ad41f1ff086e3d4bb8f5ea1d9',\n",
       " 'attach': '/tmp/attach/1375859c41590c8ad41f1ff086e3d4bb8f5ea1d9.tar.gz',\n",
       " 'seedbalance': 16000000000000000000,\n",
       " 'balance': 16000000000000000000}"
      ]
     },
     "execution_count": 72,
     "metadata": {},
     "output_type": "execute_result"
    }
   ],
   "source": [
    "# users_list[-1]\n",
    "users_list[1]"
   ]
  },
  {
   "cell_type": "code",
   "execution_count": 73,
   "metadata": {},
   "outputs": [
    {
     "name": "stdout",
     "output_type": "stream",
     "text": [
      "solc, the solidity compiler commandline interface\r\n",
      "Version: 0.8.4+commit.c7e474f2.Linux.g++\r\n"
     ]
    }
   ],
   "source": [
    "!solc --version"
   ]
  },
  {
   "cell_type": "code",
   "execution_count": 74,
   "metadata": {},
   "outputs": [
    {
     "name": "stdout",
     "output_type": "stream",
     "text": [
      "Compiler run successful. Artifact(s) can be found in directory /smartenv/challenges/notawallet//publish/.\r\n"
     ]
    }
   ],
   "source": [
    "!solc --overwrite -o \"{CHL_NOTAWALLET_PATH}/publish/\" --abi --bin \"{CHL_NOTAWALLET_PATH}/publish/NotAWallet.sol\""
   ]
  },
  {
   "cell_type": "code",
   "execution_count": 75,
   "metadata": {},
   "outputs": [],
   "source": [
    "## Connections refresh maybe needed\n",
    "w3=util.connect(host=SRVIP,port=SRVPORT,poa=True) \n",
    "assert w3.isConnected()"
   ]
  },
  {
   "cell_type": "code",
   "execution_count": 76,
   "metadata": {},
   "outputs": [
    {
     "name": "stdout",
     "output_type": "stream",
     "text": [
      "Started for 33 users:\n",
      ".................................---------------------------------"
     ]
    },
    {
     "data": {
      "text/plain": [
       "{'firstname': 'Aljosha',\n",
       " 'lastname': 'Judmayer',\n",
       " 'email': 'ajudmayer@sba-research.org',\n",
       " 'ppid': '1',\n",
       " 'account': '032fcb0a1c233da1546d2242ce0b4c4a51118ec3',\n",
       " 'filename': 'UTC--2021-06-29T11-42-22.127396867Z--032fcb0a1c233da1546d2242ce0b4c4a51118ec3',\n",
       " 'attach': '/tmp/attach/032fcb0a1c233da1546d2242ce0b4c4a51118ec3.tar.gz',\n",
       " 'seedbalance': 16000000000000000000,\n",
       " 'balance': 16000000000000000000,\n",
       " 'notawallet_tx': '0xea802a3e099044e80ede7b354b423f2b75cdcd840a3f78234ff13ec6509ca453',\n",
       " 'notawallet_seedvalue': 10000000000000000000,\n",
       " 'notawallet_addr': '0x5341d88F2CC84e9Ca4F420Fd70627C7669570375'}"
      ]
     },
     "execution_count": 76,
     "metadata": {},
     "output_type": "execute_result"
    }
   ],
   "source": [
    "path= CHL_NOTAWALLET_PATH + \"/publish/NotAWallet.sol\"\n",
    "challange_name=\"notawallet\"\n",
    "seedvalue=10*10**18\n",
    "\n",
    "forall_compile_and_deploy(users_list,path,challange_name,seedvalue)\n",
    "users_list[0]"
   ]
  },
  {
   "cell_type": "code",
   "execution_count": 77,
   "metadata": {},
   "outputs": [
    {
     "name": "stdout",
     "output_type": "stream",
     "text": [
      "solc, the solidity compiler commandline interface\r\n",
      "Version: 0.8.4+commit.c7e474f2.Linux.g++\r\n"
     ]
    }
   ],
   "source": [
    "!solc --version"
   ]
  },
  {
   "cell_type": "code",
   "execution_count": 78,
   "metadata": {
    "scrolled": true
   },
   "outputs": [
    {
     "data": {
      "text/plain": [
       "[{'inputs': [{'internalType': 'address',\n",
       "    'name': '_student',\n",
       "    'type': 'address'}],\n",
       "  'stateMutability': 'payable',\n",
       "  'type': 'constructor'},\n",
       " {'inputs': [{'internalType': 'address',\n",
       "    'name': 'newowner',\n",
       "    'type': 'address'}],\n",
       "  'name': 'addOwner',\n",
       "  'outputs': [],\n",
       "  'stateMutability': 'nonpayable',\n",
       "  'type': 'function'},\n",
       " {'inputs': [],\n",
       "  'name': 'deposit',\n",
       "  'outputs': [],\n",
       "  'stateMutability': 'payable',\n",
       "  'type': 'function'},\n",
       " {'inputs': [],\n",
       "  'name': 'getStudent',\n",
       "  'outputs': [{'internalType': 'address', 'name': '', 'type': 'address'}],\n",
       "  'stateMutability': 'view',\n",
       "  'type': 'function'},\n",
       " {'inputs': [{'internalType': 'address',\n",
       "    'name': 'testowner',\n",
       "    'type': 'address'}],\n",
       "  'name': 'isOwner',\n",
       "  'outputs': [{'internalType': 'bool', 'name': '', 'type': 'bool'}],\n",
       "  'stateMutability': 'view',\n",
       "  'type': 'function'},\n",
       " {'inputs': [],\n",
       "  'name': 'owner',\n",
       "  'outputs': [{'internalType': 'address', 'name': '', 'type': 'address'}],\n",
       "  'stateMutability': 'view',\n",
       "  'type': 'function'},\n",
       " {'inputs': [{'internalType': 'address',\n",
       "    'name': 'oldowner',\n",
       "    'type': 'address'}],\n",
       "  'name': 'removeOwner',\n",
       "  'outputs': [],\n",
       "  'stateMutability': 'nonpayable',\n",
       "  'type': 'function'},\n",
       " {'inputs': [],\n",
       "  'name': 'student',\n",
       "  'outputs': [{'internalType': 'address', 'name': '', 'type': 'address'}],\n",
       "  'stateMutability': 'view',\n",
       "  'type': 'function'},\n",
       " {'inputs': [{'internalType': 'uint256', 'name': 'amount', 'type': 'uint256'}],\n",
       "  'name': 'withdraw',\n",
       "  'outputs': [],\n",
       "  'stateMutability': 'nonpayable',\n",
       "  'type': 'function'}]"
      ]
     },
     "execution_count": 78,
     "metadata": {},
     "output_type": "execute_result"
    }
   ],
   "source": [
    "c_abi = util.compile_contract_with_libs(compiler_path=\"solc\",src_path=CHL_NOTAWALLET_PATH + \"/publish/NotAWallet.sol\")[\"abi\"]\n",
    "c_abi"
   ]
  },
  {
   "cell_type": "code",
   "execution_count": 79,
   "metadata": {},
   "outputs": [
    {
     "data": {
      "text/plain": [
       "'0x032FcB0a1c233Da1546d2242Ce0b4C4A51118Ec3'"
      ]
     },
     "execution_count": 79,
     "metadata": {},
     "output_type": "execute_result"
    }
   ],
   "source": [
    "w3.toChecksumAddress(users_list[0][\"account\"])"
   ]
  },
  {
   "cell_type": "code",
   "execution_count": 80,
   "metadata": {},
   "outputs": [
    {
     "data": {
      "text/plain": [
       "'0x5341d88F2CC84e9Ca4F420Fd70627C7669570375'"
      ]
     },
     "execution_count": 80,
     "metadata": {},
     "output_type": "execute_result"
    }
   ],
   "source": [
    "notawallet_addr = users_list[0][\"notawallet_addr\"]\n",
    "notawallet_addr"
   ]
  },
  {
   "cell_type": "code",
   "execution_count": 81,
   "metadata": {},
   "outputs": [],
   "source": [
    "u_c_instance = util.get_contract_instance(notawallet_addr,c_abi,concise=False)"
   ]
  },
  {
   "cell_type": "code",
   "execution_count": 82,
   "metadata": {},
   "outputs": [
    {
     "data": {
      "text/plain": [
       "'0x032FcB0a1c233Da1546d2242Ce0b4C4A51118Ec3'"
      ]
     },
     "execution_count": 82,
     "metadata": {},
     "output_type": "execute_result"
    }
   ],
   "source": [
    "assert u_c_instance.functions.getStudent().call() == w3.toChecksumAddress(users_list[0][\"account\"])\n",
    "u_c_instance.functions.getStudent().call()"
   ]
  },
  {
   "cell_type": "code",
   "execution_count": 83,
   "metadata": {},
   "outputs": [
    {
     "name": "stdout",
     "output_type": "stream",
     "text": [
      "Started for 33 users:\n",
      "................................."
     ]
    },
    {
     "data": {
      "text/plain": [
       "{'firstname': 'Aljosha',\n",
       " 'lastname': 'Judmayer',\n",
       " 'email': 'ajudmayer@sba-research.org',\n",
       " 'ppid': '1',\n",
       " 'account': '032fcb0a1c233da1546d2242ce0b4c4a51118ec3',\n",
       " 'filename': 'UTC--2021-06-29T11-42-22.127396867Z--032fcb0a1c233da1546d2242ce0b4c4a51118ec3',\n",
       " 'attach': '/tmp/attach/032fcb0a1c233da1546d2242ce0b4c4a51118ec3.tar.gz',\n",
       " 'seedbalance': 16000000000000000000,\n",
       " 'balance': 16000000000000000000,\n",
       " 'notawallet_tx': '0xea802a3e099044e80ede7b354b423f2b75cdcd840a3f78234ff13ec6509ca453',\n",
       " 'notawallet_seedvalue': 10000000000000000000,\n",
       " 'notawallet_addr': '0x5341d88F2CC84e9Ca4F420Fd70627C7669570375',\n",
       " 'notawallet_balance': 10000000000000000000}"
      ]
     },
     "execution_count": 83,
     "metadata": {},
     "output_type": "execute_result"
    }
   ],
   "source": [
    "path=CHL_NOTAWALLET_PATH + \"/publish/NotAWallet.sol\"\n",
    "challange_name=\"notawallet\"\n",
    "forall_check_contract(users_list,path,challange_name)\n",
    "#forall_check_contract(users_list,path,challange_name,predicate=(lambda a, b: a < b))\n",
    "#forall_check_contract(users_list,path,challange_name,predicate=(lambda a, b: a == 10**18))\n",
    "users_list[0]"
   ]
  },
  {
   "cell_type": "code",
   "execution_count": 84,
   "metadata": {},
   "outputs": [
    {
     "name": "stdout",
     "output_type": "stream",
     "text": [
      "/smartenv/setup/generated_config//attach/dfa41679d35235afc79907088d76977fecc37474/notawallet\n",
      "/smartenv/setup/generated_config//attach/56ba19f6813ff3939873eb529d4e12e0991e3a00/notawallet\n",
      "/smartenv/setup/generated_config//attach/93d88d905cdc33ffb5766c30e87d87be43ba1b0f/notawallet\n",
      "/smartenv/setup/generated_config//attach/f5ff9539dd171d351ee65d713a63989181b63df9/notawallet\n",
      "/smartenv/setup/generated_config//attach/bb872acc4ee3d07836e6cdafb15c8fc2f9dcaf63/notawallet\n",
      "/smartenv/setup/generated_config//attach/478c6cf7c49203e4c69fee138372f8731dee36e1/notawallet\n",
      "/smartenv/setup/generated_config//attach/d4a1e16aae7a5f75e212cc3805b644074666c235/notawallet\n",
      "/smartenv/setup/generated_config//attach/d305c767e93b6c714e8787bc0805cb10a5f1eb94/notawallet\n",
      "/smartenv/setup/generated_config//attach/f7c4f0fa72f6376cde89984109bd6d75e73e8f24/notawallet\n",
      "/smartenv/setup/generated_config//attach/beb57567e5a962451e8433618f787eca7e695cf5/notawallet\n",
      "/smartenv/setup/generated_config//attach/836afc53b26c45aa67850b9729dbad5d1f53f1b1/notawallet\n",
      "/smartenv/setup/generated_config//attach/fe3ebfca70a4b1ced2f560950d6a447a5985e794/notawallet\n",
      "/smartenv/setup/generated_config//attach/1375859c41590c8ad41f1ff086e3d4bb8f5ea1d9/notawallet\n",
      "/smartenv/setup/generated_config//attach/444784d647553ca39ba6ccc64d7fe2a8119d6ec1/notawallet\n",
      "/smartenv/setup/generated_config//attach/3023be53e136512c85150a52e75d7f313a3fdfd7/notawallet\n",
      "/smartenv/setup/generated_config//attach/3a31c13bb0fcee354ab96fb18fcd93d248589a23/notawallet\n",
      "/smartenv/setup/generated_config//attach/032fcb0a1c233da1546d2242ce0b4c4a51118ec3/notawallet\n",
      "/smartenv/setup/generated_config//attach/ff50cb1bf595f27179437789c1c5086171f34b2e/notawallet\n",
      "/smartenv/setup/generated_config//attach/d4950bc19a01750b370e53ace9333e488553217c/notawallet\n",
      "/smartenv/setup/generated_config//attach/ef4fc1fe1755ab8426c1b1eed7a4fe0fa396bdf6/notawallet\n",
      "/smartenv/setup/generated_config//attach/1751ef109cc7bbde6095dd361478538a5e26e28a/notawallet\n",
      "/smartenv/setup/generated_config//attach/4c2cc122018b1b1ffb0d7bd91bbd01c6dbf3f81d/notawallet\n",
      "/smartenv/setup/generated_config//attach/c8d372d4420a66cb8a307a8e134d245fb2c41d30/notawallet\n",
      "/smartenv/setup/generated_config//attach/252ffecc8103bddf0e992a8e36a0f000af228323/notawallet\n",
      "/smartenv/setup/generated_config//attach/1dd90a6a874580a12dbe52747a916b9a0bf070b2/notawallet\n",
      "/smartenv/setup/generated_config//attach/7286330b9c1ad628a4fd56c9f9618a166ea61d0c/notawallet\n",
      "/smartenv/setup/generated_config//attach/ec5c28289c8322b6e93e22c3061567f99f7a4a09/notawallet\n",
      "/smartenv/setup/generated_config//attach/4d2d745e0adf2ca7883984940f2fd4a62d08df0b/notawallet\n",
      "/smartenv/setup/generated_config//attach/df77d28fb8f779019c41e76b075773250b2b00f8/notawallet\n",
      "/smartenv/setup/generated_config//attach/c073653758d88bac89358f4769f5ab931f6430bf/notawallet\n",
      "/smartenv/setup/generated_config//attach/8caaa8961eb9f7aef0b378dc5182d26ce5eaed2f/notawallet\n",
      "/smartenv/setup/generated_config//attach/420d2b47ba8464323550beb6dbf1b4eded28b144/notawallet\n",
      "/smartenv/setup/generated_config//attach/17d5e77c01412b28f5d7a73085a7c2bd3c0aa911/notawallet\n"
     ]
    }
   ],
   "source": [
    "# copy challenge metadata\n",
    "challenge_path= CHL_NOTAWALLET_PATH + \"/publish/*\"\n",
    "attach_path=GEN_CONFIG_PATH + \"/attach\"\n",
    "challenge_name=\"notawallet\"\n",
    "copy_challenge_metadata(users_list,challenge_path,challenge_name,attach_path)"
   ]
  },
  {
   "cell_type": "markdown",
   "metadata": {},
   "source": [
    "# Challenge: badparity"
   ]
  },
  {
   "cell_type": "code",
   "execution_count": 85,
   "metadata": {},
   "outputs": [
    {
     "data": {
      "text/plain": [
       "{'firstname': 'Aljosha',\n",
       " 'lastname': 'Judmayer',\n",
       " 'email': 'ajudmayer@sba-research.org',\n",
       " 'ppid': '1',\n",
       " 'account': '032fcb0a1c233da1546d2242ce0b4c4a51118ec3',\n",
       " 'filename': 'UTC--2021-06-29T11-42-22.127396867Z--032fcb0a1c233da1546d2242ce0b4c4a51118ec3',\n",
       " 'attach': '/tmp/attach/032fcb0a1c233da1546d2242ce0b4c4a51118ec3.tar.gz',\n",
       " 'seedbalance': 16000000000000000000,\n",
       " 'balance': 16000000000000000000,\n",
       " 'notawallet_tx': '0xea802a3e099044e80ede7b354b423f2b75cdcd840a3f78234ff13ec6509ca453',\n",
       " 'notawallet_seedvalue': 10000000000000000000,\n",
       " 'notawallet_addr': '0x5341d88F2CC84e9Ca4F420Fd70627C7669570375',\n",
       " 'notawallet_balance': 10000000000000000000}"
      ]
     },
     "execution_count": 85,
     "metadata": {},
     "output_type": "execute_result"
    }
   ],
   "source": [
    "users_list[0]"
   ]
  },
  {
   "cell_type": "code",
   "execution_count": 86,
   "metadata": {},
   "outputs": [
    {
     "name": "stdout",
     "output_type": "stream",
     "text": [
      "// SPDX-License-Identifier: MIT\r\n",
      "pragma solidity ^0.8.4;\r\n",
      "\r\n",
      "contract Wallet {\r\n",
      "    address walletLibrary;\r\n",
      "    address payable owner;\r\n",
      "    address payable student;\r\n",
      "\r\n",
      "    event LogValue(uint256 exitcode,uint256 amount);\r\n",
      "\r\n",
      "    // constructor, called once when this contract is created \r\n",
      "    constructor(address payable _student, address lib) payable {\r\n",
      "        student = _student;  \r\n",
      "        walletLibrary = lib; // hardcode lib address at deploy time\r\n",
      "        // init the owner with the respective lib contract\r\n",
      "        walletLibrary.delegatecall(abi.encodeWithSignature(\"initWallet(address)\", msg.sender));\r\n",
      "    }\r\n",
      "\r\n",
      "    function getOwner() public view returns (address payable) {\r\n",
      "        return owner;\r\n",
      "    } \r\n",
      "\r\n",
      "    function getWalletLibrary() public view returns (address) {\r\n",
      "        return walletLibrary;\r\n",
      "    }\r\n",
      "\r\n",
      "    function withdraw(uint256 amount) public returns (bool) {\r\n",
      "        (bool success, bytes memory data) = walletLibrary.delegatecall(abi.encodeWithSignature(\"withdraw(uint256)\", amount));\r\n",
      "        if ( success ) {\r\n",
      "            emit LogValue(200,amount);\r\n",
      "        } else {\r\n",
      "            emit LogValue(401,amount);\r\n",
      "        }\r\n",
      "        return success;\r\n",
      "    }\r\n",
      "\r\n",
      "    function changeOwner(address payable new_owner) public returns (bool) {\r\n",
      "        (bool success, bytes memory data) = walletLibrary.delegatecall(abi.encodeWithSignature(\"changeOwner(address)\", new_owner));\r\n",
      "        return success;\r\n",
      "    }\r\n",
      "\r\n",
      "    function getStudent() public view returns (address) {\r\n",
      "        return student;\r\n",
      "    }\r\n",
      "\r\n",
      "    // fallback function gets called if no other function matches call\r\n",
      "    fallback() external payable {\r\n",
      "        emit LogValue(301,msg.value);\r\n",
      "        require( tx.origin == student ); \r\n",
      "        walletLibrary.delegatecall(msg.data);\r\n",
      "    }\r\n",
      "}\r\n"
     ]
    }
   ],
   "source": [
    "!cat \"{CHALLENGES_PATH}/badparity/publish/Wallet.sol\""
   ]
  },
  {
   "cell_type": "code",
   "execution_count": 87,
   "metadata": {},
   "outputs": [
    {
     "name": "stdout",
     "output_type": "stream",
     "text": [
      "\u001b[1m\u001b[31mWarning\u001b[0m\u001b[1m\u001b[37m: This contract has a payable fallback function, but no receive ether function. Consider adding a receive ether function.\r\n",
      "\u001b[0m \u001b[1m\u001b[34m-->\u001b[0m /smartenv/challenges//badparity/publish/Wallet.sol:4:1:\r\n",
      "  \u001b[1m\u001b[34m|\u001b[0m\r\n",
      "\u001b[1m\u001b[34m4 |\u001b[0m \u001b[33mcontract Wallet {\r\n",
      "\u001b[0m  \u001b[1m\u001b[34m|\u001b[0m \u001b[1m\u001b[33m^ (Relevant source part starts here and spans across multiple lines).\u001b[0m\r\n",
      "\u001b[1m\u001b[36mNote\u001b[0m\u001b[1m\u001b[37m: The payable fallback function is defined here.\r\n",
      "\u001b[0m  \u001b[1m\u001b[34m-->\u001b[0m /smartenv/challenges//badparity/publish/Wallet.sol:47:5:\r\n",
      "   \u001b[1m\u001b[34m|\u001b[0m\r\n",
      "\u001b[1m\u001b[34m47 |\u001b[0m     \u001b[33mfallback() external payable {\r\n",
      "\u001b[0m   \u001b[1m\u001b[34m|\u001b[0m     \u001b[1m\u001b[33m^ (Relevant source part starts here and spans across multiple lines).\u001b[0m\r\n",
      "\r\n",
      "\u001b[1m\u001b[31mWarning\u001b[0m\u001b[1m\u001b[37m: Return value of low-level calls not used.\r\n",
      "\u001b[0m  \u001b[1m\u001b[34m-->\u001b[0m /smartenv/challenges//badparity/publish/Wallet.sol:16:9:\r\n",
      "   \u001b[1m\u001b[34m|\u001b[0m\r\n",
      "\u001b[1m\u001b[34m16 |\u001b[0m         \u001b[33mwalletLibrary.delegatecall(abi.encodeWithSignature(\"initWallet(address)\", msg.sender))\u001b[0m;\r\n",
      "   \u001b[1m\u001b[34m|\u001b[0m         \u001b[1m\u001b[33m^^^^^^^^^^^^^^^^^^^^^^^^^^^^^^^^^^^^^^^^^^^^^^^^^^^^^^^^^^^^^^^^^^^^^^^^^^^^^^^^^^^^^^\u001b[0m\r\n",
      "\r\n",
      "\u001b[1m\u001b[31mWarning\u001b[0m\u001b[1m\u001b[37m: Return value of low-level calls not used.\r\n",
      "\u001b[0m  \u001b[1m\u001b[34m-->\u001b[0m /smartenv/challenges//badparity/publish/Wallet.sol:50:9:\r\n",
      "   \u001b[1m\u001b[34m|\u001b[0m\r\n",
      "\u001b[1m\u001b[34m50 |\u001b[0m         \u001b[33mwalletLibrary.delegatecall(msg.data)\u001b[0m;\r\n",
      "   \u001b[1m\u001b[34m|\u001b[0m         \u001b[1m\u001b[33m^^^^^^^^^^^^^^^^^^^^^^^^^^^^^^^^^^^^\u001b[0m\r\n",
      "\r\n",
      "\u001b[1m\u001b[31mWarning\u001b[0m\u001b[1m\u001b[37m: Unused local variable.\r\n",
      "\u001b[0m  \u001b[1m\u001b[34m-->\u001b[0m /smartenv/challenges//badparity/publish/Wallet.sol:28:24:\r\n",
      "   \u001b[1m\u001b[34m|\u001b[0m\r\n",
      "\u001b[1m\u001b[34m28 |\u001b[0m         (bool success, \u001b[33mbytes memory data\u001b[0m) = walletLibrary.delegatecall(abi.encodeWithSignature(\"withdraw(uint256)\", amount));\r\n",
      "   \u001b[1m\u001b[34m|\u001b[0m                        \u001b[1m\u001b[33m^^^^^^^^^^^^^^^^^\u001b[0m\r\n",
      "\r\n",
      "\u001b[1m\u001b[31mWarning\u001b[0m\u001b[1m\u001b[37m: Unused local variable.\r\n",
      "\u001b[0m  \u001b[1m\u001b[34m-->\u001b[0m /smartenv/challenges//badparity/publish/Wallet.sol:38:24:\r\n",
      "   \u001b[1m\u001b[34m|\u001b[0m\r\n",
      "\u001b[1m\u001b[34m38 |\u001b[0m         (bool success, \u001b[33mbytes memory data\u001b[0m) = walletLibrary.delegatecall(abi.encodeWithSignature(\"changeOwner(address)\", new_owner));\r\n",
      "   \u001b[1m\u001b[34m|\u001b[0m                        \u001b[1m\u001b[33m^^^^^^^^^^^^^^^^^\u001b[0m\r\n",
      "\r\n"
     ]
    }
   ],
   "source": [
    "!solc --overwrite -o \"{CHALLENGES_PATH}/badparity/publish/\" --abi --bin \"{CHALLENGES_PATH}/badparity/publish/Wallet.sol\""
   ]
  },
  {
   "cell_type": "code",
   "execution_count": 88,
   "metadata": {},
   "outputs": [
    {
     "name": "stdout",
     "output_type": "stream",
     "text": [
      "\u001b[1m\u001b[31mWarning\u001b[0m\u001b[1m\u001b[37m: This contract has a payable fallback function, but no receive ether function. Consider adding a receive ether function.\r\n",
      "\u001b[0m \u001b[1m\u001b[34m-->\u001b[0m /smartenv/challenges//badparity/publish/WalletLibrary.sol:4:1:\r\n",
      "  \u001b[1m\u001b[34m|\u001b[0m\r\n",
      "\u001b[1m\u001b[34m4 |\u001b[0m \u001b[33mcontract WalletLibrary {\r\n",
      "\u001b[0m  \u001b[1m\u001b[34m|\u001b[0m \u001b[1m\u001b[33m^ (Relevant source part starts here and spans across multiple lines).\u001b[0m\r\n",
      "\u001b[1m\u001b[36mNote\u001b[0m\u001b[1m\u001b[37m: The payable fallback function is defined here.\r\n",
      "\u001b[0m  \u001b[1m\u001b[34m-->\u001b[0m /smartenv/challenges//badparity/publish/WalletLibrary.sol:36:6:\r\n",
      "   \u001b[1m\u001b[34m|\u001b[0m\r\n",
      "\u001b[1m\u001b[34m36 |\u001b[0m      \u001b[33mfallback() external payable {\r\n",
      "\u001b[0m   \u001b[1m\u001b[34m|\u001b[0m      \u001b[1m\u001b[33m^ (Relevant source part starts here and spans across multiple lines).\u001b[0m\r\n",
      "\r\n"
     ]
    }
   ],
   "source": [
    "!solc --overwrite -o \"{CHALLENGES_PATH}/badparity/publish/\" --abi --bin \"{CHALLENGES_PATH}/badparity/publish/WalletLibrary.sol\""
   ]
  },
  {
   "cell_type": "code",
   "execution_count": 89,
   "metadata": {},
   "outputs": [
    {
     "data": {
      "text/plain": [
       "'0xfC97cd6Ac9edD2E5Db2B02Fa633456D79E2516A0'"
      ]
     },
     "execution_count": 89,
     "metadata": {},
     "output_type": "execute_result"
    }
   ],
   "source": [
    "# compile and deploy lib once for all users\n",
    "path=CHALLENGES_PATH + \"/badparity/publish/WalletLibrary.sol\"\n",
    "\n",
    "lib = util.compile_and_deploy_contract(path,\n",
    "                                 patch_api=False,\n",
    "                                 concise=False)\n",
    "lib.address"
   ]
  },
  {
   "cell_type": "code",
   "execution_count": 90,
   "metadata": {},
   "outputs": [
    {
     "name": "stdout",
     "output_type": "stream",
     "text": [
      "Started for 33 users:\n",
      "+++++++++++++++++++++++++++++++++---------------------------------"
     ]
    },
    {
     "data": {
      "text/plain": [
       "{'firstname': 'Aljosha',\n",
       " 'lastname': 'Judmayer',\n",
       " 'email': 'ajudmayer@sba-research.org',\n",
       " 'ppid': '1',\n",
       " 'account': '032fcb0a1c233da1546d2242ce0b4c4a51118ec3',\n",
       " 'filename': 'UTC--2021-06-29T11-42-22.127396867Z--032fcb0a1c233da1546d2242ce0b4c4a51118ec3',\n",
       " 'attach': '/tmp/attach/032fcb0a1c233da1546d2242ce0b4c4a51118ec3.tar.gz',\n",
       " 'seedbalance': 16000000000000000000,\n",
       " 'balance': 16000000000000000000,\n",
       " 'notawallet_tx': '0xea802a3e099044e80ede7b354b423f2b75cdcd840a3f78234ff13ec6509ca453',\n",
       " 'notawallet_seedvalue': 10000000000000000000,\n",
       " 'notawallet_addr': '0x5341d88F2CC84e9Ca4F420Fd70627C7669570375',\n",
       " 'notawallet_balance': 10000000000000000000,\n",
       " 'badparity_tx': '0xc60ca232c436df660340cec6cd946f18bf37d376b293cc209c191fb7b5536759',\n",
       " 'badparity_seedvalue': 30000000000000000000,\n",
       " 'badparity_addr': '0xc7253Ea7f8b505C74dC9b205a9a17FeFb77Ba817',\n",
       " 'badparity_lib': '0xfC97cd6Ac9edD2E5Db2B02Fa633456D79E2516A0'}"
      ]
     },
     "execution_count": 90,
     "metadata": {},
     "output_type": "execute_result"
    }
   ],
   "source": [
    "path=CHALLENGES_PATH + \"/badparity/publish/Wallet.sol\"\n",
    "challange_name=\"badparity\"\n",
    "seedvalue=SEED_VALUE_BADPARITY\n",
    "\n",
    "forall_compile_and_deploy(users_list,path,challange_name,seedvalue,argument2=lib.address)\n",
    "\n",
    "for u in users_list:\n",
    "    u[challange_name + \"_lib\"] = lib.address\n",
    "\n",
    "users_list[0]"
   ]
  },
  {
   "cell_type": "code",
   "execution_count": 91,
   "metadata": {},
   "outputs": [],
   "source": [
    "# spot check of one contract\n",
    "c_abi = util.compile_contract_with_libs(\"solc\",path)[\"abi\"]\n",
    "u_c_addr = users_list[0][challange_name + \"_addr\"]\n",
    "u_c_instance = util.get_contract_instance(u_c_addr,c_abi,concise=True)\n",
    "\n",
    "assert users_list[0][challange_name + \"_lib\"] == lib.address\n",
    "    \n",
    "# check lib\n",
    "assert str(u_c_instance.getWalletLibrary()).lower() == str(lib.address).lower()\n",
    "assert str(u_c_instance.getOwner()).lower() == str(w3.eth.accounts[0]).lower()\n",
    "\n",
    "# check balance\n",
    "assert w3.eth.getBalance(u_c_addr) == SEED_VALUE_BADPARITY"
   ]
  },
  {
   "cell_type": "code",
   "execution_count": 92,
   "metadata": {},
   "outputs": [
    {
     "data": {
      "text/plain": [
       "'0xa1273F73C607Bd0af4D2916f4C9e6A550581dCA6'"
      ]
     },
     "execution_count": 92,
     "metadata": {},
     "output_type": "execute_result"
    }
   ],
   "source": [
    "u_c_instance.getOwner()"
   ]
  },
  {
   "cell_type": "code",
   "execution_count": 93,
   "metadata": {},
   "outputs": [
    {
     "data": {
      "text/plain": [
       "'0x032FcB0a1c233Da1546d2242Ce0b4C4A51118Ec3'"
      ]
     },
     "execution_count": 93,
     "metadata": {},
     "output_type": "execute_result"
    }
   ],
   "source": [
    "u_c_instance.getStudent()"
   ]
  },
  {
   "cell_type": "code",
   "execution_count": 94,
   "metadata": {},
   "outputs": [
    {
     "data": {
      "text/plain": [
       "['0xa1273F73C607Bd0af4D2916f4C9e6A550581dCA6',\n",
       " '0x782FEdd38Bd647fcb825cEDb39Af0b2ee27cA49E',\n",
       " '0x959155655931D3398610a5ACDae41D7cD3A08912',\n",
       " '0x032FcB0a1c233Da1546d2242Ce0b4C4A51118Ec3']"
      ]
     },
     "execution_count": 94,
     "metadata": {},
     "output_type": "execute_result"
    }
   ],
   "source": [
    "w3.parity.personal.listAccounts()"
   ]
  },
  {
   "cell_type": "code",
   "execution_count": 95,
   "metadata": {},
   "outputs": [
    {
     "name": "stdout",
     "output_type": "stream",
     "text": [
      "/smartenv/setup/generated_config//attach/dfa41679d35235afc79907088d76977fecc37474/badparity\n",
      "/smartenv/setup/generated_config//attach/56ba19f6813ff3939873eb529d4e12e0991e3a00/badparity\n",
      "/smartenv/setup/generated_config//attach/93d88d905cdc33ffb5766c30e87d87be43ba1b0f/badparity\n",
      "/smartenv/setup/generated_config//attach/f5ff9539dd171d351ee65d713a63989181b63df9/badparity\n",
      "/smartenv/setup/generated_config//attach/bb872acc4ee3d07836e6cdafb15c8fc2f9dcaf63/badparity\n",
      "/smartenv/setup/generated_config//attach/478c6cf7c49203e4c69fee138372f8731dee36e1/badparity\n",
      "/smartenv/setup/generated_config//attach/d4a1e16aae7a5f75e212cc3805b644074666c235/badparity\n",
      "/smartenv/setup/generated_config//attach/d305c767e93b6c714e8787bc0805cb10a5f1eb94/badparity\n",
      "/smartenv/setup/generated_config//attach/f7c4f0fa72f6376cde89984109bd6d75e73e8f24/badparity\n",
      "/smartenv/setup/generated_config//attach/beb57567e5a962451e8433618f787eca7e695cf5/badparity\n",
      "/smartenv/setup/generated_config//attach/836afc53b26c45aa67850b9729dbad5d1f53f1b1/badparity\n",
      "/smartenv/setup/generated_config//attach/fe3ebfca70a4b1ced2f560950d6a447a5985e794/badparity\n",
      "/smartenv/setup/generated_config//attach/1375859c41590c8ad41f1ff086e3d4bb8f5ea1d9/badparity\n",
      "/smartenv/setup/generated_config//attach/444784d647553ca39ba6ccc64d7fe2a8119d6ec1/badparity\n",
      "/smartenv/setup/generated_config//attach/3023be53e136512c85150a52e75d7f313a3fdfd7/badparity\n",
      "/smartenv/setup/generated_config//attach/3a31c13bb0fcee354ab96fb18fcd93d248589a23/badparity\n",
      "/smartenv/setup/generated_config//attach/032fcb0a1c233da1546d2242ce0b4c4a51118ec3/badparity\n",
      "/smartenv/setup/generated_config//attach/ff50cb1bf595f27179437789c1c5086171f34b2e/badparity\n",
      "/smartenv/setup/generated_config//attach/d4950bc19a01750b370e53ace9333e488553217c/badparity\n",
      "/smartenv/setup/generated_config//attach/ef4fc1fe1755ab8426c1b1eed7a4fe0fa396bdf6/badparity\n",
      "/smartenv/setup/generated_config//attach/1751ef109cc7bbde6095dd361478538a5e26e28a/badparity\n",
      "/smartenv/setup/generated_config//attach/4c2cc122018b1b1ffb0d7bd91bbd01c6dbf3f81d/badparity\n",
      "/smartenv/setup/generated_config//attach/c8d372d4420a66cb8a307a8e134d245fb2c41d30/badparity\n",
      "/smartenv/setup/generated_config//attach/252ffecc8103bddf0e992a8e36a0f000af228323/badparity\n",
      "/smartenv/setup/generated_config//attach/1dd90a6a874580a12dbe52747a916b9a0bf070b2/badparity\n",
      "/smartenv/setup/generated_config//attach/7286330b9c1ad628a4fd56c9f9618a166ea61d0c/badparity\n",
      "/smartenv/setup/generated_config//attach/ec5c28289c8322b6e93e22c3061567f99f7a4a09/badparity\n",
      "/smartenv/setup/generated_config//attach/4d2d745e0adf2ca7883984940f2fd4a62d08df0b/badparity\n",
      "/smartenv/setup/generated_config//attach/df77d28fb8f779019c41e76b075773250b2b00f8/badparity\n",
      "/smartenv/setup/generated_config//attach/c073653758d88bac89358f4769f5ab931f6430bf/badparity\n",
      "/smartenv/setup/generated_config//attach/8caaa8961eb9f7aef0b378dc5182d26ce5eaed2f/badparity\n",
      "/smartenv/setup/generated_config//attach/420d2b47ba8464323550beb6dbf1b4eded28b144/badparity\n",
      "/smartenv/setup/generated_config//attach/17d5e77c01412b28f5d7a73085a7c2bd3c0aa911/badparity\n"
     ]
    }
   ],
   "source": [
    "# copy challenge metadata\n",
    "challenge_path=CHALLENGES_PATH + \"/badparity/publish/*\"\n",
    "attach_path=GEN_CONFIG_PATH + \"/attach\"\n",
    "challenge_name=\"badparity\"\n",
    "copy_challenge_metadata(users_list,challenge_path,challenge_name,attach_path)"
   ]
  },
  {
   "cell_type": "markdown",
   "metadata": {},
   "source": [
    "# Challenge: Daodown"
   ]
  },
  {
   "cell_type": "code",
   "execution_count": 96,
   "metadata": {},
   "outputs": [
    {
     "data": {
      "text/plain": [
       "{'firstname': 'Aljosha',\n",
       " 'lastname': 'Judmayer',\n",
       " 'email': 'ajudmayer@sba-research.org',\n",
       " 'ppid': '1',\n",
       " 'account': '032fcb0a1c233da1546d2242ce0b4c4a51118ec3',\n",
       " 'filename': 'UTC--2021-06-29T11-42-22.127396867Z--032fcb0a1c233da1546d2242ce0b4c4a51118ec3',\n",
       " 'attach': '/tmp/attach/032fcb0a1c233da1546d2242ce0b4c4a51118ec3.tar.gz',\n",
       " 'seedbalance': 16000000000000000000,\n",
       " 'balance': 16000000000000000000,\n",
       " 'notawallet_tx': '0xea802a3e099044e80ede7b354b423f2b75cdcd840a3f78234ff13ec6509ca453',\n",
       " 'notawallet_seedvalue': 10000000000000000000,\n",
       " 'notawallet_addr': '0x5341d88F2CC84e9Ca4F420Fd70627C7669570375',\n",
       " 'notawallet_balance': 10000000000000000000,\n",
       " 'badparity_tx': '0xc60ca232c436df660340cec6cd946f18bf37d376b293cc209c191fb7b5536759',\n",
       " 'badparity_seedvalue': 30000000000000000000,\n",
       " 'badparity_addr': '0xc7253Ea7f8b505C74dC9b205a9a17FeFb77Ba817',\n",
       " 'badparity_lib': '0xfC97cd6Ac9edD2E5Db2B02Fa633456D79E2516A0'}"
      ]
     },
     "execution_count": 96,
     "metadata": {},
     "output_type": "execute_result"
    }
   ],
   "source": [
    "users_list[0]"
   ]
  },
  {
   "cell_type": "code",
   "execution_count": 97,
   "metadata": {},
   "outputs": [],
   "source": [
    "# !solc --overwrite -o \"{CHALLENGES_PATH}/daodown/publish/\" --abi --bin \"{CHALLENGES_PATH}/daodown/publish/EDao.sol\""
   ]
  },
  {
   "cell_type": "code",
   "execution_count": 98,
   "metadata": {},
   "outputs": [
    {
     "name": "stdout",
     "output_type": "stream",
     "text": [
      "Compiler run successful. Artifact(s) can be found in directory /smartenv/challenges//daodown/publish/.\r\n"
     ]
    }
   ],
   "source": [
    "!solc_7.4 --overwrite -o \"{CHALLENGES_PATH}/daodown/publish/\" --abi --bin \"{CHALLENGES_PATH}/daodown/publish/EDao.sol\""
   ]
  },
  {
   "cell_type": "code",
   "execution_count": 99,
   "metadata": {},
   "outputs": [
    {
     "name": "stdout",
     "output_type": "stream",
     "text": [
      "Started for 33 users:\n",
      ".................................---------------------------------"
     ]
    },
    {
     "data": {
      "text/plain": [
       "{'firstname': 'Aljosha',\n",
       " 'lastname': 'Judmayer',\n",
       " 'email': 'ajudmayer@sba-research.org',\n",
       " 'ppid': '1',\n",
       " 'account': '032fcb0a1c233da1546d2242ce0b4c4a51118ec3',\n",
       " 'filename': 'UTC--2021-06-29T11-42-22.127396867Z--032fcb0a1c233da1546d2242ce0b4c4a51118ec3',\n",
       " 'attach': '/tmp/attach/032fcb0a1c233da1546d2242ce0b4c4a51118ec3.tar.gz',\n",
       " 'seedbalance': 16000000000000000000,\n",
       " 'balance': 16000000000000000000,\n",
       " 'notawallet_tx': '0xea802a3e099044e80ede7b354b423f2b75cdcd840a3f78234ff13ec6509ca453',\n",
       " 'notawallet_seedvalue': 10000000000000000000,\n",
       " 'notawallet_addr': '0x5341d88F2CC84e9Ca4F420Fd70627C7669570375',\n",
       " 'notawallet_balance': 10000000000000000000,\n",
       " 'badparity_tx': '0xc60ca232c436df660340cec6cd946f18bf37d376b293cc209c191fb7b5536759',\n",
       " 'badparity_seedvalue': 30000000000000000000,\n",
       " 'badparity_addr': '0xc7253Ea7f8b505C74dC9b205a9a17FeFb77Ba817',\n",
       " 'badparity_lib': '0xfC97cd6Ac9edD2E5Db2B02Fa633456D79E2516A0',\n",
       " 'daodown_tx': '0x15f67653aaa299492e4796978c3227f05a3d8a075b2c660ab3bf32731572acee',\n",
       " 'daodown_seedvalue': 30000000000000000000,\n",
       " 'daodown_addr': '0x211b404D8B8252B92CA51b80f3Fd81D43A048Cda'}"
      ]
     },
     "execution_count": 99,
     "metadata": {},
     "output_type": "execute_result"
    }
   ],
   "source": [
    "path=CHALLENGES_PATH + \"/daodown/publish/EDao.sol\"\n",
    "challange_name=\"daodown\"\n",
    "seedvalue=SEED_VALUE_DAODOWN\n",
    "\n",
    "forall_compile_and_deploy(users_list,\n",
    "                          path,\n",
    "                          challange_name,\n",
    "                          seedvalue,\n",
    "                          compiler=\"solc_7.4\")\n",
    "users_list[0]"
   ]
  },
  {
   "cell_type": "code",
   "execution_count": 100,
   "metadata": {},
   "outputs": [
    {
     "data": {
      "text/plain": [
       "25"
      ]
     },
     "execution_count": 100,
     "metadata": {},
     "output_type": "execute_result"
    }
   ],
   "source": [
    "w3.eth.blockNumber"
   ]
  },
  {
   "cell_type": "code",
   "execution_count": 101,
   "metadata": {},
   "outputs": [
    {
     "data": {
      "text/plain": [
       "2109525"
      ]
     },
     "execution_count": 101,
     "metadata": {},
     "output_type": "execute_result"
    }
   ],
   "source": [
    "w3.eth.getBlock(w3.eth.blockNumber)[\"gasUsed\"]"
   ]
  },
  {
   "cell_type": "code",
   "execution_count": 102,
   "metadata": {},
   "outputs": [
    {
     "data": {
      "text/plain": [
       "0"
      ]
     },
     "execution_count": 102,
     "metadata": {},
     "output_type": "execute_result"
    }
   ],
   "source": [
    "w3.eth.getBlock(w3.eth.blockNumber-3)[\"gasUsed\"]"
   ]
  },
  {
   "cell_type": "code",
   "execution_count": 103,
   "metadata": {},
   "outputs": [
    {
     "name": "stdout",
     "output_type": "stream",
     "text": [
      "Started for 33 users:\n",
      "................................."
     ]
    },
    {
     "data": {
      "text/plain": [
       "{'firstname': 'Aljosha',\n",
       " 'lastname': 'Judmayer',\n",
       " 'email': 'ajudmayer@sba-research.org',\n",
       " 'ppid': '1',\n",
       " 'account': '032fcb0a1c233da1546d2242ce0b4c4a51118ec3',\n",
       " 'filename': 'UTC--2021-06-29T11-42-22.127396867Z--032fcb0a1c233da1546d2242ce0b4c4a51118ec3',\n",
       " 'attach': '/tmp/attach/032fcb0a1c233da1546d2242ce0b4c4a51118ec3.tar.gz',\n",
       " 'seedbalance': 16000000000000000000,\n",
       " 'balance': 16000000000000000000,\n",
       " 'notawallet_tx': '0xea802a3e099044e80ede7b354b423f2b75cdcd840a3f78234ff13ec6509ca453',\n",
       " 'notawallet_seedvalue': 10000000000000000000,\n",
       " 'notawallet_addr': '0x5341d88F2CC84e9Ca4F420Fd70627C7669570375',\n",
       " 'notawallet_balance': 10000000000000000000,\n",
       " 'badparity_tx': '0xc60ca232c436df660340cec6cd946f18bf37d376b293cc209c191fb7b5536759',\n",
       " 'badparity_seedvalue': 30000000000000000000,\n",
       " 'badparity_addr': '0xc7253Ea7f8b505C74dC9b205a9a17FeFb77Ba817',\n",
       " 'badparity_lib': '0xfC97cd6Ac9edD2E5Db2B02Fa633456D79E2516A0',\n",
       " 'daodown_tx': '0x15f67653aaa299492e4796978c3227f05a3d8a075b2c660ab3bf32731572acee',\n",
       " 'daodown_seedvalue': 30000000000000000000,\n",
       " 'daodown_addr': '0x211b404D8B8252B92CA51b80f3Fd81D43A048Cda',\n",
       " 'daodown_balance': 30000000000000000000}"
      ]
     },
     "execution_count": 103,
     "metadata": {},
     "output_type": "execute_result"
    }
   ],
   "source": [
    "path=CHALLENGES_PATH + \"/daodown/publish/EDao.sol\"\n",
    "challange_name=\"daodown\"\n",
    "forall_check_contract(users_list,\n",
    "                      path,\n",
    "                      challange_name,\n",
    "                      compiler=\"solc_7.4\")\n",
    "#forall_check_contract(users_list,path,challange_name,predicate=(lambda a, b: a < b))\n",
    "#forall_check_contract(users_list,path,challange_name,predicate=(lambda a, b: a == 10**18))\n",
    "users_list[0]"
   ]
  },
  {
   "cell_type": "code",
   "execution_count": 104,
   "metadata": {},
   "outputs": [
    {
     "name": "stdout",
     "output_type": "stream",
     "text": [
      "/smartenv/setup/generated_config//attach/dfa41679d35235afc79907088d76977fecc37474/daodown\n",
      "/smartenv/setup/generated_config//attach/56ba19f6813ff3939873eb529d4e12e0991e3a00/daodown\n",
      "/smartenv/setup/generated_config//attach/93d88d905cdc33ffb5766c30e87d87be43ba1b0f/daodown\n",
      "/smartenv/setup/generated_config//attach/f5ff9539dd171d351ee65d713a63989181b63df9/daodown\n",
      "/smartenv/setup/generated_config//attach/bb872acc4ee3d07836e6cdafb15c8fc2f9dcaf63/daodown\n",
      "/smartenv/setup/generated_config//attach/478c6cf7c49203e4c69fee138372f8731dee36e1/daodown\n",
      "/smartenv/setup/generated_config//attach/d4a1e16aae7a5f75e212cc3805b644074666c235/daodown\n",
      "/smartenv/setup/generated_config//attach/d305c767e93b6c714e8787bc0805cb10a5f1eb94/daodown\n",
      "/smartenv/setup/generated_config//attach/f7c4f0fa72f6376cde89984109bd6d75e73e8f24/daodown\n",
      "/smartenv/setup/generated_config//attach/beb57567e5a962451e8433618f787eca7e695cf5/daodown\n",
      "/smartenv/setup/generated_config//attach/836afc53b26c45aa67850b9729dbad5d1f53f1b1/daodown\n",
      "/smartenv/setup/generated_config//attach/fe3ebfca70a4b1ced2f560950d6a447a5985e794/daodown\n",
      "/smartenv/setup/generated_config//attach/1375859c41590c8ad41f1ff086e3d4bb8f5ea1d9/daodown\n",
      "/smartenv/setup/generated_config//attach/444784d647553ca39ba6ccc64d7fe2a8119d6ec1/daodown\n",
      "/smartenv/setup/generated_config//attach/3023be53e136512c85150a52e75d7f313a3fdfd7/daodown\n",
      "/smartenv/setup/generated_config//attach/3a31c13bb0fcee354ab96fb18fcd93d248589a23/daodown\n",
      "/smartenv/setup/generated_config//attach/032fcb0a1c233da1546d2242ce0b4c4a51118ec3/daodown\n",
      "/smartenv/setup/generated_config//attach/ff50cb1bf595f27179437789c1c5086171f34b2e/daodown\n",
      "/smartenv/setup/generated_config//attach/d4950bc19a01750b370e53ace9333e488553217c/daodown\n",
      "/smartenv/setup/generated_config//attach/ef4fc1fe1755ab8426c1b1eed7a4fe0fa396bdf6/daodown\n",
      "/smartenv/setup/generated_config//attach/1751ef109cc7bbde6095dd361478538a5e26e28a/daodown\n",
      "/smartenv/setup/generated_config//attach/4c2cc122018b1b1ffb0d7bd91bbd01c6dbf3f81d/daodown\n",
      "/smartenv/setup/generated_config//attach/c8d372d4420a66cb8a307a8e134d245fb2c41d30/daodown\n",
      "/smartenv/setup/generated_config//attach/252ffecc8103bddf0e992a8e36a0f000af228323/daodown\n",
      "/smartenv/setup/generated_config//attach/1dd90a6a874580a12dbe52747a916b9a0bf070b2/daodown\n",
      "/smartenv/setup/generated_config//attach/7286330b9c1ad628a4fd56c9f9618a166ea61d0c/daodown\n",
      "/smartenv/setup/generated_config//attach/ec5c28289c8322b6e93e22c3061567f99f7a4a09/daodown\n",
      "/smartenv/setup/generated_config//attach/4d2d745e0adf2ca7883984940f2fd4a62d08df0b/daodown\n",
      "/smartenv/setup/generated_config//attach/df77d28fb8f779019c41e76b075773250b2b00f8/daodown\n",
      "/smartenv/setup/generated_config//attach/c073653758d88bac89358f4769f5ab931f6430bf/daodown\n",
      "/smartenv/setup/generated_config//attach/8caaa8961eb9f7aef0b378dc5182d26ce5eaed2f/daodown\n",
      "/smartenv/setup/generated_config//attach/420d2b47ba8464323550beb6dbf1b4eded28b144/daodown\n",
      "/smartenv/setup/generated_config//attach/17d5e77c01412b28f5d7a73085a7c2bd3c0aa911/daodown\n"
     ]
    }
   ],
   "source": [
    "# copy challenge metadata\n",
    "challenge_path=CHALLENGES_PATH + \"/daodown/publish/*\"\n",
    "attach_path=GEN_CONFIG_PATH + \"/attach\"\n",
    "challenge_name=\"daodown\"\n",
    "copy_challenge_metadata(users_list,challenge_path,challenge_name,attach_path)"
   ]
  },
  {
   "cell_type": "markdown",
   "metadata": {},
   "source": [
    "## Challenge: Faildice"
   ]
  },
  {
   "cell_type": "code",
   "execution_count": 105,
   "metadata": {},
   "outputs": [
    {
     "data": {
      "text/plain": [
       "{'firstname': 'Aljosha',\n",
       " 'lastname': 'Judmayer',\n",
       " 'email': 'ajudmayer@sba-research.org',\n",
       " 'ppid': '1',\n",
       " 'account': '032fcb0a1c233da1546d2242ce0b4c4a51118ec3',\n",
       " 'filename': 'UTC--2021-06-29T11-42-22.127396867Z--032fcb0a1c233da1546d2242ce0b4c4a51118ec3',\n",
       " 'attach': '/tmp/attach/032fcb0a1c233da1546d2242ce0b4c4a51118ec3.tar.gz',\n",
       " 'seedbalance': 16000000000000000000,\n",
       " 'balance': 16000000000000000000,\n",
       " 'notawallet_tx': '0xea802a3e099044e80ede7b354b423f2b75cdcd840a3f78234ff13ec6509ca453',\n",
       " 'notawallet_seedvalue': 10000000000000000000,\n",
       " 'notawallet_addr': '0x5341d88F2CC84e9Ca4F420Fd70627C7669570375',\n",
       " 'notawallet_balance': 10000000000000000000,\n",
       " 'badparity_tx': '0xc60ca232c436df660340cec6cd946f18bf37d376b293cc209c191fb7b5536759',\n",
       " 'badparity_seedvalue': 30000000000000000000,\n",
       " 'badparity_addr': '0xc7253Ea7f8b505C74dC9b205a9a17FeFb77Ba817',\n",
       " 'badparity_lib': '0xfC97cd6Ac9edD2E5Db2B02Fa633456D79E2516A0',\n",
       " 'daodown_tx': '0x15f67653aaa299492e4796978c3227f05a3d8a075b2c660ab3bf32731572acee',\n",
       " 'daodown_seedvalue': 30000000000000000000,\n",
       " 'daodown_addr': '0x211b404D8B8252B92CA51b80f3Fd81D43A048Cda',\n",
       " 'daodown_balance': 30000000000000000000}"
      ]
     },
     "execution_count": 105,
     "metadata": {},
     "output_type": "execute_result"
    }
   ],
   "source": [
    "users_list[0]"
   ]
  },
  {
   "cell_type": "code",
   "execution_count": 106,
   "metadata": {},
   "outputs": [
    {
     "name": "stdout",
     "output_type": "stream",
     "text": [
      "-rwxr-xr-x 1 root root 11833912 Jun 15 13:35 /usr/local/bin/solc\r\n",
      "-rwxr-xr-x 1 root root  6284040 Feb 12  2019 /usr/local/bin/solc_5.4\r\n",
      "-rwxr-xr-x 1 root root 11192752 Oct 19  2020 /usr/local/bin/solc_7.4\r\n",
      "-rwxr-xr-x 1 root root 11833912 Apr 21 16:53 /usr/local/bin/solc_8.4\r\n"
     ]
    }
   ],
   "source": [
    "!ls -la /usr/local/bin/solc*"
   ]
  },
  {
   "cell_type": "code",
   "execution_count": 107,
   "metadata": {},
   "outputs": [
    {
     "name": "stdout",
     "output_type": "stream",
     "text": [
      "solc, the solidity compiler commandline interface\r\n",
      "Version: 0.8.4+commit.c7e474f2.Linux.g++\r\n"
     ]
    }
   ],
   "source": [
    "!solc --version"
   ]
  },
  {
   "cell_type": "code",
   "execution_count": 108,
   "metadata": {},
   "outputs": [
    {
     "name": "stdout",
     "output_type": "stream",
     "text": [
      "Compiler run successful. Artifact(s) can be found in directory /smartenv/challenges//faildice/publish/.\r\n"
     ]
    }
   ],
   "source": [
    "!solc --overwrite -o \"{CHALLENGES_PATH}/faildice/publish/\" --abi --bin \"{CHALLENGES_PATH}/faildice/publish/SatoshiFailDice.sol\""
   ]
  },
  {
   "cell_type": "code",
   "execution_count": 109,
   "metadata": {},
   "outputs": [
    {
     "name": "stdout",
     "output_type": "stream",
     "text": [
      "Started for 33 users:\n",
      "~~~~~~~~~~~~~~~~~~~~~~~~~~~~~~~~~---------------------------------"
     ]
    },
    {
     "data": {
      "text/plain": [
       "{'firstname': 'Aljosha',\n",
       " 'lastname': 'Judmayer',\n",
       " 'email': 'ajudmayer@sba-research.org',\n",
       " 'ppid': '1',\n",
       " 'account': '032fcb0a1c233da1546d2242ce0b4c4a51118ec3',\n",
       " 'filename': 'UTC--2021-06-29T11-42-22.127396867Z--032fcb0a1c233da1546d2242ce0b4c4a51118ec3',\n",
       " 'attach': '/tmp/attach/032fcb0a1c233da1546d2242ce0b4c4a51118ec3.tar.gz',\n",
       " 'seedbalance': 16000000000000000000,\n",
       " 'balance': 16000000000000000000,\n",
       " 'notawallet_tx': '0xea802a3e099044e80ede7b354b423f2b75cdcd840a3f78234ff13ec6509ca453',\n",
       " 'notawallet_seedvalue': 10000000000000000000,\n",
       " 'notawallet_addr': '0x5341d88F2CC84e9Ca4F420Fd70627C7669570375',\n",
       " 'notawallet_balance': 10000000000000000000,\n",
       " 'badparity_tx': '0xc60ca232c436df660340cec6cd946f18bf37d376b293cc209c191fb7b5536759',\n",
       " 'badparity_seedvalue': 30000000000000000000,\n",
       " 'badparity_addr': '0xc7253Ea7f8b505C74dC9b205a9a17FeFb77Ba817',\n",
       " 'badparity_lib': '0xfC97cd6Ac9edD2E5Db2B02Fa633456D79E2516A0',\n",
       " 'daodown_tx': '0x15f67653aaa299492e4796978c3227f05a3d8a075b2c660ab3bf32731572acee',\n",
       " 'daodown_seedvalue': 30000000000000000000,\n",
       " 'daodown_addr': '0x211b404D8B8252B92CA51b80f3Fd81D43A048Cda',\n",
       " 'daodown_balance': 30000000000000000000,\n",
       " 'faildice_tx': '0xd2dbfcc004cc6a18d0b28614e7d45b695770d09364405d863f3d8e30799b068d',\n",
       " 'faildice_seedvalue': 30000000000000000000,\n",
       " 'faildice_addr': '0x27C6ae9fdd0cC4A61763e3506f0F1A762a1810fC'}"
      ]
     },
     "execution_count": 109,
     "metadata": {},
     "output_type": "execute_result"
    }
   ],
   "source": [
    "path= CHALLENGES_PATH + \"/faildice/publish/SatoshiFailDice.sol\"\n",
    "challange_name=\"faildice\"\n",
    "seedvalue=SEED_VALUE_FAILDICE\n",
    "\n",
    "forall_compile_and_deploy(users_list,\n",
    "                          path,\n",
    "                          challange_name,\n",
    "                          seedvalue,\n",
    "                          argument2=True)\n",
    "users_list[0]"
   ]
  },
  {
   "cell_type": "code",
   "execution_count": 110,
   "metadata": {},
   "outputs": [
    {
     "name": "stdout",
     "output_type": "stream",
     "text": [
      "Started for 33 users:\n",
      "................................."
     ]
    },
    {
     "data": {
      "text/plain": [
       "{'firstname': 'Aljosha',\n",
       " 'lastname': 'Judmayer',\n",
       " 'email': 'ajudmayer@sba-research.org',\n",
       " 'ppid': '1',\n",
       " 'account': '032fcb0a1c233da1546d2242ce0b4c4a51118ec3',\n",
       " 'filename': 'UTC--2021-06-29T11-42-22.127396867Z--032fcb0a1c233da1546d2242ce0b4c4a51118ec3',\n",
       " 'attach': '/tmp/attach/032fcb0a1c233da1546d2242ce0b4c4a51118ec3.tar.gz',\n",
       " 'seedbalance': 16000000000000000000,\n",
       " 'balance': 16000000000000000000,\n",
       " 'notawallet_tx': '0xea802a3e099044e80ede7b354b423f2b75cdcd840a3f78234ff13ec6509ca453',\n",
       " 'notawallet_seedvalue': 10000000000000000000,\n",
       " 'notawallet_addr': '0x5341d88F2CC84e9Ca4F420Fd70627C7669570375',\n",
       " 'notawallet_balance': 10000000000000000000,\n",
       " 'badparity_tx': '0xc60ca232c436df660340cec6cd946f18bf37d376b293cc209c191fb7b5536759',\n",
       " 'badparity_seedvalue': 30000000000000000000,\n",
       " 'badparity_addr': '0xc7253Ea7f8b505C74dC9b205a9a17FeFb77Ba817',\n",
       " 'badparity_lib': '0xfC97cd6Ac9edD2E5Db2B02Fa633456D79E2516A0',\n",
       " 'daodown_tx': '0x15f67653aaa299492e4796978c3227f05a3d8a075b2c660ab3bf32731572acee',\n",
       " 'daodown_seedvalue': 30000000000000000000,\n",
       " 'daodown_addr': '0x211b404D8B8252B92CA51b80f3Fd81D43A048Cda',\n",
       " 'daodown_balance': 30000000000000000000,\n",
       " 'faildice_tx': '0xd2dbfcc004cc6a18d0b28614e7d45b695770d09364405d863f3d8e30799b068d',\n",
       " 'faildice_seedvalue': 30000000000000000000,\n",
       " 'faildice_addr': '0x27C6ae9fdd0cC4A61763e3506f0F1A762a1810fC',\n",
       " 'faildice_balance': 30000000000000000000}"
      ]
     },
     "execution_count": 110,
     "metadata": {},
     "output_type": "execute_result"
    }
   ],
   "source": [
    "path= CHALLENGES_PATH + \"/faildice/publish/SatoshiFailDice.sol\"\n",
    "challange_name=\"faildice\"\n",
    "forall_check_contract(users_list,path,challange_name)\n",
    "#forall_check_contract(users_list,path,challange_name,predicate=(lambda a, b: a < b))\n",
    "#forall_check_contract(users_list,path,challange_name,predicate=(lambda a, b: a == 10**18))\n",
    "users_list[0]"
   ]
  },
  {
   "cell_type": "code",
   "execution_count": 111,
   "metadata": {},
   "outputs": [
    {
     "name": "stdout",
     "output_type": "stream",
     "text": [
      "/smartenv/setup/generated_config//attach/dfa41679d35235afc79907088d76977fecc37474/faildice\n",
      "/smartenv/setup/generated_config//attach/56ba19f6813ff3939873eb529d4e12e0991e3a00/faildice\n",
      "/smartenv/setup/generated_config//attach/93d88d905cdc33ffb5766c30e87d87be43ba1b0f/faildice\n",
      "/smartenv/setup/generated_config//attach/f5ff9539dd171d351ee65d713a63989181b63df9/faildice\n",
      "/smartenv/setup/generated_config//attach/bb872acc4ee3d07836e6cdafb15c8fc2f9dcaf63/faildice\n",
      "/smartenv/setup/generated_config//attach/478c6cf7c49203e4c69fee138372f8731dee36e1/faildice\n",
      "/smartenv/setup/generated_config//attach/d4a1e16aae7a5f75e212cc3805b644074666c235/faildice\n",
      "/smartenv/setup/generated_config//attach/d305c767e93b6c714e8787bc0805cb10a5f1eb94/faildice\n",
      "/smartenv/setup/generated_config//attach/f7c4f0fa72f6376cde89984109bd6d75e73e8f24/faildice\n",
      "/smartenv/setup/generated_config//attach/beb57567e5a962451e8433618f787eca7e695cf5/faildice\n",
      "/smartenv/setup/generated_config//attach/836afc53b26c45aa67850b9729dbad5d1f53f1b1/faildice\n",
      "/smartenv/setup/generated_config//attach/fe3ebfca70a4b1ced2f560950d6a447a5985e794/faildice\n",
      "/smartenv/setup/generated_config//attach/1375859c41590c8ad41f1ff086e3d4bb8f5ea1d9/faildice\n",
      "/smartenv/setup/generated_config//attach/444784d647553ca39ba6ccc64d7fe2a8119d6ec1/faildice\n",
      "/smartenv/setup/generated_config//attach/3023be53e136512c85150a52e75d7f313a3fdfd7/faildice\n",
      "/smartenv/setup/generated_config//attach/3a31c13bb0fcee354ab96fb18fcd93d248589a23/faildice\n",
      "/smartenv/setup/generated_config//attach/032fcb0a1c233da1546d2242ce0b4c4a51118ec3/faildice\n",
      "/smartenv/setup/generated_config//attach/ff50cb1bf595f27179437789c1c5086171f34b2e/faildice\n",
      "/smartenv/setup/generated_config//attach/d4950bc19a01750b370e53ace9333e488553217c/faildice\n",
      "/smartenv/setup/generated_config//attach/ef4fc1fe1755ab8426c1b1eed7a4fe0fa396bdf6/faildice\n",
      "/smartenv/setup/generated_config//attach/1751ef109cc7bbde6095dd361478538a5e26e28a/faildice\n",
      "/smartenv/setup/generated_config//attach/4c2cc122018b1b1ffb0d7bd91bbd01c6dbf3f81d/faildice\n",
      "/smartenv/setup/generated_config//attach/c8d372d4420a66cb8a307a8e134d245fb2c41d30/faildice\n",
      "/smartenv/setup/generated_config//attach/252ffecc8103bddf0e992a8e36a0f000af228323/faildice\n",
      "/smartenv/setup/generated_config//attach/1dd90a6a874580a12dbe52747a916b9a0bf070b2/faildice\n",
      "/smartenv/setup/generated_config//attach/7286330b9c1ad628a4fd56c9f9618a166ea61d0c/faildice\n",
      "/smartenv/setup/generated_config//attach/ec5c28289c8322b6e93e22c3061567f99f7a4a09/faildice\n",
      "/smartenv/setup/generated_config//attach/4d2d745e0adf2ca7883984940f2fd4a62d08df0b/faildice\n",
      "/smartenv/setup/generated_config//attach/df77d28fb8f779019c41e76b075773250b2b00f8/faildice\n",
      "/smartenv/setup/generated_config//attach/c073653758d88bac89358f4769f5ab931f6430bf/faildice\n",
      "/smartenv/setup/generated_config//attach/8caaa8961eb9f7aef0b378dc5182d26ce5eaed2f/faildice\n",
      "/smartenv/setup/generated_config//attach/420d2b47ba8464323550beb6dbf1b4eded28b144/faildice\n",
      "/smartenv/setup/generated_config//attach/17d5e77c01412b28f5d7a73085a7c2bd3c0aa911/faildice\n"
     ]
    }
   ],
   "source": [
    "# copy challenge metadata\n",
    "challenge_path= CHALLENGES_PATH + \"/faildice/publish/*\"\n",
    "attach_path=GEN_CONFIG_PATH + \"/attach\"\n",
    "challenge_name=\"faildice\"\n",
    "copy_challenge_metadata(users_list,challenge_path,challenge_name,attach_path)"
   ]
  },
  {
   "cell_type": "markdown",
   "metadata": {},
   "source": [
    "## Add optional/additional meta data"
   ]
  },
  {
   "cell_type": "code",
   "execution_count": 112,
   "metadata": {},
   "outputs": [],
   "source": [
    "def add_login_token(path,users):\n",
    "    login_tokens=list()\n",
    "    with open(path,'r') as f_input:\n",
    "        for line in f_input:\n",
    "            #print(line.strip())\n",
    "            login_tokens.append(line.strip())    \n",
    "    \n",
    "    for i,u in enumerate(users):\n",
    "        u[\"login_token\"] = login_tokens[i]\n",
    "    \n",
    "    return login_tokens.copy()"
   ]
  },
  {
   "cell_type": "code",
   "execution_count": 113,
   "metadata": {},
   "outputs": [],
   "source": [
    "login_tokens = add_login_token(PARTICIPANTS_PATH + \"login_tokens\",users_list)"
   ]
  },
  {
   "cell_type": "code",
   "execution_count": 114,
   "metadata": {
    "scrolled": true
   },
   "outputs": [
    {
     "data": {
      "text/plain": [
       "{'firstname': 'Aljosha',\n",
       " 'lastname': 'Judmayer',\n",
       " 'email': 'ajudmayer@sba-research.org',\n",
       " 'ppid': '1',\n",
       " 'account': '032fcb0a1c233da1546d2242ce0b4c4a51118ec3',\n",
       " 'filename': 'UTC--2021-06-29T11-42-22.127396867Z--032fcb0a1c233da1546d2242ce0b4c4a51118ec3',\n",
       " 'attach': '/tmp/attach/032fcb0a1c233da1546d2242ce0b4c4a51118ec3.tar.gz',\n",
       " 'seedbalance': 16000000000000000000,\n",
       " 'balance': 16000000000000000000,\n",
       " 'notawallet_tx': '0xea802a3e099044e80ede7b354b423f2b75cdcd840a3f78234ff13ec6509ca453',\n",
       " 'notawallet_seedvalue': 10000000000000000000,\n",
       " 'notawallet_addr': '0x5341d88F2CC84e9Ca4F420Fd70627C7669570375',\n",
       " 'notawallet_balance': 10000000000000000000,\n",
       " 'badparity_tx': '0xc60ca232c436df660340cec6cd946f18bf37d376b293cc209c191fb7b5536759',\n",
       " 'badparity_seedvalue': 30000000000000000000,\n",
       " 'badparity_addr': '0xc7253Ea7f8b505C74dC9b205a9a17FeFb77Ba817',\n",
       " 'badparity_lib': '0xfC97cd6Ac9edD2E5Db2B02Fa633456D79E2516A0',\n",
       " 'daodown_tx': '0x15f67653aaa299492e4796978c3227f05a3d8a075b2c660ab3bf32731572acee',\n",
       " 'daodown_seedvalue': 30000000000000000000,\n",
       " 'daodown_addr': '0x211b404D8B8252B92CA51b80f3Fd81D43A048Cda',\n",
       " 'daodown_balance': 30000000000000000000,\n",
       " 'faildice_tx': '0xd2dbfcc004cc6a18d0b28614e7d45b695770d09364405d863f3d8e30799b068d',\n",
       " 'faildice_seedvalue': 30000000000000000000,\n",
       " 'faildice_addr': '0x27C6ae9fdd0cC4A61763e3506f0F1A762a1810fC',\n",
       " 'faildice_balance': 30000000000000000000,\n",
       " 'login_token': 'tTVZ0yc41S9Ri45Q'}"
      ]
     },
     "execution_count": 114,
     "metadata": {},
     "output_type": "execute_result"
    }
   ],
   "source": [
    "users_list[0]"
   ]
  },
  {
   "cell_type": "code",
   "execution_count": 115,
   "metadata": {},
   "outputs": [],
   "source": [
    "# login_tokens"
   ]
  },
  {
   "cell_type": "markdown",
   "metadata": {},
   "source": [
    "## Write Students"
   ]
  },
  {
   "cell_type": "code",
   "execution_count": 116,
   "metadata": {},
   "outputs": [
    {
     "data": {
      "text/plain": [
       "{'firstname': 'Aljosha',\n",
       " 'lastname': 'Judmayer',\n",
       " 'email': 'ajudmayer@sba-research.org',\n",
       " 'ppid': '1',\n",
       " 'account': '032fcb0a1c233da1546d2242ce0b4c4a51118ec3',\n",
       " 'filename': 'UTC--2021-06-29T11-42-22.127396867Z--032fcb0a1c233da1546d2242ce0b4c4a51118ec3',\n",
       " 'attach': '/tmp/attach/032fcb0a1c233da1546d2242ce0b4c4a51118ec3.tar.gz',\n",
       " 'seedbalance': 16000000000000000000,\n",
       " 'balance': 16000000000000000000,\n",
       " 'notawallet_tx': '0xea802a3e099044e80ede7b354b423f2b75cdcd840a3f78234ff13ec6509ca453',\n",
       " 'notawallet_seedvalue': 10000000000000000000,\n",
       " 'notawallet_addr': '0x5341d88F2CC84e9Ca4F420Fd70627C7669570375',\n",
       " 'notawallet_balance': 10000000000000000000,\n",
       " 'badparity_tx': '0xc60ca232c436df660340cec6cd946f18bf37d376b293cc209c191fb7b5536759',\n",
       " 'badparity_seedvalue': 30000000000000000000,\n",
       " 'badparity_addr': '0xc7253Ea7f8b505C74dC9b205a9a17FeFb77Ba817',\n",
       " 'badparity_lib': '0xfC97cd6Ac9edD2E5Db2B02Fa633456D79E2516A0',\n",
       " 'daodown_tx': '0x15f67653aaa299492e4796978c3227f05a3d8a075b2c660ab3bf32731572acee',\n",
       " 'daodown_seedvalue': 30000000000000000000,\n",
       " 'daodown_addr': '0x211b404D8B8252B92CA51b80f3Fd81D43A048Cda',\n",
       " 'daodown_balance': 30000000000000000000,\n",
       " 'faildice_tx': '0xd2dbfcc004cc6a18d0b28614e7d45b695770d09364405d863f3d8e30799b068d',\n",
       " 'faildice_seedvalue': 30000000000000000000,\n",
       " 'faildice_addr': '0x27C6ae9fdd0cC4A61763e3506f0F1A762a1810fC',\n",
       " 'faildice_balance': 30000000000000000000,\n",
       " 'login_token': 'tTVZ0yc41S9Ri45Q'}"
      ]
     },
     "execution_count": 116,
     "metadata": {},
     "output_type": "execute_result"
    }
   ],
   "source": [
    "users_list[0]"
   ]
  },
  {
   "cell_type": "code",
   "execution_count": 117,
   "metadata": {},
   "outputs": [],
   "source": [
    "import json\n",
    "\n",
    "def persist_participants_json(path,users):\n",
    "    with open(path,'w') as f_output:\n",
    "        json.dump(users,f_output)"
   ]
  },
  {
   "cell_type": "code",
   "execution_count": 118,
   "metadata": {},
   "outputs": [
    {
     "data": {
      "text/plain": [
       "33"
      ]
     },
     "execution_count": 118,
     "metadata": {},
     "output_type": "execute_result"
    }
   ],
   "source": [
    "out_file_json = GEN_CONFIG_PATH + \"/participants_meta.json\"\n",
    "persist_participants_json(out_file_json,users_list)\n",
    "len(users_list)"
   ]
  },
  {
   "cell_type": "code",
   "execution_count": 119,
   "metadata": {},
   "outputs": [],
   "source": [
    "import csv\n",
    "\n",
    "def persist_participants_csv(path,\n",
    "                   out_fieldnames=['firstname', 'lastname','ppid','email','cc','attach','contract','account'],\n",
    "                   cc_mail=\"ajudmayer@sba-research.org\"):\n",
    "    with open(path,'w',encoding='utf-8') as f_output:\n",
    "    #with open(path,'w',encoding='latin-1') as f_output:\n",
    "        writer = csv.DictWriter(f_output, \n",
    "                                fieldnames=out_fieldnames, \n",
    "                                delimiter=',',\n",
    "                                quotechar='\\\"',\n",
    "                                extrasaction='ignore')\n",
    "        writer.writeheader()\n",
    "        for i,row in enumerate(users_list):\n",
    "            row[\"cc\"]=cc_mail\n",
    "            #print(row)\n",
    "            writer.writerow(row)\n",
    "    return i+1"
   ]
  },
  {
   "cell_type": "code",
   "execution_count": 120,
   "metadata": {},
   "outputs": [
    {
     "data": {
      "text/plain": [
       "33"
      ]
     },
     "execution_count": 120,
     "metadata": {},
     "output_type": "execute_result"
    }
   ],
   "source": [
    "out_file = GEN_CONFIG_PATH + \"/participants_meta.csv\"\n",
    "out_fieldnames = ['ppid','email','cc','attach','account']\n",
    "#out_fieldnames = ['firstname', 'lastname','matr','email','cc','attach','contract','account']\n",
    "#out_fieldnames = ['firstname', \n",
    "#                  'lastname',\n",
    "#                  'matr',\n",
    "#                  'email',\n",
    "#                  'cc',\n",
    "#                  'attach',\n",
    "#                  'account',\n",
    "#                  'notawallet_addr',\n",
    "#                 ]\n",
    "cc_mail = \"ajudmayer@sba-research.org\"\n",
    "persist_participants_csv(out_file,out_fieldnames,cc_mail)"
   ]
  },
  {
   "cell_type": "code",
   "execution_count": 121,
   "metadata": {},
   "outputs": [
    {
     "name": "stdout",
     "output_type": "stream",
     "text": [
      "ppid,email,cc,attach,account\r",
      "\r\n",
      "1,ajudmayer@sba-research.org,ajudmayer@sba-research.org,/tmp/attach/032fcb0a1c233da1546d2242ce0b4c4a51118ec3.tar.gz,032fcb0a1c233da1546d2242ce0b4c4a51118ec3\r",
      "\r\n"
     ]
    }
   ],
   "source": [
    "!head -n2 $out_file"
   ]
  },
  {
   "cell_type": "code",
   "execution_count": 122,
   "metadata": {},
   "outputs": [
    {
     "name": "stdout",
     "output_type": "stream",
     "text": [
      "34 /smartenv/setup/generated_config//participants_meta.csv\r\n"
     ]
    }
   ],
   "source": [
    "!wc -l $out_file"
   ]
  },
  {
   "cell_type": "markdown",
   "metadata": {},
   "source": [
    "## Prepare mail"
   ]
  },
  {
   "cell_type": "code",
   "execution_count": 123,
   "metadata": {},
   "outputs": [
    {
     "data": {
      "text/plain": [
       "{'firstname': 'Aljosha',\n",
       " 'lastname': 'Judmayer',\n",
       " 'email': 'ajudmayer@sba-research.org',\n",
       " 'ppid': '1',\n",
       " 'account': '032fcb0a1c233da1546d2242ce0b4c4a51118ec3',\n",
       " 'filename': 'UTC--2021-06-29T11-42-22.127396867Z--032fcb0a1c233da1546d2242ce0b4c4a51118ec3',\n",
       " 'attach': '/tmp/attach/032fcb0a1c233da1546d2242ce0b4c4a51118ec3.tar.gz',\n",
       " 'seedbalance': 16000000000000000000,\n",
       " 'balance': 16000000000000000000,\n",
       " 'notawallet_tx': '0xea802a3e099044e80ede7b354b423f2b75cdcd840a3f78234ff13ec6509ca453',\n",
       " 'notawallet_seedvalue': 10000000000000000000,\n",
       " 'notawallet_addr': '0x5341d88F2CC84e9Ca4F420Fd70627C7669570375',\n",
       " 'notawallet_balance': 10000000000000000000,\n",
       " 'badparity_tx': '0xc60ca232c436df660340cec6cd946f18bf37d376b293cc209c191fb7b5536759',\n",
       " 'badparity_seedvalue': 30000000000000000000,\n",
       " 'badparity_addr': '0xc7253Ea7f8b505C74dC9b205a9a17FeFb77Ba817',\n",
       " 'badparity_lib': '0xfC97cd6Ac9edD2E5Db2B02Fa633456D79E2516A0',\n",
       " 'daodown_tx': '0x15f67653aaa299492e4796978c3227f05a3d8a075b2c660ab3bf32731572acee',\n",
       " 'daodown_seedvalue': 30000000000000000000,\n",
       " 'daodown_addr': '0x211b404D8B8252B92CA51b80f3Fd81D43A048Cda',\n",
       " 'daodown_balance': 30000000000000000000,\n",
       " 'faildice_tx': '0xd2dbfcc004cc6a18d0b28614e7d45b695770d09364405d863f3d8e30799b068d',\n",
       " 'faildice_seedvalue': 30000000000000000000,\n",
       " 'faildice_addr': '0x27C6ae9fdd0cC4A61763e3506f0F1A762a1810fC',\n",
       " 'faildice_balance': 30000000000000000000,\n",
       " 'login_token': 'tTVZ0yc41S9Ri45Q',\n",
       " 'cc': 'ajudmayer@sba-research.org'}"
      ]
     },
     "execution_count": 123,
     "metadata": {},
     "output_type": "execute_result"
    }
   ],
   "source": [
    "users_list[0]"
   ]
  },
  {
   "cell_type": "code",
   "execution_count": 124,
   "metadata": {},
   "outputs": [],
   "source": [
    "import os\n",
    "\n",
    "def dump_addresses(users,attach_path=GEN_CONFIG_PATH + \"/attach\"):\n",
    "    for u in users:\n",
    "        arg_dest = attach_path + \"/\" + u[\"account\"] + \"/\" + \"addresses\"\n",
    "        ch_string = \"notawallet_addr = \" + u[\"notawallet_addr\"]\n",
    "        !echo $ch_string >> $arg_dest\n",
    "        \n",
    "        ch_string = \"badparity_addr = \" + u[\"badparity_addr\"]\n",
    "        !echo $ch_string >> $arg_dest    \n",
    "        \n",
    "        ch_string = \"daodown_addr = \" + u[\"daodown_addr\"]\n",
    "        !echo $ch_string >> $arg_dest\n",
    "        \n",
    "        ch_string = \"faildice_addr = \" + u[\"faildice_addr\"]\n",
    "        !echo $ch_string >> $arg_dest\n",
    "        \n",
    "        arg_dest = attach_path + \"/\" + u[\"account\"] + \"/\" + \"login_token\"\n",
    "        ch_string = \"login_token = \" + u[\"login_token\"]\n",
    "        !echo $ch_string >> $arg_dest\n",
    "        \n",
    "        print(\".\",end=\"\")"
   ]
  },
  {
   "cell_type": "code",
   "execution_count": 125,
   "metadata": {},
   "outputs": [
    {
     "name": "stdout",
     "output_type": "stream",
     "text": [
      "................................."
     ]
    }
   ],
   "source": [
    "# write all addresses to folders \n",
    "dump_addresses(users_list,attach_path=GEN_CONFIG_PATH + \"/attach\")"
   ]
  },
  {
   "cell_type": "code",
   "execution_count": 126,
   "metadata": {},
   "outputs": [
    {
     "name": "stdout",
     "output_type": "stream",
     "text": [
      "/smartenv/setup/generated_config//attach/dfa41679d35235afc79907088d76977fecc37474/\n",
      "/smartenv/setup/generated_config//attach/56ba19f6813ff3939873eb529d4e12e0991e3a00/\n",
      "/smartenv/setup/generated_config//attach/93d88d905cdc33ffb5766c30e87d87be43ba1b0f/\n",
      "/smartenv/setup/generated_config//attach/f5ff9539dd171d351ee65d713a63989181b63df9/\n",
      "/smartenv/setup/generated_config//attach/bb872acc4ee3d07836e6cdafb15c8fc2f9dcaf63/\n",
      "/smartenv/setup/generated_config//attach/478c6cf7c49203e4c69fee138372f8731dee36e1/\n",
      "/smartenv/setup/generated_config//attach/d4a1e16aae7a5f75e212cc3805b644074666c235/\n",
      "/smartenv/setup/generated_config//attach/d305c767e93b6c714e8787bc0805cb10a5f1eb94/\n",
      "/smartenv/setup/generated_config//attach/f7c4f0fa72f6376cde89984109bd6d75e73e8f24/\n",
      "/smartenv/setup/generated_config//attach/beb57567e5a962451e8433618f787eca7e695cf5/\n",
      "/smartenv/setup/generated_config//attach/836afc53b26c45aa67850b9729dbad5d1f53f1b1/\n",
      "/smartenv/setup/generated_config//attach/fe3ebfca70a4b1ced2f560950d6a447a5985e794/\n",
      "/smartenv/setup/generated_config//attach/1375859c41590c8ad41f1ff086e3d4bb8f5ea1d9/\n",
      "/smartenv/setup/generated_config//attach/444784d647553ca39ba6ccc64d7fe2a8119d6ec1/\n",
      "/smartenv/setup/generated_config//attach/3023be53e136512c85150a52e75d7f313a3fdfd7/\n",
      "/smartenv/setup/generated_config//attach/3a31c13bb0fcee354ab96fb18fcd93d248589a23/\n",
      "/smartenv/setup/generated_config//attach/032fcb0a1c233da1546d2242ce0b4c4a51118ec3/\n",
      "/smartenv/setup/generated_config//attach/ff50cb1bf595f27179437789c1c5086171f34b2e/\n",
      "/smartenv/setup/generated_config//attach/d4950bc19a01750b370e53ace9333e488553217c/\n",
      "/smartenv/setup/generated_config//attach/ef4fc1fe1755ab8426c1b1eed7a4fe0fa396bdf6/\n",
      "/smartenv/setup/generated_config//attach/1751ef109cc7bbde6095dd361478538a5e26e28a/\n",
      "/smartenv/setup/generated_config//attach/4c2cc122018b1b1ffb0d7bd91bbd01c6dbf3f81d/\n",
      "/smartenv/setup/generated_config//attach/c8d372d4420a66cb8a307a8e134d245fb2c41d30/\n",
      "/smartenv/setup/generated_config//attach/252ffecc8103bddf0e992a8e36a0f000af228323/\n",
      "/smartenv/setup/generated_config//attach/1dd90a6a874580a12dbe52747a916b9a0bf070b2/\n",
      "/smartenv/setup/generated_config//attach/7286330b9c1ad628a4fd56c9f9618a166ea61d0c/\n",
      "/smartenv/setup/generated_config//attach/ec5c28289c8322b6e93e22c3061567f99f7a4a09/\n",
      "/smartenv/setup/generated_config//attach/4d2d745e0adf2ca7883984940f2fd4a62d08df0b/\n",
      "/smartenv/setup/generated_config//attach/df77d28fb8f779019c41e76b075773250b2b00f8/\n",
      "/smartenv/setup/generated_config//attach/c073653758d88bac89358f4769f5ab931f6430bf/\n",
      "/smartenv/setup/generated_config//attach/8caaa8961eb9f7aef0b378dc5182d26ce5eaed2f/\n",
      "/smartenv/setup/generated_config//attach/420d2b47ba8464323550beb6dbf1b4eded28b144/\n",
      "/smartenv/setup/generated_config//attach/17d5e77c01412b28f5d7a73085a7c2bd3c0aa911/\n"
     ]
    }
   ],
   "source": [
    "# copy general information i.e., datadir to individual folders\n",
    "source_path=GLOBAL_INFO_PATH\n",
    "attach_path=GEN_CONFIG_PATH + \"/attach\"\n",
    "challenge_name=\"\"\n",
    "copy_challenge_metadata(users_list,source_path,challenge_name,attach_path)"
   ]
  },
  {
   "cell_type": "code",
   "execution_count": 127,
   "metadata": {},
   "outputs": [],
   "source": [
    "# create archives\n",
    "import os\n",
    "\n",
    "def create_user_archives(users,attach_path=GEN_CONFIG_PATH + \"/attach\",attach_tgz=GEN_CONFIG_PATH + \"/attach_tgz\"):\n",
    "    !mkdir -p $attach_tgz\n",
    "    for d in os.listdir(attach_path):\n",
    "        #print(d)\n",
    "        if os.path.isdir(os.path.join(attach_path, d)):\n",
    "            #print(d)\n",
    "            arg_src_dir = attach_path + \"/\" + d \n",
    "            arg_dst_dir = attach_tgz + \"/\" + d + \".tar.gz\"\n",
    "            print(arg_dst_dir)\n",
    "            #With verbose output:\n",
    "            #!tar -cvzf $arg_dst_dir -C $arg_src_dir . \n",
    "            #Without verbose output\n",
    "            !tar -czf $arg_dst_dir -C $arg_src_dir . "
   ]
  },
  {
   "cell_type": "code",
   "execution_count": 128,
   "metadata": {},
   "outputs": [
    {
     "name": "stdout",
     "output_type": "stream",
     "text": [
      "/smartenv/setup/generated_config//attach_tgz/dfa41679d35235afc79907088d76977fecc37474.tar.gz\n",
      "/smartenv/setup/generated_config//attach_tgz/56ba19f6813ff3939873eb529d4e12e0991e3a00.tar.gz\n",
      "/smartenv/setup/generated_config//attach_tgz/93d88d905cdc33ffb5766c30e87d87be43ba1b0f.tar.gz\n",
      "/smartenv/setup/generated_config//attach_tgz/f5ff9539dd171d351ee65d713a63989181b63df9.tar.gz\n",
      "/smartenv/setup/generated_config//attach_tgz/bb872acc4ee3d07836e6cdafb15c8fc2f9dcaf63.tar.gz\n",
      "/smartenv/setup/generated_config//attach_tgz/478c6cf7c49203e4c69fee138372f8731dee36e1.tar.gz\n",
      "/smartenv/setup/generated_config//attach_tgz/d4a1e16aae7a5f75e212cc3805b644074666c235.tar.gz\n",
      "/smartenv/setup/generated_config//attach_tgz/d305c767e93b6c714e8787bc0805cb10a5f1eb94.tar.gz\n",
      "/smartenv/setup/generated_config//attach_tgz/f7c4f0fa72f6376cde89984109bd6d75e73e8f24.tar.gz\n",
      "/smartenv/setup/generated_config//attach_tgz/beb57567e5a962451e8433618f787eca7e695cf5.tar.gz\n",
      "/smartenv/setup/generated_config//attach_tgz/836afc53b26c45aa67850b9729dbad5d1f53f1b1.tar.gz\n",
      "/smartenv/setup/generated_config//attach_tgz/fe3ebfca70a4b1ced2f560950d6a447a5985e794.tar.gz\n",
      "/smartenv/setup/generated_config//attach_tgz/1375859c41590c8ad41f1ff086e3d4bb8f5ea1d9.tar.gz\n",
      "/smartenv/setup/generated_config//attach_tgz/444784d647553ca39ba6ccc64d7fe2a8119d6ec1.tar.gz\n",
      "/smartenv/setup/generated_config//attach_tgz/3023be53e136512c85150a52e75d7f313a3fdfd7.tar.gz\n",
      "/smartenv/setup/generated_config//attach_tgz/3a31c13bb0fcee354ab96fb18fcd93d248589a23.tar.gz\n",
      "/smartenv/setup/generated_config//attach_tgz/032fcb0a1c233da1546d2242ce0b4c4a51118ec3.tar.gz\n",
      "/smartenv/setup/generated_config//attach_tgz/ff50cb1bf595f27179437789c1c5086171f34b2e.tar.gz\n",
      "/smartenv/setup/generated_config//attach_tgz/d4950bc19a01750b370e53ace9333e488553217c.tar.gz\n",
      "/smartenv/setup/generated_config//attach_tgz/ef4fc1fe1755ab8426c1b1eed7a4fe0fa396bdf6.tar.gz\n",
      "/smartenv/setup/generated_config//attach_tgz/1751ef109cc7bbde6095dd361478538a5e26e28a.tar.gz\n",
      "/smartenv/setup/generated_config//attach_tgz/4c2cc122018b1b1ffb0d7bd91bbd01c6dbf3f81d.tar.gz\n",
      "/smartenv/setup/generated_config//attach_tgz/c8d372d4420a66cb8a307a8e134d245fb2c41d30.tar.gz\n",
      "/smartenv/setup/generated_config//attach_tgz/252ffecc8103bddf0e992a8e36a0f000af228323.tar.gz\n",
      "/smartenv/setup/generated_config//attach_tgz/1dd90a6a874580a12dbe52747a916b9a0bf070b2.tar.gz\n",
      "/smartenv/setup/generated_config//attach_tgz/7286330b9c1ad628a4fd56c9f9618a166ea61d0c.tar.gz\n",
      "/smartenv/setup/generated_config//attach_tgz/ec5c28289c8322b6e93e22c3061567f99f7a4a09.tar.gz\n",
      "/smartenv/setup/generated_config//attach_tgz/4d2d745e0adf2ca7883984940f2fd4a62d08df0b.tar.gz\n",
      "/smartenv/setup/generated_config//attach_tgz/df77d28fb8f779019c41e76b075773250b2b00f8.tar.gz\n",
      "/smartenv/setup/generated_config//attach_tgz/c073653758d88bac89358f4769f5ab931f6430bf.tar.gz\n",
      "/smartenv/setup/generated_config//attach_tgz/8caaa8961eb9f7aef0b378dc5182d26ce5eaed2f.tar.gz\n",
      "/smartenv/setup/generated_config//attach_tgz/420d2b47ba8464323550beb6dbf1b4eded28b144.tar.gz\n",
      "/smartenv/setup/generated_config//attach_tgz/17d5e77c01412b28f5d7a73085a7c2bd3c0aa911.tar.gz\n"
     ]
    }
   ],
   "source": [
    "attach_path=GEN_CONFIG_PATH + \"/attach\"\n",
    "attach_tgz=GEN_CONFIG_PATH + \"/attach_tgz\"\n",
    "create_user_archives(users_list,attach_path,attach_tgz)"
   ]
  },
  {
   "cell_type": "raw",
   "metadata": {},
   "source": [
    "\n",
    "Switch to desktop computer \n",
    "\n",
    "$ cp -r attach_tgz /tmp/attach/\n",
    "\n",
    "or search replace \"./\" from `....csv` with the absolute path. \n",
    "Something like:\n",
    "`:%s/\\.\\//\\/home...\\//gci`\n",
    "\n",
    "Then, use *mailmerge* to send mails based on this .csv file\n",
    "\n",
    "https://addons.mozilla.org/en-US/thunderbird/addon/mail-merge/\n",
    "\n",
    "Short description:\n",
    "Add `{{email}}` in the `To:` field of the message.\n",
    "then select `File->Mail Merge` specify that you want to use the path\n",
    "in the colum `attach` as attachment and `Send Later` so that it is first in the \n",
    "Outgoing folder to double check the mails. \n",
    "If there are encoding errors, drop all colums distpite email and attach using:\n",
    "`cut -d\",\" -f4,6 grading.csv > grading_trunc.csv"
   ]
  },
  {
   "cell_type": "markdown",
   "metadata": {},
   "source": [
    "## Test loading a key"
   ]
  },
  {
   "cell_type": "code",
   "execution_count": null,
   "metadata": {},
   "outputs": [],
   "source": [
    "#w3.eth.accounts"
   ]
  },
  {
   "cell_type": "code",
   "execution_count": null,
   "metadata": {},
   "outputs": [],
   "source": [
    "#w3.geth.personal.unlockAccount(w3.eth.accounts[3],\"INSERT\",0)"
   ]
  },
  {
   "cell_type": "code",
   "execution_count": null,
   "metadata": {},
   "outputs": [],
   "source": [
    "#w3.fromWei(w3.eth.getBalance(w3.eth.accounts[3]),'ether')"
   ]
  },
  {
   "cell_type": "markdown",
   "metadata": {},
   "source": [
    "## Load Participants again and attach meta data"
   ]
  },
  {
   "cell_type": "code",
   "execution_count": 142,
   "metadata": {},
   "outputs": [],
   "source": [
    "import json\n",
    "\n",
    "def load_users(path):\n",
    "    with open(path,'r') as f_input:\n",
    "        return json.load(f_input)"
   ]
  },
  {
   "cell_type": "code",
   "execution_count": 143,
   "metadata": {},
   "outputs": [
    {
     "data": {
      "text/plain": [
       "{'firstname': 'Aljosha',\n",
       " 'lastname': 'Judmayer',\n",
       " 'email': 'ajudmayer@sba-research.org',\n",
       " 'ppid': '1',\n",
       " 'account': '032fcb0a1c233da1546d2242ce0b4c4a51118ec3',\n",
       " 'filename': 'UTC--2021-06-29T11-42-22.127396867Z--032fcb0a1c233da1546d2242ce0b4c4a51118ec3',\n",
       " 'attach': '/tmp/attach/032fcb0a1c233da1546d2242ce0b4c4a51118ec3.tar.gz',\n",
       " 'seedbalance': 16000000000000000000,\n",
       " 'balance': 16000000000000000000,\n",
       " 'notawallet_tx': '0x7f0cf6b9f07eaebd7ec993fb4491124b72a3d7a190996d4cda9bd32830a19fdb',\n",
       " 'notawallet_seedvalue': 10000000000000000000,\n",
       " 'notawallet_addr': '0x5341d88F2CC84e9Ca4F420Fd70627C7669570375',\n",
       " 'notawallet_balance': 10000000000000000000,\n",
       " 'badparity_tx': '0xa5ea7d38113b5adea43b1606a3ebadbcc941b8b097a8806a47ec913c12e262c5',\n",
       " 'badparity_seedvalue': 30000000000000000000,\n",
       " 'badparity_addr': '0xc7253Ea7f8b505C74dC9b205a9a17FeFb77Ba817',\n",
       " 'badparity_lib': '0xfC97cd6Ac9edD2E5Db2B02Fa633456D79E2516A0',\n",
       " 'daodown_tx': '0x9d78225045da97854620fc64f362ccd7d5b01a157368485649f6b8d7e0eb3858',\n",
       " 'daodown_seedvalue': 30000000000000000000,\n",
       " 'daodown_addr': '0x211b404D8B8252B92CA51b80f3Fd81D43A048Cda',\n",
       " 'daodown_balance': 30000000000000000000,\n",
       " 'faildice_tx': '0xe292be772822aa8d5ce98791a7b3e853e9fc65d210224c3f8d7f8ec43603478e',\n",
       " 'faildice_seedvalue': 30000000000000000000,\n",
       " 'faildice_addr': '0x27C6ae9fdd0cC4A61763e3506f0F1A762a1810fC',\n",
       " 'faildice_balance': 30000000000000000000,\n",
       " 'login_token': 'tTVZ0yc41S9Ri45Q'}"
      ]
     },
     "execution_count": 143,
     "metadata": {},
     "output_type": "execute_result"
    }
   ],
   "source": [
    "users_loaded = load_users(GEN_CONFIG_PATH + \"/participants_meta.json\")\n",
    "users_loaded[0]"
   ]
  },
  {
   "cell_type": "code",
   "execution_count": null,
   "metadata": {},
   "outputs": [],
   "source": []
  }
 ],
 "metadata": {
  "kernelspec": {
   "display_name": "Python 3",
   "language": "python",
   "name": "python3"
  },
  "language_info": {
   "codemirror_mode": {
    "name": "ipython",
    "version": 3
   },
   "file_extension": ".py",
   "mimetype": "text/x-python",
   "name": "python",
   "nbconvert_exporter": "python",
   "pygments_lexer": "ipython3",
   "version": "3.8.5"
  }
 },
 "nbformat": 4,
 "nbformat_minor": 2
}
